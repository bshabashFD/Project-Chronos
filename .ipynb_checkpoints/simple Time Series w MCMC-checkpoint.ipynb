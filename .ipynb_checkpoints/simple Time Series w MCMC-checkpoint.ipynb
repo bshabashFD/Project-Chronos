{
 "cells": [
  {
   "cell_type": "code",
   "execution_count": 3,
   "metadata": {},
   "outputs": [
    {
     "name": "stderr",
     "output_type": "stream",
     "text": [
      "<frozen importlib._bootstrap>:219: RuntimeWarning: numpy.ufunc size changed, may indicate binary incompatibility. Expected 192 from C header, got 216 from PyObject\n"
     ]
    }
   ],
   "source": [
    "import math\n",
    "import numpy as np\n",
    "import pandas as pd\n",
    "import matplotlib.pyplot as plt\n",
    "%matplotlib inline\n",
    "\n",
    "import torch\n",
    "\n"
   ]
  },
  {
   "cell_type": "markdown",
   "metadata": {},
   "source": [
    "## Make up time series\n",
    "\n",
    "$$y = 0 + 0.01t + 0.4sin(1\\times\\frac{2\\pi t}{7}) + 0.2cos(1\\times\\frac{2\\pi t}{7}) + 0.1sin(2\\times\\frac{2\\pi t}{7}) + 0.3cos(2\\times\\frac{2\\pi t}{7}) + 0.5sin(3\\times\\frac{2\\pi t}{7}) + 0.7cos(3\\times\\frac{2\\pi t}{7})$$\n",
    "\n",
    "$$\\text{coefficients} = [0, 0.01, 0.4, 0.2, 0.1, 0.3, 0.5, 0.2]$$"
   ]
  },
  {
   "cell_type": "code",
   "execution_count": 46,
   "metadata": {},
   "outputs": [],
   "source": [
    "ds = pd.date_range(start='2010-01-01', end='2020-01-01').values\n",
    "t = ds.astype(int)/(60*60*24*1e9)\n",
    "t_weekly = 2*math.pi*t/7\n",
    "\n",
    "y = 0.01*t \n",
    "#y += 0.4*np.sin(1*t_weekly)+0.2*np.cos(1*t_weekly)\n",
    "#y += 0.10*np.sin(2*t_weekly)+0.3*np.cos(2*t_weekly)\n",
    "#y += 0.5*np.sin(3*t_weekly)+0.2*np.cos(3*t_weekly)"
   ]
  },
  {
   "cell_type": "code",
   "execution_count": 47,
   "metadata": {},
   "outputs": [
    {
     "data": {
      "text/html": [
       "<div>\n",
       "<style scoped>\n",
       "    .dataframe tbody tr th:only-of-type {\n",
       "        vertical-align: middle;\n",
       "    }\n",
       "\n",
       "    .dataframe tbody tr th {\n",
       "        vertical-align: top;\n",
       "    }\n",
       "\n",
       "    .dataframe thead th {\n",
       "        text-align: right;\n",
       "    }\n",
       "</style>\n",
       "<table border=\"1\" class=\"dataframe\">\n",
       "  <thead>\n",
       "    <tr style=\"text-align: right;\">\n",
       "      <th></th>\n",
       "      <th>ds</th>\n",
       "      <th>y</th>\n",
       "    </tr>\n",
       "  </thead>\n",
       "  <tbody>\n",
       "    <tr>\n",
       "      <th>0</th>\n",
       "      <td>2010-01-01</td>\n",
       "      <td>146.10</td>\n",
       "    </tr>\n",
       "    <tr>\n",
       "      <th>1</th>\n",
       "      <td>2010-01-02</td>\n",
       "      <td>146.11</td>\n",
       "    </tr>\n",
       "    <tr>\n",
       "      <th>2</th>\n",
       "      <td>2010-01-03</td>\n",
       "      <td>146.12</td>\n",
       "    </tr>\n",
       "    <tr>\n",
       "      <th>3</th>\n",
       "      <td>2010-01-04</td>\n",
       "      <td>146.13</td>\n",
       "    </tr>\n",
       "    <tr>\n",
       "      <th>4</th>\n",
       "      <td>2010-01-05</td>\n",
       "      <td>146.14</td>\n",
       "    </tr>\n",
       "  </tbody>\n",
       "</table>\n",
       "</div>"
      ],
      "text/plain": [
       "          ds       y\n",
       "0 2010-01-01  146.10\n",
       "1 2010-01-02  146.11\n",
       "2 2010-01-03  146.12\n",
       "3 2010-01-04  146.13\n",
       "4 2010-01-05  146.14"
      ]
     },
     "execution_count": 47,
     "metadata": {},
     "output_type": "execute_result"
    }
   ],
   "source": [
    "data = pd.DataFrame({\"ds\": ds, \"y\":y})\n",
    "data.head()"
   ]
  },
  {
   "cell_type": "code",
   "execution_count": 48,
   "metadata": {},
   "outputs": [
    {
     "data": {
      "image/png": "[encoded data removed]",
      "text/plain": [
       "<Figure size 1080x360 with 1 Axes>"
      ]
     },
     "metadata": {
      "needs_background": "light"
     },
     "output_type": "display_data"
    }
   ],
   "source": [
    "plt.figure(figsize=(15,5))\n",
    "plt.plot(ds[-365:], y[-365:])\n",
    "plt.show()"
   ]
  },
  {
   "cell_type": "code",
   "execution_count": 51,
   "metadata": {},
   "outputs": [
    {
     "data": {
      "text/html": [
       "<div>\n",
       "<style scoped>\n",
       "    .dataframe tbody tr th:only-of-type {\n",
       "        vertical-align: middle;\n",
       "    }\n",
       "\n",
       "    .dataframe tbody tr th {\n",
       "        vertical-align: top;\n",
       "    }\n",
       "\n",
       "    .dataframe thead th {\n",
       "        text-align: right;\n",
       "    }\n",
       "</style>\n",
       "<table border=\"1\" class=\"dataframe\">\n",
       "  <thead>\n",
       "    <tr style=\"text-align: right;\">\n",
       "      <th></th>\n",
       "      <th>y</th>\n",
       "      <th>ts</th>\n",
       "    </tr>\n",
       "  </thead>\n",
       "  <tbody>\n",
       "    <tr>\n",
       "      <th>0</th>\n",
       "      <td>146.10</td>\n",
       "      <td>14610.0</td>\n",
       "    </tr>\n",
       "    <tr>\n",
       "      <th>1</th>\n",
       "      <td>146.11</td>\n",
       "      <td>14611.0</td>\n",
       "    </tr>\n",
       "    <tr>\n",
       "      <th>2</th>\n",
       "      <td>146.12</td>\n",
       "      <td>14612.0</td>\n",
       "    </tr>\n",
       "    <tr>\n",
       "      <th>3</th>\n",
       "      <td>146.13</td>\n",
       "      <td>14613.0</td>\n",
       "    </tr>\n",
       "    <tr>\n",
       "      <th>4</th>\n",
       "      <td>146.14</td>\n",
       "      <td>14614.0</td>\n",
       "    </tr>\n",
       "  </tbody>\n",
       "</table>\n",
       "</div>"
      ],
      "text/plain": [
       "        y       ts\n",
       "0  146.10  14610.0\n",
       "1  146.11  14611.0\n",
       "2  146.12  14612.0\n",
       "3  146.13  14613.0\n",
       "4  146.14  14614.0"
      ]
     },
     "execution_count": 51,
     "metadata": {},
     "output_type": "execute_result"
    }
   ],
   "source": [
    "X = data.copy()\n",
    "X.loc[: ,'ts'] = X['ds'].astype(np.int64)/(60*60*24*1e9)\n",
    "\n",
    "#for o in range(1, 4):\n",
    "#    X.loc[:, f'w_sin_{o}'] = np.sin(2*math.pi*o*X['ts']/7)\n",
    "#    X.loc[:, f'w_cos_{o}'] = np.cos(2*math.pi*o*X['ts']/7)\n",
    "\n",
    "X = X.drop('ds', axis=1)\n",
    "X.head()"
   ]
  },
  {
   "cell_type": "code",
   "execution_count": 52,
   "metadata": {},
   "outputs": [
    {
     "data": {
      "text/html": [
       "<div>\n",
       "<style scoped>\n",
       "    .dataframe tbody tr th:only-of-type {\n",
       "        vertical-align: middle;\n",
       "    }\n",
       "\n",
       "    .dataframe tbody tr th {\n",
       "        vertical-align: top;\n",
       "    }\n",
       "\n",
       "    .dataframe thead th {\n",
       "        text-align: right;\n",
       "    }\n",
       "</style>\n",
       "<table border=\"1\" class=\"dataframe\">\n",
       "  <thead>\n",
       "    <tr style=\"text-align: right;\">\n",
       "      <th></th>\n",
       "      <th>y</th>\n",
       "    </tr>\n",
       "  </thead>\n",
       "  <tbody>\n",
       "    <tr>\n",
       "      <th>0</th>\n",
       "      <td>146.10</td>\n",
       "    </tr>\n",
       "    <tr>\n",
       "      <th>1</th>\n",
       "      <td>146.11</td>\n",
       "    </tr>\n",
       "    <tr>\n",
       "      <th>2</th>\n",
       "      <td>146.12</td>\n",
       "    </tr>\n",
       "    <tr>\n",
       "      <th>3</th>\n",
       "      <td>146.13</td>\n",
       "    </tr>\n",
       "    <tr>\n",
       "      <th>4</th>\n",
       "      <td>146.14</td>\n",
       "    </tr>\n",
       "  </tbody>\n",
       "</table>\n",
       "</div>"
      ],
      "text/plain": [
       "        y\n",
       "0  146.10\n",
       "1  146.11\n",
       "2  146.12\n",
       "3  146.13\n",
       "4  146.14"
      ]
     },
     "metadata": {},
     "output_type": "display_data"
    },
    {
     "data": {
      "text/html": [
       "<div>\n",
       "<style scoped>\n",
       "    .dataframe tbody tr th:only-of-type {\n",
       "        vertical-align: middle;\n",
       "    }\n",
       "\n",
       "    .dataframe tbody tr th {\n",
       "        vertical-align: top;\n",
       "    }\n",
       "\n",
       "    .dataframe thead th {\n",
       "        text-align: right;\n",
       "    }\n",
       "</style>\n",
       "<table border=\"1\" class=\"dataframe\">\n",
       "  <thead>\n",
       "    <tr style=\"text-align: right;\">\n",
       "      <th></th>\n",
       "      <th>ts</th>\n",
       "    </tr>\n",
       "  </thead>\n",
       "  <tbody>\n",
       "    <tr>\n",
       "      <th>0</th>\n",
       "      <td>14610.0</td>\n",
       "    </tr>\n",
       "    <tr>\n",
       "      <th>1</th>\n",
       "      <td>14611.0</td>\n",
       "    </tr>\n",
       "    <tr>\n",
       "      <th>2</th>\n",
       "      <td>14612.0</td>\n",
       "    </tr>\n",
       "    <tr>\n",
       "      <th>3</th>\n",
       "      <td>14613.0</td>\n",
       "    </tr>\n",
       "    <tr>\n",
       "      <th>4</th>\n",
       "      <td>14614.0</td>\n",
       "    </tr>\n",
       "  </tbody>\n",
       "</table>\n",
       "</div>"
      ],
      "text/plain": [
       "        ts\n",
       "0  14610.0\n",
       "1  14611.0\n",
       "2  14612.0\n",
       "3  14613.0\n",
       "4  14614.0"
      ]
     },
     "metadata": {},
     "output_type": "display_data"
    }
   ],
   "source": [
    "y = X[['y']]\n",
    "X = X.drop('y', axis=1)\n",
    "\n",
    "\n",
    "display(y.head())\n",
    "display(X.head())"
   ]
  },
  {
   "cell_type": "code",
   "execution_count": 53,
   "metadata": {},
   "outputs": [],
   "source": [
    "X_data = torch.from_numpy(X.values.astype(np.float32))\n",
    "y_data = torch.from_numpy(y.values.astype(np.float32))"
   ]
  },
  {
   "cell_type": "code",
   "execution_count": 57,
   "metadata": {},
   "outputs": [],
   "source": [
    "import pyro\n",
    "import pyro.distributions as dist\n",
    "\n",
    "def model(X, y=None):\n",
    "    beta_0 = pyro.sample(\"beta_0\", dist.Normal(0.0, 10.0))\n",
    "    beta_1 = pyro.sample(\"beta_1\", dist.Normal(0.0, 1.0))\n",
    "    '''beta_2 = pyro.sample(\"beta_2\", dist.Normal(0.0, 1.0))\n",
    "    beta_3 = pyro.sample(\"beta_3\", dist.Normal(0.0, 1.0))\n",
    "    beta_4 = pyro.sample(\"beta_4\", dist.Normal(0.0, 1.0))\n",
    "    beta_5 = pyro.sample(\"beta_5\", dist.Normal(0.0, 1.0))\n",
    "    beta_6 = pyro.sample(\"beta_6\", dist.Normal(0.0, 1.0))\n",
    "    beta_7 = pyro.sample(\"beta_7\", dist.Normal(0.0, 1.0))#'''\n",
    "    \n",
    "    \n",
    "    \n",
    "    mean = beta_0 + (beta_1 * X[:, 0])\n",
    "    #mean += beta_2 * X[:, 2] + beta_3 *X[:, 3]\n",
    "    #mean += beta_4 * X[:, 4] + beta_5 *X[:, 5]\n",
    "    #mean += beta_6 * X[:, 6] + beta_7 *X[:, 7]\n",
    "    \n",
    "    sigma = pyro.sample(\"sigma\", dist.Uniform(0.0, 10.0))\n",
    "    \n",
    "    with pyro.plate(\"data\", X.shape[0]):\n",
    "        obs = pyro.sample(\"obs\", dist.Normal(mean, sigma), obs=y)\n",
    "        \n",
    "    return mean"
   ]
  },
  {
   "cell_type": "code",
   "execution_count": 58,
   "metadata": {},
   "outputs": [],
   "source": [
    "from torch.distributions import constraints\n",
    "def my_guide(X, y):\n",
    "    beta_0_loc, beta_0_scale = pyro.param('beta_0_loc', \n",
    "                                          torch.tensor(0.0)), \\\n",
    "                               pyro.param('beta_0_scale', \n",
    "                                          torch.tensor(1.0),\n",
    "                                          constraint=constraints.positive)\n",
    "    \n",
    "    beta_1_loc, beta_1_scale = pyro.param('beta_1_loc', \n",
    "                                          torch.tensor(0.0)), \\\n",
    "                               pyro.param('beta_1_scale', \n",
    "                                          torch.tensor(1.0),\n",
    "                                          constraint=constraints.positive)\n",
    "    '''beta_2_loc, beta_2_scale = pyro.param('beta_2_loc', \n",
    "                                          torch.tensor(0.0)), \\\n",
    "                               pyro.param('beta_2_scale', \n",
    "                                          torch.tensor(1.0),\n",
    "                                          constraint=constraints.positive)\n",
    "    beta_3_loc, beta_3_scale = pyro.param('beta_3_loc', \n",
    "                                          torch.tensor(0.0)), \\\n",
    "                               pyro.param('beta_3_scale', \n",
    "                                          torch.tensor(1.0),\n",
    "                                          constraint=constraints.positive)\n",
    "    beta_4_loc, beta_4_scale = pyro.param('beta_4_loc', \n",
    "                                          torch.tensor(0.0)), \\\n",
    "                               pyro.param('beta_4_scale', \n",
    "                                          torch.tensor(1.0),\n",
    "                                          constraint=constraints.positive)\n",
    "    beta_5_loc, beta_5_scale = pyro.param('beta_5_loc', \n",
    "                                          torch.tensor(0.0)), \\\n",
    "                               pyro.param('beta_5_scale', \n",
    "                                          torch.tensor(1.0),\n",
    "                                          constraint=constraints.positive)\n",
    "    beta_6_loc, beta_6_scale = pyro.param('beta_6_loc', \n",
    "                                          torch.tensor(0.0)), \\\n",
    "                               pyro.param('beta_6_scale', \n",
    "                                          torch.tensor(1.0),\n",
    "                                          constraint=constraints.positive)\n",
    "    beta_7_loc, beta_7_scale = pyro.param('beta_7_loc', \n",
    "                                          torch.tensor(0.0)), \\\n",
    "                               pyro.param('beta_7_scale', \n",
    "                                          torch.tensor(1.0),\n",
    "                                          constraint=constraints.positive)#'''\n",
    "    \n",
    "    sigma_loc = pyro.param('sigma_loc', torch.tensor(1.),\n",
    "                             constraint=constraints.positive)\n",
    "    \n",
    "    \n",
    "    beta_0 = pyro.sample(\"beta_0\", dist.Normal(beta_0_loc, beta_0_scale))\n",
    "    beta_1 = pyro.sample(\"beta_1\", dist.Normal(beta_1_loc, beta_1_scale))\n",
    "    #beta_2 = pyro.sample(\"beta_2\", dist.Normal(beta_2_loc, beta_2_scale))\n",
    "    #beta_3 = pyro.sample(\"beta_3\", dist.Normal(beta_3_loc, beta_3_scale))\n",
    "    #beta_4 = pyro.sample(\"beta_4\", dist.Normal(beta_4_loc, beta_4_scale))\n",
    "    #beta_5 = pyro.sample(\"beta_5\", dist.Normal(beta_5_loc, beta_5_scale))\n",
    "    #beta_6 = pyro.sample(\"beta_6\", dist.Normal(beta_6_loc, beta_6_scale))\n",
    "    #beta_7 = pyro.sample(\"beta_7\", dist.Normal(beta_7_loc, beta_7_scale))\n",
    "    \n",
    "    sigma = pyro.sample(\"sigma\", dist.Normal(sigma_loc, torch.tensor(0.05)))\n",
    "    \n",
    "    \n",
    "    mean = beta_0 + (beta_1 * X[:, 0])\n",
    "    #mean += beta_2 * X[:, 2] + beta_3 *X[:, 3]\n",
    "    #mean += beta_4 * X[:, 4] + beta_5 *X[:, 5]\n",
    "    #mean += beta_6 * X[:, 6] + beta_7 *X[:, 7]\n",
    "    "
   ]
  },
  {
   "cell_type": "code",
   "execution_count": null,
   "metadata": {},
   "outputs": [],
   "source": []
  },
  {
   "cell_type": "code",
   "execution_count": 60,
   "metadata": {},
   "outputs": [
    {
     "name": "stdout",
     "output_type": "stream",
     "text": [
      "[iteration 0001] loss: 5258635335.2031\n",
      "[iteration 0101] loss: 4212319241.8130\n",
      "[iteration 0201] loss: 2174689071.4462\n",
      "[iteration 0301] loss: 413682212.8644\n",
      "[iteration 0401] loss: 36045246.2676\n",
      "[iteration 0501] loss: 392700969.2091\n",
      "[iteration 0601] loss: 84782871.8990\n",
      "[iteration 0701] loss: 570466.8492\n",
      "[iteration 0801] loss: 10385239.2514\n"
     ]
    },
    {
     "ename": "KeyboardInterrupt",
     "evalue": "",
     "output_type": "error",
     "traceback": [
      "\u001b[0;31m---------------------------------------------------------------------------\u001b[0m",
      "\u001b[0;31mKeyboardInterrupt\u001b[0m                         Traceback (most recent call last)",
      "\u001b[0;32m<ipython-input-60-823aa9a89b7e>\u001b[0m in \u001b[0;36m<module>\u001b[0;34m\u001b[0m\n\u001b[1;32m     17\u001b[0m \u001b[0;32mfor\u001b[0m \u001b[0mepoch\u001b[0m \u001b[0;32min\u001b[0m \u001b[0mrange\u001b[0m\u001b[0;34m(\u001b[0m\u001b[0mepochs\u001b[0m\u001b[0;34m)\u001b[0m\u001b[0;34m:\u001b[0m\u001b[0;34m\u001b[0m\u001b[0;34m\u001b[0m\u001b[0m\n\u001b[1;32m     18\u001b[0m     \u001b[0;31m# calculate the loss and take a gradient step\u001b[0m\u001b[0;34m\u001b[0m\u001b[0;34m\u001b[0m\u001b[0;34m\u001b[0m\u001b[0m\n\u001b[0;32m---> 19\u001b[0;31m     \u001b[0mloss\u001b[0m \u001b[0;34m=\u001b[0m \u001b[0minference\u001b[0m\u001b[0;34m.\u001b[0m\u001b[0mstep\u001b[0m\u001b[0;34m(\u001b[0m\u001b[0mX_data\u001b[0m\u001b[0;34m,\u001b[0m \u001b[0my_data\u001b[0m\u001b[0;34m)\u001b[0m\u001b[0;34m\u001b[0m\u001b[0;34m\u001b[0m\u001b[0m\n\u001b[0m\u001b[1;32m     20\u001b[0m     \u001b[0mnormalized_loss\u001b[0m \u001b[0;34m=\u001b[0m \u001b[0mloss\u001b[0m\u001b[0;34m/\u001b[0m\u001b[0mX_data\u001b[0m\u001b[0;34m.\u001b[0m\u001b[0mshape\u001b[0m\u001b[0;34m[\u001b[0m\u001b[0;36m0\u001b[0m\u001b[0;34m]\u001b[0m\u001b[0;34m\u001b[0m\u001b[0;34m\u001b[0m\u001b[0m\n\u001b[1;32m     21\u001b[0m     \u001b[0;32mif\u001b[0m \u001b[0;34m(\u001b[0m\u001b[0mepoch\u001b[0m \u001b[0;34m%\u001b[0m \u001b[0;36m100\u001b[0m \u001b[0;34m==\u001b[0m \u001b[0;36m0\u001b[0m\u001b[0;34m)\u001b[0m\u001b[0;34m:\u001b[0m\u001b[0;34m\u001b[0m\u001b[0;34m\u001b[0m\u001b[0m\n",
      "\u001b[0;32m/anaconda3/envs/pyroenv/lib/python3.8/site-packages/pyro/infer/svi.py\u001b[0m in \u001b[0;36mstep\u001b[0;34m(self, *args, **kwargs)\u001b[0m\n\u001b[1;32m    126\u001b[0m         \u001b[0;31m# get loss and compute gradients\u001b[0m\u001b[0;34m\u001b[0m\u001b[0;34m\u001b[0m\u001b[0;34m\u001b[0m\u001b[0m\n\u001b[1;32m    127\u001b[0m         \u001b[0;32mwith\u001b[0m \u001b[0mpoutine\u001b[0m\u001b[0;34m.\u001b[0m\u001b[0mtrace\u001b[0m\u001b[0;34m(\u001b[0m\u001b[0mparam_only\u001b[0m\u001b[0;34m=\u001b[0m\u001b[0;32mTrue\u001b[0m\u001b[0;34m)\u001b[0m \u001b[0;32mas\u001b[0m \u001b[0mparam_capture\u001b[0m\u001b[0;34m:\u001b[0m\u001b[0;34m\u001b[0m\u001b[0;34m\u001b[0m\u001b[0m\n\u001b[0;32m--> 128\u001b[0;31m             \u001b[0mloss\u001b[0m \u001b[0;34m=\u001b[0m \u001b[0mself\u001b[0m\u001b[0;34m.\u001b[0m\u001b[0mloss_and_grads\u001b[0m\u001b[0;34m(\u001b[0m\u001b[0mself\u001b[0m\u001b[0;34m.\u001b[0m\u001b[0mmodel\u001b[0m\u001b[0;34m,\u001b[0m \u001b[0mself\u001b[0m\u001b[0;34m.\u001b[0m\u001b[0mguide\u001b[0m\u001b[0;34m,\u001b[0m \u001b[0;34m*\u001b[0m\u001b[0margs\u001b[0m\u001b[0;34m,\u001b[0m \u001b[0;34m**\u001b[0m\u001b[0mkwargs\u001b[0m\u001b[0;34m)\u001b[0m\u001b[0;34m\u001b[0m\u001b[0;34m\u001b[0m\u001b[0m\n\u001b[0m\u001b[1;32m    129\u001b[0m \u001b[0;34m\u001b[0m\u001b[0m\n\u001b[1;32m    130\u001b[0m         params = set(site[\"value\"].unconstrained()\n",
      "\u001b[0;32m/anaconda3/envs/pyroenv/lib/python3.8/site-packages/pyro/infer/trace_elbo.py\u001b[0m in \u001b[0;36mloss_and_grads\u001b[0;34m(self, model, guide, *args, **kwargs)\u001b[0m\n\u001b[1;32m    135\u001b[0m             \u001b[0;32mif\u001b[0m \u001b[0mtrainable_params\u001b[0m \u001b[0;32mand\u001b[0m \u001b[0mgetattr\u001b[0m\u001b[0;34m(\u001b[0m\u001b[0msurrogate_loss_particle\u001b[0m\u001b[0;34m,\u001b[0m \u001b[0;34m'requires_grad'\u001b[0m\u001b[0;34m,\u001b[0m \u001b[0;32mFalse\u001b[0m\u001b[0;34m)\u001b[0m\u001b[0;34m:\u001b[0m\u001b[0;34m\u001b[0m\u001b[0;34m\u001b[0m\u001b[0m\n\u001b[1;32m    136\u001b[0m                 \u001b[0msurrogate_loss_particle\u001b[0m \u001b[0;34m=\u001b[0m \u001b[0msurrogate_loss_particle\u001b[0m \u001b[0;34m/\u001b[0m \u001b[0mself\u001b[0m\u001b[0;34m.\u001b[0m\u001b[0mnum_particles\u001b[0m\u001b[0;34m\u001b[0m\u001b[0;34m\u001b[0m\u001b[0m\n\u001b[0;32m--> 137\u001b[0;31m                 \u001b[0msurrogate_loss_particle\u001b[0m\u001b[0;34m.\u001b[0m\u001b[0mbackward\u001b[0m\u001b[0;34m(\u001b[0m\u001b[0mretain_graph\u001b[0m\u001b[0;34m=\u001b[0m\u001b[0mself\u001b[0m\u001b[0;34m.\u001b[0m\u001b[0mretain_graph\u001b[0m\u001b[0;34m)\u001b[0m\u001b[0;34m\u001b[0m\u001b[0;34m\u001b[0m\u001b[0m\n\u001b[0m\u001b[1;32m    138\u001b[0m         \u001b[0mwarn_if_nan\u001b[0m\u001b[0;34m(\u001b[0m\u001b[0mloss\u001b[0m\u001b[0;34m,\u001b[0m \u001b[0;34m\"loss\"\u001b[0m\u001b[0;34m)\u001b[0m\u001b[0;34m\u001b[0m\u001b[0;34m\u001b[0m\u001b[0m\n\u001b[1;32m    139\u001b[0m         \u001b[0;32mreturn\u001b[0m \u001b[0mloss\u001b[0m\u001b[0;34m\u001b[0m\u001b[0;34m\u001b[0m\u001b[0m\n",
      "\u001b[0;32m/anaconda3/envs/pyroenv/lib/python3.8/site-packages/torch/tensor.py\u001b[0m in \u001b[0;36mbackward\u001b[0;34m(self, gradient, retain_graph, create_graph)\u001b[0m\n\u001b[1;32m    196\u001b[0m                 \u001b[0mproducts\u001b[0m\u001b[0;34m.\u001b[0m \u001b[0mDefaults\u001b[0m \u001b[0mto\u001b[0m\u001b[0;31m \u001b[0m\u001b[0;31m`\u001b[0m\u001b[0;31m`\u001b[0m\u001b[0;32mFalse\u001b[0m\u001b[0;31m`\u001b[0m\u001b[0;31m`\u001b[0m\u001b[0;34m.\u001b[0m\u001b[0;34m\u001b[0m\u001b[0;34m\u001b[0m\u001b[0m\n\u001b[1;32m    197\u001b[0m         \"\"\"\n\u001b[0;32m--> 198\u001b[0;31m         \u001b[0mtorch\u001b[0m\u001b[0;34m.\u001b[0m\u001b[0mautograd\u001b[0m\u001b[0;34m.\u001b[0m\u001b[0mbackward\u001b[0m\u001b[0;34m(\u001b[0m\u001b[0mself\u001b[0m\u001b[0;34m,\u001b[0m \u001b[0mgradient\u001b[0m\u001b[0;34m,\u001b[0m \u001b[0mretain_graph\u001b[0m\u001b[0;34m,\u001b[0m \u001b[0mcreate_graph\u001b[0m\u001b[0;34m)\u001b[0m\u001b[0;34m\u001b[0m\u001b[0;34m\u001b[0m\u001b[0m\n\u001b[0m\u001b[1;32m    199\u001b[0m \u001b[0;34m\u001b[0m\u001b[0m\n\u001b[1;32m    200\u001b[0m     \u001b[0;32mdef\u001b[0m \u001b[0mregister_hook\u001b[0m\u001b[0;34m(\u001b[0m\u001b[0mself\u001b[0m\u001b[0;34m,\u001b[0m \u001b[0mhook\u001b[0m\u001b[0;34m)\u001b[0m\u001b[0;34m:\u001b[0m\u001b[0;34m\u001b[0m\u001b[0;34m\u001b[0m\u001b[0m\n",
      "\u001b[0;32m/anaconda3/envs/pyroenv/lib/python3.8/site-packages/torch/autograd/__init__.py\u001b[0m in \u001b[0;36mbackward\u001b[0;34m(tensors, grad_tensors, retain_graph, create_graph, grad_variables)\u001b[0m\n\u001b[1;32m     96\u001b[0m         \u001b[0mretain_graph\u001b[0m \u001b[0;34m=\u001b[0m \u001b[0mcreate_graph\u001b[0m\u001b[0;34m\u001b[0m\u001b[0;34m\u001b[0m\u001b[0m\n\u001b[1;32m     97\u001b[0m \u001b[0;34m\u001b[0m\u001b[0m\n\u001b[0;32m---> 98\u001b[0;31m     Variable._execution_engine.run_backward(\n\u001b[0m\u001b[1;32m     99\u001b[0m         \u001b[0mtensors\u001b[0m\u001b[0;34m,\u001b[0m \u001b[0mgrad_tensors\u001b[0m\u001b[0;34m,\u001b[0m \u001b[0mretain_graph\u001b[0m\u001b[0;34m,\u001b[0m \u001b[0mcreate_graph\u001b[0m\u001b[0;34m,\u001b[0m\u001b[0;34m\u001b[0m\u001b[0;34m\u001b[0m\u001b[0m\n\u001b[1;32m    100\u001b[0m         allow_unreachable=True)  # allow_unreachable flag\n",
      "\u001b[0;31mKeyboardInterrupt\u001b[0m: "
     ]
    }
   ],
   "source": [
    "from pyro.infer import SVI, Trace_ELBO, Predictive\n",
    "from pyro.infer.autoguide import AutoDiagonalNormal, AutoMultivariateNormal, init_to_mean\n",
    "\n",
    "\n",
    "guide = AutoDiagonalNormal(model)\n",
    "\n",
    "adam = pyro.optim.ClippedAdam({\"lr\": 0.001})\n",
    "inference = SVI(model, guide, adam, loss=Trace_ELBO())\n",
    "#inference = SVI(model, my_guide, adam, loss=Trace_ELBO())\n",
    "\n",
    "\n",
    "epoch_list = []\n",
    "losses_list = []\n",
    "\n",
    "epochs=2000\n",
    "pyro.clear_param_store()\n",
    "for epoch in range(epochs):\n",
    "    # calculate the loss and take a gradient step\n",
    "    loss = inference.step(X_data, y_data)\n",
    "    normalized_loss = loss/X_data.shape[0]\n",
    "    if (epoch % 100 == 0):\n",
    "        print(\"[iteration %04d] loss: %.4f\" % (epoch + 1, normalized_loss))"
   ]
  },
  {
   "cell_type": "code",
   "execution_count": 44,
   "metadata": {},
   "outputs": [
    {
     "data": {
      "text/html": [
       "<div>\n",
       "<style scoped>\n",
       "    .dataframe tbody tr th:only-of-type {\n",
       "        vertical-align: middle;\n",
       "    }\n",
       "\n",
       "    .dataframe tbody tr th {\n",
       "        vertical-align: top;\n",
       "    }\n",
       "\n",
       "    .dataframe thead th {\n",
       "        text-align: right;\n",
       "    }\n",
       "</style>\n",
       "<table border=\"1\" class=\"dataframe\">\n",
       "  <thead>\n",
       "    <tr style=\"text-align: right;\">\n",
       "      <th></th>\n",
       "      <th>y_hat</th>\n",
       "      <th>y_hat_std</th>\n",
       "      <th>y_lower</th>\n",
       "      <th>y_upper</th>\n",
       "    </tr>\n",
       "  </thead>\n",
       "  <tbody>\n",
       "    <tr>\n",
       "      <th>0</th>\n",
       "      <td>4399.022949</td>\n",
       "      <td>1464.694946</td>\n",
       "      <td>4168.327148</td>\n",
       "      <td>4556.949219</td>\n",
       "    </tr>\n",
       "    <tr>\n",
       "      <th>1</th>\n",
       "      <td>4400.294922</td>\n",
       "      <td>1464.802368</td>\n",
       "      <td>4169.625977</td>\n",
       "      <td>4558.282715</td>\n",
       "    </tr>\n",
       "    <tr>\n",
       "      <th>2</th>\n",
       "      <td>4400.031250</td>\n",
       "      <td>1464.900635</td>\n",
       "      <td>4169.340820</td>\n",
       "      <td>4558.074707</td>\n",
       "    </tr>\n",
       "    <tr>\n",
       "      <th>3</th>\n",
       "      <td>4399.612793</td>\n",
       "      <td>1465.003540</td>\n",
       "      <td>4169.027344</td>\n",
       "      <td>4557.577637</td>\n",
       "    </tr>\n",
       "    <tr>\n",
       "      <th>4</th>\n",
       "      <td>4400.319824</td>\n",
       "      <td>1465.102661</td>\n",
       "      <td>4169.628418</td>\n",
       "      <td>4558.446777</td>\n",
       "    </tr>\n",
       "  </tbody>\n",
       "</table>\n",
       "</div>"
      ],
      "text/plain": [
       "         y_hat    y_hat_std      y_lower      y_upper\n",
       "0  4399.022949  1464.694946  4168.327148  4556.949219\n",
       "1  4400.294922  1464.802368  4169.625977  4558.282715\n",
       "2  4400.031250  1464.900635  4169.340820  4558.074707\n",
       "3  4399.612793  1465.003540  4169.027344  4557.577637\n",
       "4  4400.319824  1465.102661  4169.628418  4558.446777"
      ]
     },
     "execution_count": 44,
     "metadata": {},
     "output_type": "execute_result"
    }
   ],
   "source": [
    "interval=0.1\n",
    "predictive = Predictive(model, \n",
    "                        guide=guide,\n",
    "                        num_samples=1800,\n",
    "                        return_sites=(\"_RETURN\",))\n",
    "\n",
    "samples = predictive(X_data)\n",
    "\n",
    "interval_value = (1.0 - interval)/2\n",
    "\n",
    "\n",
    "num_samples = 1000\n",
    "predictive = Predictive(model, guide=guide, num_samples=1000)\n",
    "svi_samples = {k: v.reshape(num_samples).detach().cpu().numpy()\n",
    "               for k, v in predictive(X_data).items()\n",
    "               if k != \"obs\"}\n",
    "\n",
    "stats = {}\n",
    "for key, values in samples.items():\n",
    "    interval_number_bottom = int(values.shape[0]*interval_value)\n",
    "    interval_number_top = int(values.shape[0]*(1.0-interval_value))\n",
    "\n",
    "\n",
    "    stats = {\"y_hat\": torch.mean(values, axis=0).detach().numpy(),\n",
    "             \"y_hat_std\": torch.std(values, axis=0).detach().numpy(),\n",
    "             \"y_lower\": values.kthvalue(interval_number_bottom, axis=0)[0].detach().numpy(),\n",
    "             \"y_upper\": values.kthvalue(interval_number_top, axis=0)[0].detach().numpy()}\n",
    "#output = self(X)\n",
    "\n",
    "    stats = pd.DataFrame(stats)\n",
    "\n",
    "stats.head()"
   ]
  },
  {
   "cell_type": "code",
   "execution_count": 40,
   "metadata": {},
   "outputs": [],
   "source": [
    "y_pred = stats[\"y_hat\"]\n",
    "y_lower = stats[\"y_lower\"]\n",
    "y_upper = stats[\"y_upper\"]"
   ]
  },
  {
   "cell_type": "code",
   "execution_count": 41,
   "metadata": {},
   "outputs": [
    {
     "data": {
      "image/png": "[encoded data removed]",
      "text/plain": [
       "<Figure size 1080x360 with 1 Axes>"
      ]
     },
     "metadata": {
      "needs_background": "light"
     },
     "output_type": "display_data"
    }
   ],
   "source": [
    "plt.figure(figsize=(15,5))\n",
    "\n",
    "max_points = 100\n",
    "plt.plot(data['ds'].iloc[-max_points:], \n",
    "         y_pred[-max_points:],\n",
    "         label=\"prediction\",\n",
    "         c=\"blue\")\n",
    "plt.fill_between(data['ds'].iloc[-max_points:],\n",
    "                 y_lower[-max_points:],\n",
    "                 y_upper[-max_points:],\n",
    "                 alpha=0.1,\n",
    "                 color=\"blue\")\n",
    "plt.plot(data['ds'].iloc[-max_points:], \n",
    "         y[-max_points:], \n",
    "         label=\"true_censored\",\n",
    "         c=\"red\")\n",
    "\n",
    "plt.title(f'Sales')\n",
    "plt.legend()\n",
    "plt.show()\n",
    "\n"
   ]
  },
  {
   "cell_type": "code",
   "execution_count": 45,
   "metadata": {},
   "outputs": [
    {
     "name": "stdout",
     "output_type": "stream",
     "text": [
      "Site: beta_0\n",
      "       mean      std        5%       25%       50%       75%       95%\n",
      "0  1.911345  0.10188  1.745627  1.841984  1.911293  1.979519  2.084317 \n",
      "\n",
      "Site: beta_1\n",
      "       mean       std        5%       25%      50%       75%       95%\n",
      "0  0.304002  0.099686  0.139559  0.238139  0.30361  0.365827  0.466892 \n",
      "\n",
      "Site: beta_2\n",
      "      mean       std        5%       25%       50%       75%       95%\n",
      "0  0.53934  0.098718  0.370246  0.477792  0.537755  0.607602  0.703205 \n",
      "\n",
      "Site: beta_3\n",
      "       mean       std        5%       25%       50%       75%     95%\n",
      "0 -0.006746  0.098066 -0.167995 -0.072366 -0.005866  0.057785  0.1566 \n",
      "\n",
      "Site: beta_4\n",
      "       mean       std        5%       25%       50%       75%       95%\n",
      "0 -0.010981  0.102686 -0.176342 -0.082415 -0.010625  0.063859  0.153153 \n",
      "\n",
      "Site: beta_5\n",
      "       mean       std        5%       25%       50%       75%       95%\n",
      "0  0.052858  0.104335 -0.114668 -0.016918  0.054674  0.121414  0.223959 \n",
      "\n",
      "Site: beta_6\n",
      "       mean       std        5%       25%       50%       75%       95%\n",
      "0  0.124013  0.097286 -0.028396  0.055528  0.125688  0.191559  0.283095 \n",
      "\n",
      "Site: beta_7\n",
      "       mean       std        5%       25%       50%       75%       95%\n",
      "0  0.671655  0.100951  0.505956  0.603418  0.672005  0.741213  0.830831 \n",
      "\n",
      "Site: sigma\n",
      "       mean       std        5%       25%       50%      75%       95%\n",
      "0  4.271829  0.233843  3.900353  4.095892  4.273118  4.42538  4.664873 \n",
      "\n"
     ]
    }
   ],
   "source": [
    "def summary(samples):\n",
    "    site_stats = {}\n",
    "    for site_name, values in samples.items():\n",
    "        marginal_site = pd.DataFrame(values)\n",
    "        describe = marginal_site.describe(percentiles=[.05, 0.25, 0.5, 0.75, 0.95]).transpose()\n",
    "        site_stats[site_name] = describe[[\"mean\", \"std\", \"5%\", \"25%\", \"50%\", \"75%\", \"95%\"]]\n",
    "    return site_stats\n",
    "\n",
    "for site, values in summary(svi_samples).items():\n",
    "    print(\"Site: {}\".format(site))\n",
    "    print(values, \"\\n\")"
   ]
  },
  {
   "cell_type": "code",
   "execution_count": null,
   "metadata": {},
   "outputs": [],
   "source": []
  },
  {
   "cell_type": "code",
   "execution_count": null,
   "metadata": {},
   "outputs": [],
   "source": []
  },
  {
   "cell_type": "code",
   "execution_count": null,
   "metadata": {},
   "outputs": [],
   "source": []
  },
  {
   "cell_type": "code",
   "execution_count": null,
   "metadata": {},
   "outputs": [],
   "source": []
  },
  {
   "cell_type": "code",
   "execution_count": null,
   "metadata": {},
   "outputs": [
    {
     "name": "stderr",
     "output_type": "stream",
     "text": [
      "\r",
      "Warmup:   0%|          | 0/1200 [00:00, ?it/s]"
     ]
    }
   ],
   "source": [
    "from pyro.infe import MCMC, HMC\n",
    "\n",
    "\n",
    "nuts_kernel = HMC(model)\n",
    "\n",
    "mcmc = MCMC(nuts_kernel, num_samples=1000, warmup_steps=200)\n",
    "mcmc.run(X_data, y_data)\n",
    "\n",
    "hmc_samples = {k: v.detach().cpu().numpy() for k, v in mcmc.get_samples().items()}"
   ]
  },
  {
   "cell_type": "code",
   "execution_count": null,
   "metadata": {},
   "outputs": [],
   "source": [
    "def summary(samples):\n",
    "    site_stats = {}\n",
    "    for site_name, values in samples.items():\n",
    "        values = values.reshape(1000, -1)\n",
    "        marginal_site = pd.DataFrame(values)\n",
    "        describe = marginal_site.describe(percentiles=[.05, 0.25, 0.5, 0.75, 0.95]).transpose()\n",
    "        site_stats[site_name] = describe[[\"mean\", \"std\", \"5%\", \"25%\", \"50%\", \"75%\", \"95%\"]]\n",
    "        \n",
    "    return site_stats\n",
    "\n",
    "for site, values in summary(hmc_samples).items():\n",
    "    print(\"Site: {}\".format(site))\n",
    "    print(values, \"\\n\")"
   ]
  },
  {
   "cell_type": "code",
   "execution_count": null,
   "metadata": {},
   "outputs": [],
   "source": []
  },
  {
   "cell_type": "code",
   "execution_count": null,
   "metadata": {},
   "outputs": [],
   "source": []
  },
  {
   "cell_type": "code",
   "execution_count": null,
   "metadata": {},
   "outputs": [],
   "source": []
  },
  {
   "cell_type": "code",
   "execution_count": null,
   "metadata": {},
   "outputs": [],
   "source": []
  },
  {
   "cell_type": "markdown",
   "metadata": {},
   "source": [
    "## USING Pyro"
   ]
  },
  {
   "cell_type": "code",
   "execution_count": 18,
   "metadata": {},
   "outputs": [],
   "source": [
    "# lots of code taken from \n",
    "# https://towardsdatascience.com/linear-regression-with-pytorch-eb6dedead817\n",
    "import torch\n",
    "import torch.nn as nn\n",
    "from torch.distributions import constraints\n",
    "import pyro.optim as optim\n",
    "import math\n",
    "import pyro\n",
    "import pyro.distributions as dist\n",
    "from pyro import poutine\n",
    "from pyro.nn import PyroSample\n",
    "from pyro.nn import PyroModule\n",
    "from pyro.infer.autoguide import AutoDiagonalNormal, AutoMultivariateNormal, init_to_mean\n",
    "\n",
    "from pyro.infer import SVI, Trace_ELBO, Predictive\n",
    "from pyro.infer import MCMC, NUTS\n",
    "\n",
    "\n",
    "class Chronos(PyroModule):\n",
    "    \n",
    "    def __init__(self, \n",
    "                 weekly_seasonality=0,\n",
    "                 interval=0.2,\n",
    "                 epochs=200,\n",
    "                 min_loss=3.0):\n",
    "        pyro.clear_param_store()\n",
    "        super(Chronos, self).__init__()\n",
    "        \n",
    "        self.weekly_seasonality = weekly_seasonality\n",
    "        self.epochs = epochs\n",
    "        self.min_loss = min_loss\n",
    "        self.interval = interval\n",
    "    \n",
    "    #######################################################\n",
    "    def model(self, X):\n",
    "        sigma = pyro.param(\"error_std\", torch.tensor(1.0), \n",
    "                           constraint=constraints.positive)\n",
    "        \n",
    "        mean = self.linear(X).view(-1)\n",
    "        \n",
    "        obs = pyro.sample(\"obs\", dist.Normal(mean, sigma))\n",
    "            \n",
    "        return obs\n",
    "    #######################################################\n",
    "    def conditioned_model(self, model, X, y):\n",
    "        conditioned_model_function = poutine.condition(model, data={\"obs\": y})\n",
    "        \n",
    "        return conditioned_model_function(X)\n",
    "    #######################################################\n",
    "    def _prepare_data_from_date(self, X):\n",
    "        X.loc[: ,'ts'] = X['ds'].astype(np.int64)/(60*60*24*1e9)\n",
    "\n",
    "        for o in range(1, self.weekly_seasonality+1):\n",
    "            X.loc[:, f'w_sin_{o}'] = np.sin(2*math.pi*o*X['ts']/7)\n",
    "            X.loc[:, f'w_cos_{o}'] = np.cos(2*math.pi*o*X['ts']/7)\n",
    "\n",
    "        X = X.drop('ds', axis=1)\n",
    "        \n",
    "        return X\n",
    "    \n",
    "    #######################################################\n",
    "    def fit(self, Y):\n",
    "        \n",
    "        X = Y[['ds']].copy()\n",
    "        X = self._prepare_data_from_date(X)\n",
    "        X = X.values.astype(np.float32)\n",
    "        y = Y['y'].values.astype(np.float32)\n",
    "        \n",
    "        \n",
    "        \n",
    "        self.feature_number = X.shape[1]\n",
    "        self.target_number = 1 if len(y.shape) == 1 else y.shape[1]\n",
    "        \n",
    "        \n",
    "        # change the linear layers to be a learnable distribution collection\n",
    "        self.linear = PyroModule[nn.Linear](self.feature_number, \n",
    "                                            self.target_number)\n",
    "        \n",
    "        self.linear.weight = PyroSample(dist.Normal(0., 1.).expand([self.target_number,\n",
    "                                                                    self.feature_number]).to_event(2))\n",
    "        self.linear.bias = PyroSample(dist.Normal(0, 10.).expand([self.target_number]).to_event(1))\n",
    "        \n",
    "        X = torch.from_numpy(X)\n",
    "        y = torch.from_numpy(y)\n",
    "        \n",
    "        \n",
    "        pyro.clear_param_store()\n",
    "        self.kernel = NUTS(self.conditioned_model)\n",
    "        self.mcmc = MCMC(self.kernel, num_samples=1000, warmup_steps=100)\n",
    "        self.mcmc.run(self.model, X, y)\n",
    "        \n",
    "        \n",
    "    #######################################################\n",
    "    def predict(self, X):\n",
    "        \n",
    "        \n",
    "        X = X[['ds']].copy()\n",
    "        X = self._prepare_data_from_date(X)\n",
    "        X = X.values.astype(np.float32)\n",
    "        X = torch.from_numpy(X)\n",
    "        \n",
    "        predictive = Predictive(self, \n",
    "                                guide=self.guide,\n",
    "                                num_samples=800,\n",
    "                                return_sites=(\"_RETURN\",))\n",
    "        \n",
    "        samples = predictive(X)\n",
    "        \n",
    "        interval_value = (1.0 - self.interval)/2\n",
    "        \n",
    "        \n",
    "        stats = {}\n",
    "        for key, values in samples.items():\n",
    "            interval_number_bottom = int(values.shape[0]*interval_value)\n",
    "            interval_number_top = int(values.shape[0]*(1.0-interval_value))\n",
    "            \n",
    "            \n",
    "            stats = {\"y_hat\": torch.mean(values, axis=0).detach().numpy(),\n",
    "                     \"y_hat_std\": torch.std(values, axis=0).detach().numpy(),\n",
    "                     \"y_lower\": values.kthvalue(interval_number_bottom, axis=0)[0].detach().numpy(),\n",
    "                     \"y_upper\": values.kthvalue(interval_number_top, axis=0)[0].detach().numpy()}\n",
    "        #output = self(X)\n",
    "        \n",
    "        return stats\n",
    "        \n",
    "        \n",
    "    #######################################################\n",
    "    @property\n",
    "    def coef_(self):\n",
    "        all_params = pyro.param('guide.loc').detach().numpy()\n",
    "        \n",
    "        # The first elements is the sigma we looked at\n",
    "        coefficients_and_bias = all_params[-self.feature_number-1:]\n",
    "        \n",
    "        coefficients = coefficients_and_bias[:self.feature_number] # If there is a bias\n",
    "                                                        # it's in the last spot\n",
    "        return coefficients\n",
    "    \n",
    "    #######################################################\n",
    "    @property\n",
    "    def const_(self):\n",
    "        all_params = pyro.param('guide.loc').detach().numpy()\n",
    "        \n",
    "        # The first elements is the sigma we looked at\n",
    "        coefficients_and_bias = all_params[-self.feature_number-1:]\n",
    "        \n",
    "        bias = coefficients_and_bias[self.feature_number:]\n",
    "        return bias"
   ]
  },
  {
   "cell_type": "code",
   "execution_count": 19,
   "metadata": {},
   "outputs": [],
   "source": [
    "my_pyro_model = Chronos(weekly_seasonality=3, \n",
    "                        interval=0.9,\n",
    "                        epochs=20000,\n",
    "                        min_loss=1.0)"
   ]
  },
  {
   "cell_type": "code",
   "execution_count": 20,
   "metadata": {},
   "outputs": [
    {
     "name": "stderr",
     "output_type": "stream",
     "text": [
      "Sample: 100%|██████████| 1100/1100 [21:57,  1.20s/it, step size=1.08e-04, acc. prob=0.954]\n"
     ]
    }
   ],
   "source": [
    "my_pyro_model.fit(data)"
   ]
  },
  {
   "cell_type": "code",
   "execution_count": 21,
   "metadata": {},
   "outputs": [],
   "source": [
    "hmc_samples = {k: v.detach().cpu().numpy() for k, v in my_pyro_model.mcmc.get_samples().items()}"
   ]
  },
  {
   "cell_type": "code",
   "execution_count": 23,
   "metadata": {},
   "outputs": [
    {
     "name": "stdout",
     "output_type": "stream",
     "text": [
      "Site: linear.weight\n",
      "       mean       std        5%       25%       50%       75%       95%\n",
      "0  0.009894  0.000001  0.009892  0.009893  0.009894  0.009895  0.009896\n",
      "1  1.290158  0.078823  1.176903  1.221722  1.285410  1.349234  1.422484\n",
      "2  0.812308  0.050697  0.744843  0.762942  0.811077  0.855220  0.894609\n",
      "3  0.141760  0.006152  0.128948  0.138699  0.143529  0.146228  0.148791\n",
      "4 -0.200053  0.052787 -0.280638 -0.241689 -0.199700 -0.151669 -0.120829\n",
      "5 -0.860334  0.247181 -1.272674 -1.064919 -0.835719 -0.653305 -0.512493\n",
      "6 -0.216422  0.030874 -0.266874 -0.245885 -0.209591 -0.188567 -0.176619 \n",
      "\n",
      "Site: linear.bias\n",
      "       mean       std        5%       25%       50%       75%       95%\n",
      "0  1.751316  0.006389  1.741474  1.746539  1.750924  1.755673  1.762655 \n",
      "\n"
     ]
    }
   ],
   "source": [
    "def summary(samples):\n",
    "    site_stats = {}\n",
    "    for site_name, values in samples.items():\n",
    "        values = values.reshape(1000, -1)\n",
    "        marginal_site = pd.DataFrame(values)\n",
    "        describe = marginal_site.describe(percentiles=[.05, 0.25, 0.5, 0.75, 0.95]).transpose()\n",
    "        site_stats[site_name] = describe[[\"mean\", \"std\", \"5%\", \"25%\", \"50%\", \"75%\", \"95%\"]]\n",
    "        \n",
    "    return site_stats\n",
    "\n",
    "for site, values in summary(hmc_samples).items():\n",
    "    print(\"Site: {}\".format(site))\n",
    "    print(values, \"\\n\")"
   ]
  },
  {
   "cell_type": "markdown",
   "metadata": {},
   "source": [
    "$$\\text{coefficients} = [0, 0.01, 0.4, 0.2, 0.1, 0.3, 0.5, 0.2]$$"
   ]
  },
  {
   "cell_type": "code",
   "execution_count": 29,
   "metadata": {},
   "outputs": [
    {
     "data": {
      "text/plain": [
       "(1000, 1, 7)"
      ]
     },
     "execution_count": 29,
     "metadata": {},
     "output_type": "execute_result"
    }
   ],
   "source": [
    "hmc_samples['linear.weight'].shape"
   ]
  },
  {
   "cell_type": "code",
   "execution_count": 33,
   "metadata": {
    "scrolled": false
   },
   "outputs": [
    {
     "data": {
      "image/png": "[encoded data removed]",
      "text/plain": [
       "<Figure size 1080x360 with 1 Axes>"
      ]
     },
     "metadata": {
      "needs_background": "light"
     },
     "output_type": "display_data"
    },
    {
     "data": {
      "image/png": "[encoded data removed]",
      "text/plain": [
       "<Figure size 1080x360 with 1 Axes>"
      ]
     },
     "metadata": {
      "needs_background": "light"
     },
     "output_type": "display_data"
    },
    {
     "data": {
      "image/png": "[encoded data removed]",
      "text/plain": [
       "<Figure size 1080x360 with 1 Axes>"
      ]
     },
     "metadata": {
      "needs_background": "light"
     },
     "output_type": "display_data"
    },
    {
     "data": {
      "image/png": "[encoded data removed]",
      "text/plain": [
       "<Figure size 1080x360 with 1 Axes>"
      ]
     },
     "metadata": {
      "needs_background": "light"
     },
     "output_type": "display_data"
    },
    {
     "data": {
      "image/png": "[encoded data removed]",
      "text/plain": [
       "<Figure size 1080x360 with 1 Axes>"
      ]
     },
     "metadata": {
      "needs_background": "light"
     },
     "output_type": "display_data"
    },
    {
     "data": {
      "image/png": "[encoded data removed]",
      "text/plain": [
       "<Figure size 1080x360 with 1 Axes>"
      ]
     },
     "metadata": {
      "needs_background": "light"
     },
     "output_type": "display_data"
    },
    {
     "data": {
      "image/png": "[encoded data removed]",
      "text/plain": [
       "<Figure size 1080x360 with 1 Axes>"
      ]
     },
     "metadata": {
      "needs_background": "light"
     },
     "output_type": "display_data"
    }
   ],
   "source": [
    "for i in range(7):\n",
    "    plt.figure(figsize=(15,5))\n",
    "    plt.hist(hmc_samples['linear.weight'].reshape(1000,-1)[:, i])\n",
    "    plt.show()"
   ]
  },
  {
   "cell_type": "code",
   "execution_count": null,
   "metadata": {},
   "outputs": [],
   "source": []
  },
  {
   "cell_type": "code",
   "execution_count": null,
   "metadata": {},
   "outputs": [],
   "source": []
  },
  {
   "cell_type": "code",
   "execution_count": null,
   "metadata": {},
   "outputs": [],
   "source": [
    "plt.figure(figsize=(15,5))\n",
    "plt.plot(history['epoch'], history['loss'])\n",
    "plt.show()"
   ]
  },
  {
   "cell_type": "code",
   "execution_count": null,
   "metadata": {},
   "outputs": [],
   "source": [
    "pred_dict = my_pyro_model.predict(data)"
   ]
  },
  {
   "cell_type": "code",
   "execution_count": null,
   "metadata": {},
   "outputs": [],
   "source": [
    "y_pred = pred_dict[\"y_hat\"]\n",
    "y_lower = pred_dict[\"y_lower\"]\n",
    "y_upper = pred_dict[\"y_upper\"]"
   ]
  },
  {
   "cell_type": "code",
   "execution_count": null,
   "metadata": {},
   "outputs": [],
   "source": [
    "my_pyro_model.coef_"
   ]
  },
  {
   "cell_type": "code",
   "execution_count": null,
   "metadata": {},
   "outputs": [],
   "source": [
    "my_model.coef_"
   ]
  },
  {
   "cell_type": "code",
   "execution_count": null,
   "metadata": {},
   "outputs": [],
   "source": [
    "my_pyro_model.const_"
   ]
  },
  {
   "cell_type": "code",
   "execution_count": null,
   "metadata": {},
   "outputs": [],
   "source": [
    "y = data['y']"
   ]
  },
  {
   "cell_type": "code",
   "execution_count": null,
   "metadata": {},
   "outputs": [],
   "source": []
  },
  {
   "cell_type": "code",
   "execution_count": null,
   "metadata": {},
   "outputs": [],
   "source": [
    "plt.figure(figsize=(15,5))\n",
    "\n",
    "max_points = 100\n",
    "plt.plot(data['ds'].iloc[-max_points:], \n",
    "         y_pred[-max_points:],\n",
    "         label=\"prediction\",\n",
    "         c=\"blue\")\n",
    "plt.fill_between(data['ds'].iloc[-max_points:],\n",
    "                 y_lower[-max_points:],\n",
    "                 y_upper[-max_points:],\n",
    "                 alpha=0.1,\n",
    "                 color=\"blue\")\n",
    "plt.plot(data['ds'].iloc[-max_points:], \n",
    "         y[-max_points:], \n",
    "         label=\"true_censored\",\n",
    "         c=\"red\")\n",
    "\n",
    "plt.title(f'Sales')\n",
    "plt.legend()\n",
    "plt.show()"
   ]
  },
  {
   "cell_type": "code",
   "execution_count": null,
   "metadata": {},
   "outputs": [],
   "source": [
    "my_data = data[['ds']].iloc[-100:]\n",
    "my_data['y'] = y[-100:]\n",
    "my_data['y_pred'] = y_pred[-100:]\n",
    "my_data['y_lower'] = y_lower[-100:]\n",
    "my_data['y_upper'] = y_upper[-100:]\n",
    "\n",
    "my_data"
   ]
  },
  {
   "cell_type": "code",
   "execution_count": null,
   "metadata": {},
   "outputs": [],
   "source": [
    "plt.figure(figsize=(15,5))\n",
    "\n",
    "max_points = 100\n",
    "plt.plot(my_data['ds'], my_data['y'], label=\"true_values\", c=\"red\")\n",
    "plt.plot(my_data['ds'], my_data['y_pred'], label=\"prediction\", c=\"blue\")\n",
    "plt.fill_between(my_data['ds'],\n",
    "                 my_data['y_lower'],\n",
    "                 my_data['y_upper'],\n",
    "                 alpha=0.1,\n",
    "                 color=\"blue\",\n",
    "                 label=\"90% credibility interval\")\n",
    "\n",
    "plt.title(f'Time-series Sales')\n",
    "plt.legend()\n",
    "plt.show()"
   ]
  },
  {
   "cell_type": "code",
   "execution_count": null,
   "metadata": {},
   "outputs": [],
   "source": []
  },
  {
   "cell_type": "code",
   "execution_count": null,
   "metadata": {},
   "outputs": [],
   "source": [
    "from sklearn.linear_model import LinearRegression\n",
    "X = data.drop(['date','observed_data', 'run_out'], axis=1)\n",
    "y = data['observed_data']"
   ]
  },
  {
   "cell_type": "code",
   "execution_count": null,
   "metadata": {},
   "outputs": [],
   "source": [
    "import math\n",
    "week_season_order=3\n",
    "\n",
    "for i in range(1, week_season_order+1):\n",
    "    X[f'week_season_{i}'] = np.sin(2*i*math.pi*X['day']/7)+np.cos(2*i*math.pi*X['day']/7)\n",
    "    \n",
    "my_lr = LinearRegression()\n",
    "my_lr.fit(X,y)\n",
    "\n",
    "y_pred = my_lr.predict(X)"
   ]
  },
  {
   "cell_type": "code",
   "execution_count": null,
   "metadata": {},
   "outputs": [],
   "source": []
  },
  {
   "cell_type": "code",
   "execution_count": null,
   "metadata": {},
   "outputs": [],
   "source": []
  },
  {
   "cell_type": "code",
   "execution_count": null,
   "metadata": {},
   "outputs": [],
   "source": []
  },
  {
   "cell_type": "code",
   "execution_count": null,
   "metadata": {},
   "outputs": [],
   "source": [
    "my_model.coef_"
   ]
  },
  {
   "cell_type": "code",
   "execution_count": null,
   "metadata": {},
   "outputs": [],
   "source": [
    "y_pred = my_model.predict(data)\n",
    "y = data['y']"
   ]
  },
  {
   "cell_type": "code",
   "execution_count": null,
   "metadata": {},
   "outputs": [],
   "source": [
    "plt.figure(figsize=(15,5))\n",
    "\n",
    "plt.plot(data['ds'], y_pred, label=\"prediction\")\n",
    "plt.plot(data['ds'], y, label=\"true_censored\")\n",
    "\n",
    "plt.title(f'{product_name} Sales')\n",
    "plt.legend()\n",
    "plt.show()"
   ]
  },
  {
   "cell_type": "code",
   "execution_count": null,
   "metadata": {},
   "outputs": [],
   "source": []
  },
  {
   "cell_type": "code",
   "execution_count": null,
   "metadata": {},
   "outputs": [],
   "source": []
  },
  {
   "cell_type": "code",
   "execution_count": null,
   "metadata": {},
   "outputs": [],
   "source": [
    "y = data['y']\n",
    "X = data[['ds']]\n",
    "\n",
    "\n",
    "X.loc[: ,'ts'] = 0\n",
    "X.loc[: ,'ts'] = X['ds'].astype(np.int64)/(60*60*24*1e9)\n",
    "\n",
    "weekly_seasonality = 3\n",
    "for o in range(1, weekly_seasonality+1):\n",
    "    X.loc[:, f'w_sin_{o}'] = np.sin(2*math.pi*o*X['ts']/7)\n",
    "    X.loc[:, f'w_cos_{o}'] = np.cos(2*math.pi*o*X['ts']/7)\n",
    "\n",
    "X = X.drop('ds', axis=1)\n",
    "X.head()"
   ]
  },
  {
   "cell_type": "code",
   "execution_count": null,
   "metadata": {},
   "outputs": [],
   "source": [
    "y.head()"
   ]
  },
  {
   "cell_type": "code",
   "execution_count": null,
   "metadata": {},
   "outputs": [],
   "source": [
    "my_model.fit(X,y)"
   ]
  },
  {
   "cell_type": "code",
   "execution_count": null,
   "metadata": {},
   "outputs": [],
   "source": [
    "my_model.coef_"
   ]
  },
  {
   "cell_type": "code",
   "execution_count": null,
   "metadata": {},
   "outputs": [],
   "source": [
    "y_pred = my_model.predict(data)"
   ]
  },
  {
   "cell_type": "code",
   "execution_count": null,
   "metadata": {},
   "outputs": [],
   "source": [
    "plt.figure(figsize=(15,5))\n",
    "\n",
    "plt.plot(data['ds'], y_pred, label=\"prediction\")\n",
    "plt.plot(data['ds'], y, label=\"true_censored\")\n",
    "\n",
    "plt.title(f'{product_name} Sales')\n",
    "plt.legend()\n",
    "plt.show()"
   ]
  },
  {
   "cell_type": "code",
   "execution_count": null,
   "metadata": {},
   "outputs": [],
   "source": [
    "plt.figure(figsize=(15,5))\n",
    "\n",
    "plt.plot(data['ds'], y_pred, label=\"prediction\")\n",
    "plt.plot(data['ds'], y, label=\"true_censored\")\n",
    "#plt.plot(data['ds'], product_df['quantity'], label=\"true\")\n",
    "\n",
    "plt.title(f'{product_name} Sales')\n",
    "plt.legend()\n",
    "plt.show()"
   ]
  },
  {
   "cell_type": "code",
   "execution_count": null,
   "metadata": {},
   "outputs": [],
   "source": []
  },
  {
   "cell_type": "code",
   "execution_count": null,
   "metadata": {},
   "outputs": [],
   "source": [
    "\n",
    "\n",
    "\n",
    "\n",
    "\n",
    "my_ch.fit(data)\n",
    "y_pred = my_ch.predict(data)\n",
    "y_pred\n",
    "\n",
    "plt.figure(figsize=(15,5))\n",
    "\n",
    "plt.plot(data['ds'], y_pred, label=\"prediction\")\n",
    "plt.plot(data['ds'], y, label=\"true_censored\")\n",
    "plt.plot(data['ds'], product_df['quantity'], label=\"true\")\n",
    "\n",
    "plt.title(f'{product_name} Sales')\n",
    "plt.legend()\n",
    "plt.show()"
   ]
  },
  {
   "cell_type": "code",
   "execution_count": null,
   "metadata": {},
   "outputs": [],
   "source": [
    "#lr=0.000000001))"
   ]
  },
  {
   "cell_type": "code",
   "execution_count": null,
   "metadata": {},
   "outputs": [],
   "source": [
    "next(my_ch.parameters())"
   ]
  },
  {
   "cell_type": "code",
   "execution_count": null,
   "metadata": {},
   "outputs": [],
   "source": [
    "from sklearn.linear_model import LinearRegression\n",
    "X = data.drop(['date','observed_data', 'run_out'], axis=1)\n",
    "y = data['observed_data']"
   ]
  },
  {
   "cell_type": "code",
   "execution_count": null,
   "metadata": {},
   "outputs": [],
   "source": [
    "import math\n",
    "week_season_order=10\n",
    "\n",
    "for i in range(1, week_season_order+1):\n",
    "    X[f'week_season_{i}'] = np.sin(2*i*math.pi*X['day']/7)+np.cos(2*i*math.pi*X['day']/7)\n",
    "    \n",
    "my_lr = LinearRegression()\n",
    "my_lr.fit(X,y)\n",
    "\n",
    "y_pred = my_lr.predict(X)"
   ]
  },
  {
   "cell_type": "code",
   "execution_count": null,
   "metadata": {},
   "outputs": [],
   "source": [
    "plt.figure(figsize=(15,5))\n",
    "\n",
    "plt.plot(data['date'], y_pred, label=\"prediction\")\n",
    "plt.plot(data['date'], y, label=\"true_censored\")\n",
    "\n",
    "plt.title(f'{product_name} Sales')\n",
    "plt.legend()\n",
    "plt.show()"
   ]
  },
  {
   "cell_type": "code",
   "execution_count": null,
   "metadata": {},
   "outputs": [],
   "source": [
    "plt.figure(figsize=(15,5))\n",
    "\n",
    "plt.plot(data['date'], y_pred, label=\"prediction\")\n",
    "plt.plot(data['date'], product_df['quantity'], label=\"true\")\n",
    "\n",
    "plt.title(f'{product_name} Sales')\n",
    "plt.legend()\n",
    "plt.show()"
   ]
  },
  {
   "cell_type": "code",
   "execution_count": null,
   "metadata": {},
   "outputs": [],
   "source": [
    "import pyro"
   ]
  },
  {
   "cell_type": "code",
   "execution_count": null,
   "metadata": {},
   "outputs": [],
   "source": [
    "import numpy as np\n",
    "import pandas as pd\n",
    "import math\n",
    "import torch.nn as nn\n",
    "\n",
    "class Chronos(nn.Module):\n",
    "    \n",
    "    def __init__(self,\n",
    "                 weekly_seasonality=0,\n",
    "                 monthly_seasonality=0,\n",
    "                 input_size=1,\n",
    "                 output_size=1):\n",
    "        super(Chronos, self).__init__()\n",
    "        torch.manual_seed(0)\n",
    "        \n",
    "        self.weekly_seasonality = weekly_seasonality\n",
    "        self.monthly_seasonality = monthly_seasonality\n",
    "        self.loss_criterion = nn.MSELoss(reduction='mean')\n",
    "        \n",
    "        \n",
    "    \n",
    "    def _transform_data_to_tensor(self, Y):\n",
    "        \n",
    "        Y_copy = Y.copy()\n",
    "        \n",
    "        \n",
    "        Y_copy['time'] = Y_copy['ds'].astype(np.int64)/(60*60*24*1e9)\n",
    "        \n",
    "        \n",
    "        \n",
    "        for i in range(1, self.weekly_seasonality+1):\n",
    "            Y_copy[f'w_sin_{i}'] = np.sin(2*i*math.pi*Y_copy['time']/7)\n",
    "            Y_copy[f'w_cos_{i}'] = np.cos(2*i*math.pi*Y_copy['time']/7)\n",
    "            \n",
    "        for i in range(1, self.monthly_seasonality+1):\n",
    "            Y_copy[f'm_sin_{i}'] = np.sin(2*i*math.pi*Y_copy['time']/30.5)\n",
    "            Y_copy[f'm_cos_{i}'] = np.cos(2*i*math.pi*Y_copy['time']/30.5)\n",
    "            \n",
    "        Y_copy['time'] = Y_copy['time']/10000\n",
    "        \n",
    "        input_target = torch.from_numpy(Y_copy['y'].values.astype(np.float32)).view(-1, 1)\n",
    "        \n",
    "        input_data = Y_copy.drop(['ds', 'y', 'censored'], axis=1)\n",
    "        input_data = torch.from_numpy(input_data.values.astype(np.float32))\n",
    "        \n",
    "        return input_data, input_target\n",
    "        \n",
    "    def fit(self, Y):\n",
    "        \n",
    "        input_data, input_target = self._transform_data_to_tensor(Y)\n",
    "        \n",
    "        \n",
    "        self.coefficents = nn.Linear(input_data.shape[1], 1)\n",
    "        #print(dir(self.coefficents))\n",
    "        print(self.coefficents.weight)\n",
    "        \n",
    "        #self.opt = optim.SGD(self.parameters(), lr=0.000000001)\n",
    "        self.opt = optim.SGD(self.parameters(), lr=0.1)\n",
    "        \n",
    "        for i in range(200):\n",
    "            self.backward(input_data, input_target)\n",
    "        \n",
    "    def forward(self, x):\n",
    "        \n",
    "\n",
    "        output_values = self.coefficents(x)\n",
    "        \n",
    "        return output_values\n",
    "    \n",
    "    def backward(self, x, y):\n",
    "        \n",
    "        \n",
    "        # zero the parameter gradients\n",
    "        self.opt.zero_grad()\n",
    "\n",
    "        # Make a prediction, this calls the forward method\n",
    "        out = self(x)\n",
    "        \n",
    "        #backward\n",
    "        #print(out)\n",
    "        loss = self.loss_criterion(out, y)\n",
    "        #print(loss)\n",
    "        loss.backward()\n",
    "        #print(self.parameters().__next__().grad)\n",
    "\n",
    "        #update\n",
    "        self.opt.step()\n",
    "        \n",
    "        \n",
    "    def predict(self, Y):\n",
    "        \n",
    "        input_data, _ = self._transform_data_to_tensor(Y)\n",
    "        output_values = self.coefficents(input_data)\n",
    "        \n",
    "        return output_values.detach().numpy()\n",
    "        \n",
    "        \n",
    "        \n",
    "        "
   ]
  },
  {
   "cell_type": "code",
   "execution_count": null,
   "metadata": {},
   "outputs": [],
   "source": []
  }
 ],
 "metadata": {
  "hide_input": false,
  "kernelspec": {
   "display_name": "Python 3",
   "language": "python",
   "name": "python3"
  },
  "language_info": {
   "codemirror_mode": {
    "name": "ipython",
    "version": 3
   },
   "file_extension": ".py",
   "mimetype": "text/x-python",
   "name": "python",
   "nbconvert_exporter": "python",
   "pygments_lexer": "ipython3",
   "version": "3.8.3"
  }
 },
 "nbformat": 4,
 "nbformat_minor": 4
}
