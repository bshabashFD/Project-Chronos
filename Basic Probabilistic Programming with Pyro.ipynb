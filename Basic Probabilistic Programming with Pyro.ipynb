{
 "cells": [
  {
   "cell_type": "markdown",
   "metadata": {},
   "source": [
    "# Basic Probabilistic Programming with Pyro\n",
    "\n",
    "One of the interesting techniques which has become of interest lately is the use of probabilistic programming. \n",
    "If you've never heard of probabilistic programming before, you might conclude it is just programming with probabilities. That would be correct, but only part of the story. \n",
    "\n",
    "At its core, probabilistic programming is about finding underlying distributions which affect processes of interest. You define a process and how it works, and then allow your Probabilistic Programming Language (PPL) of choice to infer what are the likely values for factors which influence your process, and how likely they are.\n",
    "\n",
    "This is explained best with an example, and for this example I'll be using Pyro as the PPL of choice, as well as a simple case study largely inspired from the official Pyro tutorial."
   ]
  },
  {
   "cell_type": "markdown",
   "metadata": {},
   "source": [
    "## Building Our Process\n",
    "\n",
    "Imagine you had a kitchen scale, you put an object on it, and the scale tells you its weight. But imagine the scale is quite old, and is not very accurate. Every time you put the same object on it, it gives you a slightly different measurement. For the sake of simplicity let's say the errors fall on a normal distribution around the true weight of the item, with a standard deviation of 0.1Kg\n",
    "\n",
    "Let's describe this process (we'll be using PyTorch, which is what Pyro uses as its underlying tensor calculation engine)"
   ]
  },
  {
   "cell_type": "code",
   "execution_count": null,
   "metadata": {},
   "outputs": [],
   "source": []
  },
  {
   "cell_type": "code",
   "execution_count": null,
   "metadata": {},
   "outputs": [],
   "source": []
  },
  {
   "cell_type": "code",
   "execution_count": null,
   "metadata": {},
   "outputs": [],
   "source": []
  },
  {
   "cell_type": "code",
   "execution_count": null,
   "metadata": {},
   "outputs": [],
   "source": []
  }
 ],
 "metadata": {
  "hide_input": false,
  "kernelspec": {
   "display_name": "Python 3",
   "language": "python",
   "name": "python3"
  },
  "language_info": {
   "codemirror_mode": {
    "name": "ipython",
    "version": 3
   },
   "file_extension": ".py",
   "mimetype": "text/x-python",
   "name": "python",
   "nbconvert_exporter": "python",
   "pygments_lexer": "ipython3",
   "version": "3.8.3"
  }
 },
 "nbformat": 4,
 "nbformat_minor": 4
}
