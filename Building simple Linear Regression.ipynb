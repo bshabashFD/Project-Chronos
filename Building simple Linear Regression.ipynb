{
 "cells": [
  {
   "cell_type": "code",
   "execution_count": 1,
   "metadata": {},
   "outputs": [],
   "source": [
    "import numpy as np\n",
    "import pandas as pd\n",
    "\n",
    "import matplotlib.pyplot as plt\n",
    "%matplotlib inline\n",
    "\n",
    "import torch\n",
    "import torch.nn as nn\n",
    "import torch.optim as optim\n",
    "\n",
    "\n",
    "from torch.autograd import Variable"
   ]
  },
  {
   "cell_type": "code",
   "execution_count": 2,
   "metadata": {},
   "outputs": [
    {
     "data": {
      "text/html": [
       "<div>\n",
       "<style scoped>\n",
       "    .dataframe tbody tr th:only-of-type {\n",
       "        vertical-align: middle;\n",
       "    }\n",
       "\n",
       "    .dataframe tbody tr th {\n",
       "        vertical-align: top;\n",
       "    }\n",
       "\n",
       "    .dataframe thead th {\n",
       "        text-align: right;\n",
       "    }\n",
       "</style>\n",
       "<table border=\"1\" class=\"dataframe\">\n",
       "  <thead>\n",
       "    <tr style=\"text-align: right;\">\n",
       "      <th></th>\n",
       "      <th>x1</th>\n",
       "      <th>x2</th>\n",
       "      <th>y</th>\n",
       "    </tr>\n",
       "  </thead>\n",
       "  <tbody>\n",
       "    <tr>\n",
       "      <th>0</th>\n",
       "      <td>1</td>\n",
       "      <td>8.414710</td>\n",
       "      <td>19.842122</td>\n",
       "    </tr>\n",
       "    <tr>\n",
       "      <th>1</th>\n",
       "      <td>2</td>\n",
       "      <td>9.092974</td>\n",
       "      <td>24.514249</td>\n",
       "    </tr>\n",
       "    <tr>\n",
       "      <th>2</th>\n",
       "      <td>3</td>\n",
       "      <td>1.411200</td>\n",
       "      <td>10.798747</td>\n",
       "    </tr>\n",
       "    <tr>\n",
       "      <th>3</th>\n",
       "      <td>4</td>\n",
       "      <td>-7.568025</td>\n",
       "      <td>-3.443418</td>\n",
       "    </tr>\n",
       "    <tr>\n",
       "      <th>4</th>\n",
       "      <td>5</td>\n",
       "      <td>-9.589243</td>\n",
       "      <td>-4.800045</td>\n",
       "    </tr>\n",
       "  </tbody>\n",
       "</table>\n",
       "</div>"
      ],
      "text/plain": [
       "   x1        x2          y\n",
       "0   1  8.414710  19.842122\n",
       "1   2  9.092974  24.514249\n",
       "2   3  1.411200  10.798747\n",
       "3   4 -7.568025  -3.443418\n",
       "4   5 -9.589243  -4.800045"
      ]
     },
     "execution_count": 2,
     "metadata": {},
     "output_type": "execute_result"
    }
   ],
   "source": [
    "data_df = pd.DataFrame({\"x1\": np.arange(1, 20),\n",
    "                        \"x2\": 10*np.sin(np.arange(1, 20))})\n",
    "data_df['y'] = 3*data_df[\"x1\"] + 2 * data_df[\"x2\"] + np.random.randn(data_df.shape[0])\n",
    "data_df.head()"
   ]
  },
  {
   "cell_type": "markdown",
   "metadata": {},
   "source": [
    "$$y = 3x_1 + 2x_2 + \\epsilon$$"
   ]
  },
  {
   "cell_type": "code",
   "execution_count": 3,
   "metadata": {},
   "outputs": [],
   "source": [
    "# lots of code taken from \n",
    "# https://towardsdatascience.com/linear-regression-with-pytorch-eb6dedead817\n",
    "\n",
    "\n",
    "class LinearRegression(nn.Module):\n",
    "    \n",
    "    def __init__(self, \n",
    "                 criterion=None,\n",
    "                 optimizer=\"adam\",\n",
    "                 epochs=200):\n",
    "        super(LinearRegression, self).__init__()\n",
    "        \n",
    "        self.optimizer_name = optimizer\n",
    "        \n",
    "        self.criterion = criterion\n",
    "        if (self.criterion is None):\n",
    "            self.criterion = nn.MSELoss()\n",
    "        self.epochs = epochs\n",
    "    \n",
    "        \n",
    "    def forward(self, X):\n",
    "        out = self.linear(X)\n",
    "        return out.view(-1, 1)\n",
    "    \n",
    "    def backward(self, X, y):\n",
    "        inputs = torch.from_numpy(X)\n",
    "        labels = torch.from_numpy(y).view(-1,1)\n",
    "        self.optim.zero_grad()\n",
    "        \n",
    "        outputs = self(inputs)\n",
    "        loss = self.criterion(outputs, labels)\n",
    "        \n",
    "        loss.backward()\n",
    "        self.optim.step()\n",
    "        \n",
    "        return loss\n",
    "    \n",
    "    def fit(self, X, y):\n",
    "        #X = np.c_[np.ones(X.shape[0]), X].astype(np.float32)\n",
    "        \n",
    "        # if X and y are pandas df\n",
    "        X = X.values.astype(np.float32)\n",
    "        y = y.values.astype(np.float32)\n",
    "        \n",
    "        \n",
    "        self.feature_number = X.shape[1]\n",
    "        self.target_number = 1 if len(y.shape) == 1 else y.shape[1]\n",
    "        \n",
    "        \n",
    "        self.linear = nn.Linear(self.feature_number, self.target_number)\n",
    "        \n",
    "        if (self.optimizer_name == \"adam\"):\n",
    "            self.optim = optim.Adam(self.parameters(), lr=0.1)\n",
    "        else:\n",
    "            raise ValueError(f'Optimizer {self.optimizer_name} is not recognized')\n",
    "        \n",
    "        \n",
    "        for epoch in range(self.epochs):\n",
    "            self.backward(X, y)\n",
    "            \n",
    "    @property\n",
    "    def coef_(self):\n",
    "        \n",
    "        return self.linear.weight.detach().numpy()\n",
    "    \n",
    "    @property\n",
    "    def const_(self):\n",
    "        return self.linear.bias.detach().numpy()\n",
    "    \n",
    "    "
   ]
  },
  {
   "cell_type": "code",
   "execution_count": 4,
   "metadata": {},
   "outputs": [],
   "source": [
    "model = LinearRegression(epochs=2000)"
   ]
  },
  {
   "cell_type": "code",
   "execution_count": 5,
   "metadata": {},
   "outputs": [],
   "source": [
    "X = data_df.iloc[:, :-1]\n",
    "y = data_df.iloc[:, -1]\n",
    "\n",
    "model.fit(X,y)"
   ]
  },
  {
   "cell_type": "code",
   "execution_count": 6,
   "metadata": {},
   "outputs": [
    {
     "data": {
      "text/plain": [
       "array([[2.9957278, 2.0589032]], dtype=float32)"
      ]
     },
     "execution_count": 6,
     "metadata": {},
     "output_type": "execute_result"
    }
   ],
   "source": [
    "model.coef_"
   ]
  },
  {
   "cell_type": "code",
   "execution_count": 7,
   "metadata": {},
   "outputs": [
    {
     "data": {
      "text/plain": [
       "array([-0.10196462], dtype=float32)"
      ]
     },
     "execution_count": 7,
     "metadata": {},
     "output_type": "execute_result"
    }
   ],
   "source": [
    "model.const_"
   ]
  },
  {
   "cell_type": "code",
   "execution_count": null,
   "metadata": {},
   "outputs": [],
   "source": [
    "from sklearn.linear_model import LinearRegression\n",
    "\n",
    "my_lr = LinearRegression()\n",
    "my_lr.fit(X,y)\n",
    "print(my_lr.coef_)\n",
    "print(my_lr.intercept_)"
   ]
  },
  {
   "cell_type": "code",
   "execution_count": null,
   "metadata": {},
   "outputs": [],
   "source": []
  }
 ],
 "metadata": {
  "hide_input": false,
  "kernelspec": {
   "display_name": "Python 3",
   "language": "python",
   "name": "python3"
  },
  "language_info": {
   "codemirror_mode": {
    "name": "ipython",
    "version": 3
   },
   "file_extension": ".py",
   "mimetype": "text/x-python",
   "name": "python",
   "nbconvert_exporter": "python",
   "pygments_lexer": "ipython3",
   "version": "3.6.9"
  }
 },
 "nbformat": 4,
 "nbformat_minor": 2
}
