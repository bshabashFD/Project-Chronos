{
 "cells": [
  {
   "cell_type": "markdown",
   "metadata": {},
   "source": [
    "# Bayesian Linear Regression Construction with Pyro\n",
    "\n",
    "One of the most beneficial uses for probabilistic programming is the construction of probabilistic machine learning models.\n",
    "\n",
    "Generally speaking, machine learning models are designed as functions, or mappings, from an input to an output. We have some input $X$ which is an $m\\times n$ matrix of $m$ data points with $n$ features each, and we want to construct some mapping $f$ which transforms the features into predictions of some unknown values $\\vec{y} = \\mathbb{R}^n$\n",
    "\n",
    "in essence, we're interested in a function:\n",
    "\n",
    "$$f(X) = y$$\n",
    "\n",
    "and we'd like our ML models to approximate it as best as possible, ideally while also giving us an idea for **why** the produced certain predictions.\n",
    "\n",
    "One of the basic ML models which accomplishes both is the linear regression which simply maps $y$ as a linear response of $X$ given some coefficients, $\\beta$, such that\n",
    "\n",
    "$$ y = \\beta X$$\n",
    "\n",
    "However, one major drawback of simple linear regressions is that they create point estimates of $\\beta$ without taking uncertainty into account. In this article we'll discuss how to leverage PyTorch and Pyro to produce linear regression models which create uncertainty estimates both for the parameters, as well as for predictions."
   ]
  },
  {
   "cell_type": "code",
   "execution_count": 1,
   "metadata": {},
   "outputs": [],
   "source": [
    "import pymc4 as pm"
   ]
  },
  {
   "cell_type": "code",
   "execution_count": 2,
   "metadata": {},
   "outputs": [],
   "source": [
    "RATINGS = [4,4, 3,4, 9]\n",
    "\n",
    "@pm.model\n",
    "def model(ratings):\n",
    "    mu_funniness = yield pm.Uniform(low=1.0, high=10.0, name=\"mu_funniness\")\n",
    "    sd_funniness = yield pm.HalfCauchy(\"sd_funniness\", scale=10.0)\n",
    "    \n",
    "    obs_funniness_1 = yield pm.Normal(loc=mu_funniness, \n",
    "                                      scale=sd_funniness, \n",
    "                                      observed=ratings, \n",
    "                                      name=\"obs_funniness\")\n",
    "    \n",
    "    return obs_funniness_1"
   ]
  },
  {
   "cell_type": "code",
   "execution_count": 3,
   "metadata": {},
   "outputs": [
    {
     "name": "stdout",
     "output_type": "stream",
     "text": [
      "Inference ran for 19.13 seconds\n"
     ]
    }
   ],
   "source": [
    "import time\n",
    "estimation_model = model(RATINGS)\n",
    "\n",
    "start_time = time.time()\n",
    "trace = pm.sample(model(RATINGS), num_samples=5000, num_chains=1, burn_in=100)\n",
    "end_time = time.time()\n",
    "\n",
    "print(f'Inference ran for {round(end_time -  start_time, 2)} seconds')"
   ]
  },
  {
   "cell_type": "code",
   "execution_count": 4,
   "metadata": {},
   "outputs": [],
   "source": [
    "import numpy as np\n",
    "my_funniness = np.array(trace.posterior['model/mu_funniness'])"
   ]
  },
  {
   "cell_type": "code",
   "execution_count": 5,
   "metadata": {},
   "outputs": [],
   "source": [
    "import matplotlib.pyplot as plt\n",
    "%matplotlib inline"
   ]
  },
  {
   "cell_type": "code",
   "execution_count": 6,
   "metadata": {},
   "outputs": [
    {
     "data": {
      "text/plain": [
       "(1, 5000)"
      ]
     },
     "execution_count": 6,
     "metadata": {},
     "output_type": "execute_result"
    }
   ],
   "source": [
    "my_funniness.shape"
   ]
  },
  {
   "cell_type": "code",
   "execution_count": 7,
   "metadata": {},
   "outputs": [
    {
     "data": {
      "image/png": "[encoded data removed]",
      "text/plain": [
       "<Figure size 432x288 with 1 Axes>"
      ]
     },
     "metadata": {
      "needs_background": "light"
     },
     "output_type": "display_data"
    }
   ],
   "source": [
    "plt.hist(my_funniness.reshape(-1), bins=100);\n",
    "plt.show();"
   ]
  },
  {
   "cell_type": "markdown",
   "metadata": {},
   "source": [
    "## Employing Scikit-learn's Linear Regression\n",
    "\n",
    "We'll start by exploring a simple linear regression from `sklearn`, and see how it behaves on one of the built in datasets in `sklearn`, the California Housing dataset.\n",
    "\n",
    "We'll start by importing all our required libraries"
   ]
  },
  {
   "cell_type": "code",
   "execution_count": 8,
   "metadata": {},
   "outputs": [],
   "source": [
    "import numpy as np\n",
    "np.set_printoptions(suppress=True)\n",
    "\n",
    "import pandas as pd\n",
    "import matplotlib.pyplot as plt\n",
    "%matplotlib inline"
   ]
  },
  {
   "cell_type": "markdown",
   "metadata": {},
   "source": [
    "Now let's import the housing dataset, and explore its features"
   ]
  },
  {
   "cell_type": "code",
   "execution_count": 9,
   "metadata": {},
   "outputs": [
    {
     "name": "stdout",
     "output_type": "stream",
     "text": [
      "Data shape is (20640, 8)\n",
      "Target shape is (20640,)\n"
     ]
    }
   ],
   "source": [
    "from sklearn.datasets import fetch_california_housing\n",
    "\n",
    "california = fetch_california_housing()\n",
    "\n",
    "X = california.data\n",
    "y = california.target\n",
    "\n",
    "print(f'Data shape is {X.shape}')\n",
    "print(f'Target shape is {y.shape}')"
   ]
  },
  {
   "cell_type": "code",
   "execution_count": 10,
   "metadata": {},
   "outputs": [
    {
     "name": "stdout",
     "output_type": "stream",
     "text": [
      ".. _california_housing_dataset:\n",
      "\n",
      "California Housing dataset\n",
      "--------------------------\n",
      "\n",
      "**Data Set Characteristics:**\n",
      "\n",
      "    :Number of Instances: 20640\n",
      "\n",
      "    :Number of Attributes: 8 numeric, predictive attributes and the target\n",
      "\n",
      "    :Attribute Information:\n",
      "        - MedInc        median income in block\n",
      "        - HouseAge      median house age in block\n",
      "        - AveRooms      average number of rooms\n",
      "        - AveBedrms     average number of bedrooms\n",
      "        - Population    block population\n",
      "        - AveOccup      average house occupancy\n",
      "        - Latitude      house block latitude\n",
      "        - Longitude     house block longitude\n",
      "\n",
      "    :Missing Attribute Values: None\n",
      "\n",
      "This dataset was obtained from the StatLib repository.\n",
      "http://lib.stat.cmu.edu/datasets/\n",
      "\n",
      "The target variable is the median house value for California districts.\n",
      "\n",
      "This dataset was derived from the 1990 U.S. census, using one row per census\n",
      "block group. A block group is the smallest geographical unit for which the U.S.\n",
      "Census Bureau publishes sample data (a block group typically has a population\n",
      "of 600 to 3,000 people).\n",
      "\n",
      "It can be downloaded/loaded using the\n",
      ":func:`sklearn.datasets.fetch_california_housing` function.\n",
      "\n",
      ".. topic:: References\n",
      "\n",
      "    - Pace, R. Kelley and Ronald Barry, Sparse Spatial Autoregressions,\n",
      "      Statistics and Probability Letters, 33 (1997) 291-297\n",
      "\n"
     ]
    }
   ],
   "source": [
    "print(california.DESCR)"
   ]
  },
  {
   "cell_type": "code",
   "execution_count": 11,
   "metadata": {},
   "outputs": [
    {
     "data": {
      "image/png": "[encoded data removed]",
      "text/plain": [
       "<Figure size 1080x504 with 1 Axes>"
      ]
     },
     "metadata": {
      "needs_background": "light"
     },
     "output_type": "display_data"
    }
   ],
   "source": [
    "plt.figure(figsize=(15,7))\n",
    "plt.hist(y, bins=100, color=\"blue\", edgecolor=\"black\")\n",
    "plt.xlabel(\"Median House Value (in $100K)\", size=16)\n",
    "plt.ylabel(\"Frequency\", size=16)\n",
    "plt.title(\"A Histogram of California Median House Values Circa 1990\", size=22)\n",
    "plt.xticks(size=16)\n",
    "plt.yticks(size=16)\n",
    "plt.savefig(\"HouseValues.png\", dpi=36*4)\n",
    "plt.show()\n",
    "\n"
   ]
  },
  {
   "cell_type": "markdown",
   "metadata": {},
   "source": [
    "There are two important observations to be made from this data; First, the distribution of prices is not normal, it is closer to a Gamma distribution. Second, there is a very sharp spike of instances at the \\\\$500,000 mark, this can an indication of \"censored\" data. In essence, the data might have been recorded up to \\\\$500,000, at which point it was recorded as \"\\\\$500,000+\"\n",
    "\n",
    "Let's explore how well a linear regression performs on this data:"
   ]
  },
  {
   "cell_type": "code",
   "execution_count": 12,
   "metadata": {},
   "outputs": [
    {
     "name": "stdout",
     "output_type": "stream",
     "text": [
      "-36.94192020718441\n",
      "[ 0.43669329  0.00943578 -0.10732204  0.64506569 -0.00000398 -0.00378654\n",
      " -0.42131438 -0.43451375]\n"
     ]
    }
   ],
   "source": [
    "from sklearn.metrics import r2_score\n",
    "from sklearn.linear_model import LinearRegression\n",
    "\n",
    "my_linear_regression = LinearRegression().fit(X,y)\n",
    "\n",
    "print(my_linear_regression.intercept_)\n",
    "print(my_linear_regression.coef_)\n",
    "\n",
    "y_pred = my_linear_regression.predict(X)\n",
    "\n",
    "y_small = y[y<5.0]\n",
    "y_pred_small = y_pred[y<5.0]\n",
    "\n",
    "y_pred = np.where(y_pred > 5.0, 5.0, y_pred)"
   ]
  },
  {
   "cell_type": "code",
   "execution_count": 13,
   "metadata": {},
   "outputs": [
    {
     "data": {
      "image/png": "[encoded data removed]",
      "text/plain": [
       "<Figure size 1080x360 with 1 Axes>"
      ]
     },
     "metadata": {
      "needs_background": "light"
     },
     "output_type": "display_data"
    }
   ],
   "source": [
    "plt.figure(figsize=(15, 5))\n",
    "plt.scatter(y_pred, y, c=\"blue\", edgecolor=\"black\", label=f'R^2={round(r2_score(y, y_pred),2)}')\n",
    "plt.title(\"Predicted House Price vs Actual House Price\", size=22)\n",
    "plt.xlabel(\"Predicted House Price (in $100K)\", size=16)\n",
    "plt.ylabel(\"True House Price (in $100K)\", size=16)\n",
    "plt.legend()\n",
    "plt.show()"
   ]
  },
  {
   "cell_type": "code",
   "execution_count": 14,
   "metadata": {},
   "outputs": [
    {
     "data": {
      "image/png": "[encoded data removed]",
      "text/plain": [
       "<Figure size 1080x360 with 1 Axes>"
      ]
     },
     "metadata": {
      "needs_background": "light"
     },
     "output_type": "display_data"
    }
   ],
   "source": [
    "plt.figure(figsize=(15, 5))\n",
    "plt.scatter(y_pred_small, y_small, c=\"blue\", edgecolor=\"black\", label=f'R^2={round(r2_score(y_small, y_pred_small),2)}')\n",
    "plt.title(\"Predicted House Price vs Actual House Price\", size=22)\n",
    "plt.xlabel(\"Predicted House Price (in $100K)\", size=16)\n",
    "plt.ylabel(\"True House Price (in $100K)\", size=16)\n",
    "plt.legend()\n",
    "plt.show()"
   ]
  },
  {
   "cell_type": "markdown",
   "metadata": {},
   "source": [
    "There are a few issues with this model"
   ]
  },
  {
   "cell_type": "code",
   "execution_count": 15,
   "metadata": {},
   "outputs": [],
   "source": [
    "import pymc4 as pm\n",
    "import time"
   ]
  },
  {
   "cell_type": "code",
   "execution_count": null,
   "metadata": {},
   "outputs": [],
   "source": [
    "@pm.model\n",
    "def model_normal(X, y, column_names):\n",
    "    \n",
    "    \n",
    "    #linear_combination = pyro.sample(f\"beta_intercept\", dist.Normal(0.0, 1.0))\n",
    "    linear_combination = pm.Normal(f\"beta_intercept\", loc=0.0, scale=1.0)\n",
    "    \n",
    "    \n",
    "    for i in range(0, X.shape[1]):\n",
    "        #beta_i = pyro.sample(f\"beta_{column_names[i]}\", dist.Normal(0.0, 1.0))\n",
    "        beta_i = pm.Normal(f\"beta_{column_names[i]}\", loc=0.0, scale=1.0)\n",
    "        linear_combination = linear_combination + (beta_i * X[:, i])\n",
    "    \n",
    "    #sigma = pyro.sample(\"sigma\", dist.HalfCauchy(scale=10.0))\n",
    "    sigma = pm.HalfCauchy(scale=10.0)\n",
    "    \n",
    "\n",
    "    mean = linear_combination\n",
    "    \n",
    "        \n",
    "        \n",
    "    observation = pm.Normal(\"obs\", loc=0.0, scale=1.0, obs=y)"
   ]
  },
  {
   "cell_type": "code",
   "execution_count": null,
   "metadata": {},
   "outputs": [],
   "source": [
    "pyro.clear_param_store()\n",
    "my_kernel = NUTS(model_normal, max_tree_depth=7)\n",
    "\n",
    "\n",
    "my_mcmc1 = MCMC(my_kernel,\n",
    "                num_samples=6000,\n",
    "                warmup_steps=100)\n",
    "\n",
    "X_torch = torch.tensor(X)\n",
    "y_torch = torch.tensor(y)\n",
    "\n",
    "\n",
    "start_time = time.time()\n",
    "my_mcmc1.run(X_torch,y_torch, california.feature_names)\n",
    "end_time = time.time()\n",
    "\n",
    "print(f'Inference ran for {round(end_time -  start_time, 2)} seconds')"
   ]
  },
  {
   "cell_type": "code",
   "execution_count": null,
   "metadata": {},
   "outputs": [],
   "source": [
    "my_mcmc1.summary()"
   ]
  },
  {
   "cell_type": "code",
   "execution_count": null,
   "metadata": {},
   "outputs": [],
   "source": [
    "def create_beta_df(my_mcmc, scaler=None):\n",
    "    beta_df = pd.DataFrame(my_mcmc.get_samples())\n",
    "\n",
    "\n",
    "    if (scaler is not None):\n",
    "        i = 0\n",
    "        for col in beta_df:\n",
    "            if (col != 'beta_intercept'):\n",
    "                if ('beta_' in col):\n",
    "\n",
    "                    beta_df['beta_intercept'] -= (beta_df[col] * scaler.mean_[i])/scaler.scale_[i]\n",
    "                    beta_df[col] /= scaler.scale_[i]\n",
    "\n",
    "                    i += 1\n",
    "\n",
    "    return beta_df"
   ]
  },
  {
   "cell_type": "code",
   "execution_count": null,
   "metadata": {},
   "outputs": [],
   "source": [
    "def draw_coefficients(beta_df):\n",
    "    figure, axis = plt.subplots(5,2, figsize=(15,15))\n",
    "\n",
    "\n",
    "    for key, ax in zip(beta_df.columns, axis.ravel()):\n",
    "        ax.set_title(key)\n",
    "        ax.hist(beta_df[key], color=\"blue\", edgecolor=\"black\", bins=100)\n",
    "\n",
    "    plt.subplots_adjust(hspace=0.5)"
   ]
  },
  {
   "cell_type": "code",
   "execution_count": null,
   "metadata": {},
   "outputs": [],
   "source": [
    "beta_df = create_beta_df(my_mcmc1)\n",
    "draw_coefficients(beta_df)"
   ]
  },
  {
   "cell_type": "code",
   "execution_count": null,
   "metadata": {},
   "outputs": [],
   "source": [
    "coefficients = beta_df.iloc[:, :-1].mean()\n",
    "coefficients\n",
    "\n",
    "linear_combination = X.dot(coefficients[1:]) + coefficients.iloc[0]\n",
    "linear_combination.shape"
   ]
  },
  {
   "cell_type": "code",
   "execution_count": null,
   "metadata": {},
   "outputs": [],
   "source": [
    "y_pred = linear_combination\n",
    "y_pred_small = y_pred[y<5.0]\n",
    "y_pred= np.where(y_pred > 5.0, 5.0, y_pred)"
   ]
  },
  {
   "cell_type": "code",
   "execution_count": null,
   "metadata": {},
   "outputs": [],
   "source": [
    "plt.figure(figsize=(15, 5))\n",
    "plt.scatter(y_pred, y, c=\"blue\", edgecolor=\"black\", label=f'R^2={round(r2_score(y, y_pred), 2)}')\n",
    "plt.title(\"Predicted House Price vs Actual House Price\", size=22)\n",
    "plt.xlabel(\"Predicted House Price (in $100K)\", size=16)\n",
    "plt.ylabel(\"True House Price (in $100K)\", size=16)\n",
    "plt.legend()\n",
    "plt.show()"
   ]
  },
  {
   "cell_type": "code",
   "execution_count": null,
   "metadata": {},
   "outputs": [],
   "source": [
    "plt.figure(figsize=(15, 5))\n",
    "plt.scatter(y_pred_small, y_small, c=\"blue\", edgecolor=\"black\", label=f'R^2={round(r2_score(y_small, y_pred_small),2)}')\n",
    "plt.title(\"Predicted House Price vs Actual House Price\", size=22)\n",
    "plt.xlabel(\"Predicted House Price (in $100K)\", size=16)\n",
    "plt.ylabel(\"True House Price (in $100K)\", size=16)\n",
    "plt.legend()\n",
    "plt.show()"
   ]
  },
  {
   "cell_type": "markdown",
   "metadata": {},
   "source": [
    "## Scaled data"
   ]
  },
  {
   "cell_type": "code",
   "execution_count": null,
   "metadata": {},
   "outputs": [],
   "source": [
    "from sklearn.preprocessing import StandardScaler\n",
    "\n",
    "my_scaler = StandardScaler()\n",
    "X_scaled = my_scaler.fit_transform(X)\n",
    "\n",
    "pyro.clear_param_store()\n",
    "my_kernel = NUTS(model_normal, max_tree_depth=7)\n",
    "\n",
    "\n",
    "my_mcmc2 = MCMC(my_kernel,\n",
    "                num_samples=6000,\n",
    "                warmup_steps=100)\n",
    "\n",
    "X_torch = torch.tensor(X_scaled)\n",
    "y_torch = torch.tensor(y)\n",
    "\n",
    "\n",
    "start_time = time.time()\n",
    "my_mcmc2.run(X_torch,y_torch, california.feature_names)\n",
    "end_time = time.time()\n",
    "\n",
    "print(f'Inference ran for {round(end_time -  start_time, 2)} seconds')\n",
    "my_mcmc2.summary()"
   ]
  },
  {
   "cell_type": "code",
   "execution_count": null,
   "metadata": {},
   "outputs": [],
   "source": [
    "beta2_df = create_beta_df(my_mcmc2, my_scaler)\n",
    "draw_coefficients(beta2_df)"
   ]
  },
  {
   "cell_type": "code",
   "execution_count": null,
   "metadata": {},
   "outputs": [],
   "source": [
    "coefficients = beta2_df.iloc[:, :-1].median()\n",
    "coefficients\n",
    "\n",
    "linear_combination = X.dot(coefficients[1:]) + coefficients.iloc[0]\n",
    "linear_combination.shape"
   ]
  },
  {
   "cell_type": "code",
   "execution_count": null,
   "metadata": {},
   "outputs": [],
   "source": [
    "y_pred = linear_combination\n",
    "y_pred_small = y_pred[y<5.0]\n",
    "y_pred= np.where(y_pred > 5.0, 5.0, y_pred)"
   ]
  },
  {
   "cell_type": "code",
   "execution_count": null,
   "metadata": {},
   "outputs": [],
   "source": [
    "plt.figure(figsize=(15, 5))\n",
    "plt.scatter(y_pred, y, c=\"blue\", edgecolor=\"black\", label=f'R^2={round(r2_score(y, y_pred), 2)}')\n",
    "plt.title(\"Predicted House Price vs Actual House Price\", size=22)\n",
    "plt.xlabel(\"Predicted House Price (in $100K)\", size=16)\n",
    "plt.ylabel(\"True House Price (in $100K)\", size=16)\n",
    "plt.legend()\n",
    "plt.show()"
   ]
  },
  {
   "cell_type": "code",
   "execution_count": null,
   "metadata": {},
   "outputs": [],
   "source": [
    "plt.figure(figsize=(15, 5))\n",
    "plt.scatter(y_pred_small, y_small, c=\"blue\", edgecolor=\"black\", label=f'R^2={round(r2_score(y_small, y_pred_small),2)}')\n",
    "plt.title(\"Predicted House Price vs Actual House Price\", size=22)\n",
    "plt.xlabel(\"Predicted House Price (in $100K)\", size=16)\n",
    "plt.ylabel(\"True House Price (in $100K)\", size=16)\n",
    "plt.legend()\n",
    "plt.show()"
   ]
  },
  {
   "cell_type": "markdown",
   "metadata": {},
   "source": [
    "## Gamma Distribution"
   ]
  },
  {
   "cell_type": "code",
   "execution_count": null,
   "metadata": {},
   "outputs": [],
   "source": [
    "def model_gamma(X, y, column_names):\n",
    "    \n",
    "    \n",
    "    linear_combination = pyro.sample(f\"beta_intercept\", dist.Normal(0.0, 1.0))\n",
    "    \n",
    "    \n",
    "    for i in range(0, X.shape[1]):\n",
    "        beta_i = pyro.sample(f\"beta_{column_names[i]}\", dist.Normal(0.0, 1.0))\n",
    "        linear_combination = linear_combination + (beta_i * X[:, i])\n",
    "    \n",
    "    rate = pyro.sample(\"rate\", dist.HalfCauchy(scale=10.0))\n",
    "    \n",
    "\n",
    "    mean = torch.exp(linear_combination)\n",
    "    \n",
    "    shape = mean * rate\n",
    "    \n",
    "    \n",
    "    \n",
    "    \n",
    "    with pyro.plate(\"data\", y.shape[0]):\n",
    "        \n",
    "        outcome_dist = dist.Gamma(shape, rate)\n",
    "        \n",
    "        observation = pyro.sample(\"obs\", outcome_dist, obs=y)"
   ]
  },
  {
   "cell_type": "code",
   "execution_count": null,
   "metadata": {},
   "outputs": [],
   "source": [
    "from sklearn.preprocessing import StandardScaler\n",
    "\n",
    "my_scaler = StandardScaler()\n",
    "X_scaled = my_scaler.fit_transform(X)\n",
    "\n",
    "pyro.clear_param_store()\n",
    "my_kernel = NUTS(model_gamma, max_tree_depth=7)\n",
    "\n",
    "\n",
    "my_mcmc3 = MCMC(my_kernel,\n",
    "                num_samples=6000,\n",
    "                warmup_steps=100)\n",
    "\n",
    "X_torch = torch.tensor(X_scaled)\n",
    "y_torch = torch.tensor(y)\n",
    "\n",
    "\n",
    "start_time = time.time()\n",
    "my_mcmc3.run(X_torch,y_torch, california.feature_names)\n",
    "end_time = time.time()\n",
    "\n",
    "print(f'Inference ran for {round(end_time -  start_time, 2)} seconds')\n",
    "my_mcmc3.summary()"
   ]
  },
  {
   "cell_type": "code",
   "execution_count": null,
   "metadata": {},
   "outputs": [],
   "source": [
    "beta3_df = create_beta_df(my_mcmc3, my_scaler)\n",
    "draw_coefficients(beta3_df)"
   ]
  },
  {
   "cell_type": "code",
   "execution_count": null,
   "metadata": {},
   "outputs": [],
   "source": [
    "coefficients = beta3_df.iloc[:, :-1].median()\n",
    "coefficients\n",
    "\n",
    "linear_combination = X.dot(coefficients[1:]) + coefficients.iloc[0]\n",
    "linear_combination.shape"
   ]
  },
  {
   "cell_type": "code",
   "execution_count": null,
   "metadata": {},
   "outputs": [],
   "source": [
    "y_pred = np.exp(linear_combination)\n",
    "y_pred_small = y_pred[y<5.0]\n",
    "y_pred= np.where(y_pred > 5.0, 5.0, y_pred)"
   ]
  },
  {
   "cell_type": "code",
   "execution_count": null,
   "metadata": {},
   "outputs": [],
   "source": [
    "plt.figure(figsize=(15, 5))\n",
    "plt.scatter(y_pred, y, c=\"blue\", edgecolor=\"black\", label=f'R^2={round(r2_score(y, y_pred), 2)}')\n",
    "plt.title(\"Predicted House Price vs Actual House Price\", size=22)\n",
    "plt.xlabel(\"Predicted House Price (in $100K)\", size=16)\n",
    "plt.ylabel(\"True House Price (in $100K)\", size=16)\n",
    "plt.legend()\n",
    "plt.show()"
   ]
  },
  {
   "cell_type": "code",
   "execution_count": null,
   "metadata": {},
   "outputs": [],
   "source": [
    "plt.figure(figsize=(15, 5))\n",
    "plt.scatter(y_pred_small, y_small, c=\"blue\", edgecolor=\"black\", label=f'R^2={round(r2_score(y_small, y_pred_small),2)}')\n",
    "plt.title(\"Predicted House Price vs Actual House Price\", size=22)\n",
    "plt.xlabel(\"Predicted House Price (in $100K)\", size=16)\n",
    "plt.ylabel(\"True House Price (in $100K)\", size=16)\n",
    "plt.legend()\n",
    "plt.show()"
   ]
  },
  {
   "cell_type": "markdown",
   "metadata": {},
   "source": [
    "## Gamma + Censored data"
   ]
  },
  {
   "cell_type": "code",
   "execution_count": null,
   "metadata": {},
   "outputs": [],
   "source": [
    "from scipy.stats import gamma as scipygamma\n",
    "def model_gamma_cen(X, y, column_names, censored_label):\n",
    "    \n",
    "    \n",
    "    linear_combination = pyro.sample(f\"beta_intercept\", dist.Normal(0.0, 1.0))\n",
    "    \n",
    "    \n",
    "    for i in range(0, X.shape[1]):\n",
    "        beta_i = pyro.sample(f\"beta_{column_names[i]}\", dist.Normal(0.0, 1.0))\n",
    "        linear_combination = linear_combination + (beta_i * X[:, i])\n",
    "    \n",
    "    rate = pyro.sample(\"rate\", dist.HalfCauchy(scale=10.0))\n",
    "    \n",
    "\n",
    "    mean = torch.exp(linear_combination)\n",
    "    \n",
    "    shape = mean * rate\n",
    "    \n",
    "    \n",
    "    \n",
    "    \n",
    "    with pyro.plate(\"data\", y.shape[0]):\n",
    "        \n",
    "        outcome_dist = dist.Gamma(shape, rate)\n",
    "        \n",
    "        with pyro.poutine.mask(mask = (censored_label == 0.0)):\n",
    "            observation = pyro.sample(\"obs\", outcome_dist, obs=y)\n",
    "            \n",
    "        with pyro.poutine.mask(mask = (censored_label == 1.0)):\n",
    "\n",
    "            truncation_prob = torch.tensor(1 - scipygamma(shape.detach(), rate.detach()).cdf(y))\n",
    "            \n",
    "            censored_observation = pyro.sample(\"censorship\",\n",
    "                                               dist.Bernoulli(truncation_prob),\n",
    "                                               obs=torch.tensor(1.0))\n",
    "        "
   ]
  },
  {
   "cell_type": "code",
   "execution_count": null,
   "metadata": {},
   "outputs": [],
   "source": [
    "from sklearn.preprocessing import StandardScaler\n",
    "\n",
    "my_scaler = StandardScaler()\n",
    "X_scaled = my_scaler.fit_transform(X)\n",
    "\n",
    "pyro.clear_param_store()\n",
    "my_kernel = NUTS(model_gamma_cen, max_tree_depth=7)\n",
    "\n",
    "\n",
    "my_mcmc4 = MCMC(my_kernel,\n",
    "                num_samples=6000,\n",
    "                warmup_steps=100)\n",
    "\n",
    "X_torch = torch.tensor(X_scaled)\n",
    "y_torch = torch.tensor(y)\n",
    "\n",
    "numpy_censored_label = np.where(y >= 5.0, 1.0, 0.0)\n",
    "censored_label = torch.tensor(numpy_censored_label)\n",
    "\n",
    "\n",
    "start_time = time.time()\n",
    "my_mcmc4.run(X_torch,y_torch, california.feature_names, censored_label)\n",
    "end_time = time.time()\n",
    "\n",
    "print(f'Inference ran for {round(end_time -  start_time, 2)} seconds')\n",
    "my_mcmc4.summary()"
   ]
  },
  {
   "cell_type": "code",
   "execution_count": null,
   "metadata": {},
   "outputs": [],
   "source": [
    "beta4_df = create_beta_df(my_mcmc4, my_scaler)\n",
    "draw_coefficients(beta4_df)"
   ]
  },
  {
   "cell_type": "code",
   "execution_count": null,
   "metadata": {},
   "outputs": [],
   "source": [
    "coefficients = beta4_df.iloc[:, :-1].median()\n",
    "display(coefficients)\n",
    "\n",
    "linear_combination = X.dot(coefficients[1:]) + coefficients.iloc[0]\n",
    "linear_combination.shape"
   ]
  },
  {
   "cell_type": "code",
   "execution_count": null,
   "metadata": {},
   "outputs": [],
   "source": [
    "y_pred = np.exp(linear_combination)\n",
    "y_pred_small = y_pred[y<5.0]\n",
    "y_pred= np.where(y_pred > 5.0, 5.0, y_pred)"
   ]
  },
  {
   "cell_type": "code",
   "execution_count": null,
   "metadata": {},
   "outputs": [],
   "source": [
    "plt.figure(figsize=(15, 5))\n",
    "plt.scatter(y_pred, y, c=\"blue\", edgecolor=\"black\", label=f'R^2={round(r2_score(y, y_pred), 2)}')\n",
    "plt.title(\"Predicted House Price vs Actual House Price\", size=22)\n",
    "plt.xlabel(\"Predicted House Price (in $100K)\", size=16)\n",
    "plt.ylabel(\"True House Price (in $100K)\", size=16)\n",
    "plt.legend()\n",
    "plt.show()"
   ]
  },
  {
   "cell_type": "code",
   "execution_count": null,
   "metadata": {},
   "outputs": [],
   "source": [
    "plt.figure(figsize=(15, 5))\n",
    "plt.scatter(y_pred_small, y_small, c=\"blue\", edgecolor=\"black\", label=f'R^2={round(r2_score(y_small, y_pred_small),2)}')\n",
    "plt.title(\"Predicted House Price vs Actual House Price\", size=22)\n",
    "plt.xlabel(\"Predicted House Price (in $100K)\", size=16)\n",
    "plt.ylabel(\"True House Price (in $100K)\", size=16)\n",
    "plt.legend()\n",
    "plt.show()"
   ]
  },
  {
   "cell_type": "code",
   "execution_count": null,
   "metadata": {},
   "outputs": [],
   "source": [
    "def draw_multiple_dfs(dfs, df_labels):\n",
    "    figure, axis = plt.subplots(5,2, figsize=(15,15))\n",
    "\n",
    "    beta_df = dfs[0]\n",
    "    i = 0\n",
    "    for key, ax in zip(beta_df.columns, axis.ravel()):\n",
    "        ax.set_title(key)\n",
    "        i=0\n",
    "        for df in dfs:\n",
    "            ax.hist(df[key], alpha=0.5, bins=100, label=df_labels[i])            \n",
    "            i+=1\n",
    "        ax.legend()\n",
    "\n",
    "    plt.subplots_adjust(hspace=0.5)"
   ]
  },
  {
   "cell_type": "code",
   "execution_count": null,
   "metadata": {},
   "outputs": [],
   "source": [
    "draw_multiple_dfs([beta3_df, beta4_df], [\"gamma\", \"gamma+censoring\"])"
   ]
  },
  {
   "cell_type": "markdown",
   "metadata": {},
   "source": [
    "## SVI"
   ]
  },
  {
   "cell_type": "code",
   "execution_count": null,
   "metadata": {},
   "outputs": [],
   "source": [
    "from scipy.stats import gamma as scipygamma\n",
    "def model_gamma_cen(X, y, column_names, censored_label):\n",
    "    \n",
    "    \n",
    "    linear_combination = pyro.sample(f\"beta_intercept\", dist.Normal(0.0, 1.0))\n",
    "    \n",
    "    \n",
    "    for i in range(0, X.shape[1]):\n",
    "        beta_i = pyro.sample(f\"beta_{column_names[i]}\", dist.Normal(0.0, 1.0))\n",
    "        linear_combination = linear_combination + (beta_i * X[:, i])\n",
    "    \n",
    "    rate = pyro.sample(\"rate\", dist.HalfCauchy(scale=10.0))\n",
    "    \n",
    "\n",
    "    mean = torch.exp(linear_combination)\n",
    "    \n",
    "    shape = mean * rate\n",
    "    \n",
    "    \n",
    "    \n",
    "    \n",
    "    with pyro.plate(\"data\", y.shape[0]):\n",
    "        \n",
    "        outcome_dist = dist.Gamma(shape, rate)\n",
    "        \n",
    "        with pyro.poutine.mask(mask = (censored_label == 0.0)):\n",
    "            observation = pyro.sample(\"obs\", outcome_dist, obs=y)\n",
    "            \n",
    "        with pyro.poutine.mask(mask = (censored_label == 1.0)):\n",
    "\n",
    "            truncation_prob = torch.tensor(1 - scipygamma(shape.detach(), rate.detach()).cdf(y))\n",
    "            \n",
    "            censored_observation = pyro.sample(\"censorship\",\n",
    "                                               dist.Bernoulli(truncation_prob),\n",
    "                                               obs=torch.tensor(1.0))\n",
    "        "
   ]
  },
  {
   "cell_type": "code",
   "execution_count": null,
   "metadata": {},
   "outputs": [],
   "source": [
    "from torch.distributions import constraints\n",
    "def guide_gamma_cen(X, y, column_names, censored_label):\n",
    "    \n",
    "    mu_intercept = pyro.param(\"mu_intercept\", torch.tensor(0.0))\n",
    "    sigma_intercept = pyro.param(\"sigma_intercept\", torch.tensor(1.0), constraint=constraints.positive)\n",
    "    linear_combination = pyro.sample(f\"beta_intercept\", dist.Normal(mu_intercept, \n",
    "                                                                    sigma_intercept))\n",
    "    \n",
    "    \n",
    "    for i in range(0, X.shape[1]):\n",
    "        mu_beta = pyro.param(f\"mu_{column_names[i]}\", torch.tensor(0.0))\n",
    "        sigma_beta = pyro.param(f\"sigma_{column_names[i]}\", torch.tensor(1.0), constraint=constraints.positive)\n",
    "        beta_i = pyro.sample(f\"beta_{column_names[i]}\", dist.Normal(mu_beta, \n",
    "                                                                    sigma_beta))\n",
    "    \n",
    "    mu_rate = pyro.param(\"mu_rate\", torch.tensor(10.0), constraint=constraints.positive)\n",
    "    sigma_rate = pyro.param(\"sigma_rate\", torch.tensor(1.0), constraint=constraints.positive)\n",
    "    \n",
    "    \n",
    "    rate = pyro.sample(\"rate\", dist.Gamma(mu_rate, sigma_rate))\n",
    "    \n",
    "        "
   ]
  },
  {
   "cell_type": "code",
   "execution_count": null,
   "metadata": {},
   "outputs": [],
   "source": [
    "from pyro.infer import SVI, Trace_ELBO\n",
    "from pyro.optim import ClippedAdam\n",
    "from pyro.infer.autoguide import AutoDiagonalNormal, AutoMultivariateNormal\n",
    "\n",
    "pyro.clear_param_store()\n",
    "my_guide = guide_gamma_cen\n",
    "#my_guide = AutoMultivariateNormal(model_gamma_cen)\n",
    "\n",
    "my_svi = SVI(model=model_gamma_cen,\n",
    "             guide= my_guide,\n",
    "             optim=ClippedAdam({\"lr\": 0.01}),\n",
    "             loss=Trace_ELBO())\n",
    "\n",
    "X_torch = torch.tensor(X_scaled)\n",
    "y_torch = torch.tensor(y)\n",
    "\n",
    "numpy_censored_label = np.where(y >= 5.0, 1.0, 0.0)\n",
    "censored_label = torch.tensor(numpy_censored_label)\n",
    "\n",
    "\n",
    "for i in range(10000):\n",
    "    loss = my_svi.step(X_torch,y_torch, california.feature_names, censored_label)\n",
    "    normalized_loss = loss/X_torch.shape[0]\n",
    "    if (i % 500 == 0):\n",
    "        print(f'iter: {i}, normalized loss:{round(normalized_loss,2)}')\n"
   ]
  },
  {
   "cell_type": "code",
   "execution_count": null,
   "metadata": {},
   "outputs": [],
   "source": [
    "from pyro.infer import Predictive\n",
    "\n",
    "sample_num = 6000\n",
    "predictive = Predictive(model=model_gamma_cen,\n",
    "                        guide= my_guide,\n",
    "                        num_samples=sample_num) # Notice this is a tuple\n",
    "\n",
    "samples = predictive(X_torch,y_torch, california.feature_names, censored_label)\n",
    "\n",
    "\n",
    "beta_svi_df = {}\n",
    "for key, values in samples.items():\n",
    "    if (\"beta_\" in key) or (\"rate\" in key):\n",
    "        \n",
    "        \n",
    "        beta_svi_df[key] = values.detach().numpy().reshape(-1,)\n",
    "        #print(f'finished {key}', end='\\r')\n",
    "        \n",
    "beta_svi_df = pd.DataFrame(beta_svi_df)"
   ]
  },
  {
   "cell_type": "code",
   "execution_count": null,
   "metadata": {},
   "outputs": [],
   "source": [
    "i = 0\n",
    "for col in beta_svi_df:\n",
    "    if (col != 'beta_intercept'):\n",
    "        if ('beta_' in col):\n",
    "\n",
    "            beta_svi_df['beta_intercept'] -= (beta_svi_df[col] * my_scaler.mean_[i])/my_scaler.scale_[i]\n",
    "            beta_svi_df[col] /= my_scaler.scale_[i]\n",
    "\n",
    "            i += 1"
   ]
  },
  {
   "cell_type": "code",
   "execution_count": null,
   "metadata": {},
   "outputs": [],
   "source": [
    "draw_coefficients(beta_svi_df)"
   ]
  },
  {
   "cell_type": "code",
   "execution_count": null,
   "metadata": {},
   "outputs": [],
   "source": [
    "coefficients = beta_svi_df.iloc[:, :-1].median()\n",
    "display(coefficients)\n",
    "\n",
    "linear_combination = X.dot(coefficients[1:]) + coefficients.iloc[0]\n",
    "linear_combination.shape"
   ]
  },
  {
   "cell_type": "code",
   "execution_count": null,
   "metadata": {},
   "outputs": [],
   "source": [
    "y_pred = np.exp(linear_combination)\n",
    "y_pred_small = y_pred[y<5.0]\n",
    "y_pred= np.where(y_pred > 5.0, 5.0, y_pred)"
   ]
  },
  {
   "cell_type": "code",
   "execution_count": null,
   "metadata": {},
   "outputs": [],
   "source": [
    "plt.figure(figsize=(15, 5))\n",
    "plt.scatter(y_pred, y, c=\"blue\", edgecolor=\"black\", label=f'R^2={round(r2_score(y, y_pred), 2)}')\n",
    "plt.title(\"Predicted House Price vs Actual House Price\", size=22)\n",
    "plt.xlabel(\"Predicted House Price (in $100K)\", size=16)\n",
    "plt.ylabel(\"True House Price (in $100K)\", size=16)\n",
    "plt.legend()\n",
    "plt.show()"
   ]
  },
  {
   "cell_type": "code",
   "execution_count": null,
   "metadata": {},
   "outputs": [],
   "source": [
    "plt.figure(figsize=(15, 5))\n",
    "plt.scatter(y_pred_small, y_small, c=\"blue\", edgecolor=\"black\", label=f'R^2={round(r2_score(y_small, y_pred_small),2)}')\n",
    "plt.title(\"Predicted House Price vs Actual House Price\", size=22)\n",
    "plt.xlabel(\"Predicted House Price (in $100K)\", size=16)\n",
    "plt.ylabel(\"True House Price (in $100K)\", size=16)\n",
    "plt.legend()\n",
    "plt.show()"
   ]
  },
  {
   "cell_type": "code",
   "execution_count": null,
   "metadata": {},
   "outputs": [],
   "source": []
  }
 ],
 "metadata": {
  "hide_input": false,
  "kernelspec": {
   "display_name": "Python 3",
   "language": "python",
   "name": "python3"
  },
  "language_info": {
   "codemirror_mode": {
    "name": "ipython",
    "version": 3
   },
   "file_extension": ".py",
   "mimetype": "text/x-python",
   "name": "python",
   "nbconvert_exporter": "python",
   "pygments_lexer": "ipython3",
   "version": "3.7.6"
  }
 },
 "nbformat": 4,
 "nbformat_minor": 4
}
