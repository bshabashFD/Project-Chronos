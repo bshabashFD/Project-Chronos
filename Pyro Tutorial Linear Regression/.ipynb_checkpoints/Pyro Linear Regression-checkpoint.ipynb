{
 "cells": [
  {
   "cell_type": "code",
   "execution_count": 1,
   "metadata": {},
   "outputs": [],
   "source": [
    "#https://math.embed.fun/8HzEmimwFL2Fi8uTdiPFqr"
   ]
  },
  {
   "cell_type": "markdown",
   "metadata": {},
   "source": [
    "# Bayesian Generalized Linear Model Construction with Pyro\n",
    "\n",
    "One of the most common \"first lines of attack\" when faced with a predictive or analytical data project is the family of Generalized Linear Models (GLMs), and most commonly the linear or logistic regressions.\n",
    "\n",
    "GLMs seek to model a response variable, $y$, as a function of a linear combination of features $X$. The reason for the linear combination is largely for the purpose of explainability; We want to not only be able to predict $y$ well, but also be able to explain what is the effect of each feature on our response.\n",
    "\n",
    "Thus, we usually specify a GLM as our response being a combination of features and coefficients as follows:\n",
    "\n",
    "$$y = f(\\beta_0 + \\beta_1 x_1 + \\beta_2 x_2 ... + \\beta_n x_n)$$\n",
    "\n",
    "Where the coefficients are denoted with the Greek letter $\\beta$\n",
    "\n",
    "\n",
    "While libraries such as `sklearn` offer a rich variety of regression models, they have one major drawback in that they create point estimates of $\\beta$ without taking uncertainty into account. That is, while we can find out what are the most likely values for the coefficient, we don't estimate how likely are other values for the coefficients. Other packages such as `statsmodels` offer some measure of uncertainty, but do so under a series of implicit assumptions the analyst may not get to verify\n",
    "\n",
    "In this article we'll discuss how to leverage PyTorch and Pyro to produce GLM models which create uncertainty estimates both for the parameters, as well as for predictions, and do so with a set of very explicit assumptions"
   ]
  },
  {
   "cell_type": "markdown",
   "metadata": {},
   "source": [
    "## Employing Scikit-learn's Linear Regression\n",
    "\n",
    "We'll start by exploring a simple linear regression from `sklearn`, and see how it behaves on one of the built in datasets in `sklearn`, the California Housing dataset.\n",
    "\n",
    "We'll start by importing all our required libraries"
   ]
  },
  {
   "cell_type": "code",
   "execution_count": 2,
   "metadata": {},
   "outputs": [],
   "source": [
    "import numpy as np\n",
    "import time\n",
    "np.set_printoptions(suppress=True)\n",
    "\n",
    "\n",
    "import pandas as pd\n",
    "import matplotlib.pyplot as plt\n",
    "import seaborn as sns"
   ]
  },
  {
   "cell_type": "code",
   "execution_count": 3,
   "metadata": {},
   "outputs": [
    {
     "data": {
      "text/html": [
       "<div>\n",
       "<style scoped>\n",
       "    .dataframe tbody tr th:only-of-type {\n",
       "        vertical-align: middle;\n",
       "    }\n",
       "\n",
       "    .dataframe tbody tr th {\n",
       "        vertical-align: top;\n",
       "    }\n",
       "\n",
       "    .dataframe thead th {\n",
       "        text-align: right;\n",
       "    }\n",
       "</style>\n",
       "<table border=\"1\" class=\"dataframe\">\n",
       "  <thead>\n",
       "    <tr style=\"text-align: right;\">\n",
       "      <th></th>\n",
       "      <th>model</th>\n",
       "      <th>measurement</th>\n",
       "      <th>censored</th>\n",
       "      <th>value</th>\n",
       "    </tr>\n",
       "  </thead>\n",
       "  <tbody>\n",
       "    <tr>\n",
       "      <th>85</th>\n",
       "      <td>MCMC scaled gamma</td>\n",
       "      <td>R^2</td>\n",
       "      <td>1.0</td>\n",
       "      <td>0.673767</td>\n",
       "    </tr>\n",
       "    <tr>\n",
       "      <th>86</th>\n",
       "      <td>MCMC scaled gamma</td>\n",
       "      <td>R^2</td>\n",
       "      <td>0.0</td>\n",
       "      <td>0.624357</td>\n",
       "    </tr>\n",
       "    <tr>\n",
       "      <th>87</th>\n",
       "      <td>SVI scaled gamma</td>\n",
       "      <td>time</td>\n",
       "      <td>1.0</td>\n",
       "      <td>45.340000</td>\n",
       "    </tr>\n",
       "    <tr>\n",
       "      <th>88</th>\n",
       "      <td>SVI scaled gamma</td>\n",
       "      <td>R^2</td>\n",
       "      <td>1.0</td>\n",
       "      <td>0.668602</td>\n",
       "    </tr>\n",
       "    <tr>\n",
       "      <th>89</th>\n",
       "      <td>SVI scaled gamma</td>\n",
       "      <td>R^2</td>\n",
       "      <td>0.0</td>\n",
       "      <td>0.619951</td>\n",
       "    </tr>\n",
       "  </tbody>\n",
       "</table>\n",
       "</div>"
      ],
      "text/plain": [
       "                model measurement  censored      value\n",
       "85  MCMC scaled gamma         R^2       1.0   0.673767\n",
       "86  MCMC scaled gamma         R^2       0.0   0.624357\n",
       "87   SVI scaled gamma        time       1.0  45.340000\n",
       "88   SVI scaled gamma         R^2       1.0   0.668602\n",
       "89   SVI scaled gamma         R^2       0.0   0.619951"
      ]
     },
     "execution_count": 3,
     "metadata": {},
     "output_type": "execute_result"
    }
   ],
   "source": [
    "# TO DELETE\n",
    "super_start = time.time()\n",
    "\n",
    "try:\n",
    "    super_results = pd.read_csv('experimental_measurement.csv')\n",
    "except:\n",
    "    super_results = pd.DataFrame({'model' :[], \n",
    "                     'measurement': [], \n",
    "                     'censored': [],\n",
    "                     'value': []})\n",
    "\n",
    "super_results.tail()"
   ]
  },
  {
   "cell_type": "markdown",
   "metadata": {},
   "source": [
    "Now let's import the housing dataset, and explore its features"
   ]
  },
  {
   "cell_type": "code",
   "execution_count": 4,
   "metadata": {},
   "outputs": [
    {
     "name": "stdout",
     "output_type": "stream",
     "text": [
      "Data shape is (20640, 8)\n",
      "Target shape is (20640,)\n"
     ]
    }
   ],
   "source": [
    "from sklearn.datasets import fetch_california_housing\n",
    "\n",
    "california = fetch_california_housing()\n",
    "\n",
    "X = california.data\n",
    "y = california.target * 100000\n",
    "\n",
    "print(f'Data shape is {X.shape}')\n",
    "print(f'Target shape is {y.shape}')"
   ]
  },
  {
   "cell_type": "code",
   "execution_count": 5,
   "metadata": {},
   "outputs": [
    {
     "data": {
      "image/png": "[encoded data removed]",
      "text/plain": [
       "<Figure size 1080x504 with 1 Axes>"
      ]
     },
     "metadata": {
      "needs_background": "light"
     },
     "output_type": "display_data"
    }
   ],
   "source": [
    "plt.figure(figsize=(15,7))\n",
    "plt.hist(y, bins=100, color=\"blue\", edgecolor=\"black\")\n",
    "plt.xlabel(\"Median House Value (in $100K)\", size=16)\n",
    "plt.ylabel(\"Frequency\", size=16)\n",
    "plt.title(\"A Histogram of California Median House Values Circa 1990\", size=22)\n",
    "plt.xticks(size=16)\n",
    "plt.yticks(size=16)\n",
    "plt.savefig(\"images/HouseValues.svg\", dpi=36*4)\n",
    "plt.show()\n",
    "\n"
   ]
  },
  {
   "cell_type": "markdown",
   "metadata": {},
   "source": [
    "The base linear regression model in many libraries assumes the response is normally distributed around the predicted means. However, generally house prices won't be normally distributed. In this dataset as well, the distribution of prices is not normal, it is closer to a [gamma distribution](https://en.wikipedia.org/wiki/Gamma_distribution). So it would be nice if we were able to build our model so it takes that into account.\n",
    "\n",
    "First, let's explore how well an `sklearn` linear regression performs on this data. We can split the data into train and test sets to get an estimate of how our algorithms will work"
   ]
  },
  {
   "cell_type": "code",
   "execution_count": 6,
   "metadata": {},
   "outputs": [
    {
     "name": "stdout",
     "output_type": "stream",
     "text": [
      "(16512, 8) (16512,)\n",
      "(4128, 8) (4128,)\n"
     ]
    }
   ],
   "source": [
    "from sklearn.metrics import r2_score\n",
    "from sklearn.linear_model import LinearRegression\n",
    "from sklearn.model_selection import train_test_split\n",
    "\n",
    "\n",
    "X_train, X_test, y_train, y_test = train_test_split(X, y, test_size = 0.2)\n",
    "print(X_train.shape, y_train.shape)\n",
    "print(X_test.shape, y_test.shape)"
   ]
  },
  {
   "cell_type": "code",
   "execution_count": 7,
   "metadata": {},
   "outputs": [
    {
     "data": {
      "image/png": "[encoded data removed]",
      "text/plain": [
       "<Figure size 432x288 with 1 Axes>"
      ]
     },
     "metadata": {
      "needs_background": "light"
     },
     "output_type": "display_data"
    }
   ],
   "source": [
    "plt.hist(y_test, bins=100);"
   ]
  },
  {
   "cell_type": "markdown",
   "metadata": {},
   "source": [
    "Let's fit our linear regression:"
   ]
  },
  {
   "cell_type": "code",
   "execution_count": 8,
   "metadata": {},
   "outputs": [
    {
     "name": "stdout",
     "output_type": "stream",
     "text": [
      "beta_intercept: -3683419.23\n",
      "beta_MedInc: 43569.53\n",
      "beta_HouseAge: 996.04\n",
      "beta_AveRooms: -10433.25\n",
      "beta_AveBedrms: 62062.84\n",
      "beta_Population: -0.05\n",
      "beta_AveOccup: -412.0\n",
      "beta_Latitude: -41901.93\n",
      "beta_Longitude: -43292.52\n"
     ]
    }
   ],
   "source": [
    "start_time = time.time()\n",
    "\n",
    "my_linear_regression = LinearRegression().fit(X_train,y_train)\n",
    "\n",
    "y_pred = my_linear_regression.predict(X_test)\n",
    "\n",
    "end_time = time.time()\n",
    "\n",
    "\n",
    "print(f\"beta_intercept: {round(my_linear_regression.intercept_, 2)}\")\n",
    "for i, col in enumerate(california.feature_names):\n",
    "    print(f\"beta_{col}: {round(my_linear_regression.coef_[i], 2)}\")"
   ]
  },
  {
   "cell_type": "code",
   "execution_count": 9,
   "metadata": {},
   "outputs": [
    {
     "data": {
      "text/html": [
       "<div>\n",
       "<style scoped>\n",
       "    .dataframe tbody tr th:only-of-type {\n",
       "        vertical-align: middle;\n",
       "    }\n",
       "\n",
       "    .dataframe tbody tr th {\n",
       "        vertical-align: top;\n",
       "    }\n",
       "\n",
       "    .dataframe thead th {\n",
       "        text-align: right;\n",
       "    }\n",
       "</style>\n",
       "<table border=\"1\" class=\"dataframe\">\n",
       "  <thead>\n",
       "    <tr style=\"text-align: right;\">\n",
       "      <th></th>\n",
       "      <th>model</th>\n",
       "      <th>measurement</th>\n",
       "      <th>censored</th>\n",
       "      <th>value</th>\n",
       "    </tr>\n",
       "  </thead>\n",
       "  <tbody>\n",
       "    <tr>\n",
       "      <th>86</th>\n",
       "      <td>MCMC scaled gamma</td>\n",
       "      <td>R^2</td>\n",
       "      <td>0.0</td>\n",
       "      <td>0.624357</td>\n",
       "    </tr>\n",
       "    <tr>\n",
       "      <th>87</th>\n",
       "      <td>SVI scaled gamma</td>\n",
       "      <td>time</td>\n",
       "      <td>1.0</td>\n",
       "      <td>45.340000</td>\n",
       "    </tr>\n",
       "    <tr>\n",
       "      <th>88</th>\n",
       "      <td>SVI scaled gamma</td>\n",
       "      <td>R^2</td>\n",
       "      <td>1.0</td>\n",
       "      <td>0.668602</td>\n",
       "    </tr>\n",
       "    <tr>\n",
       "      <th>89</th>\n",
       "      <td>SVI scaled gamma</td>\n",
       "      <td>R^2</td>\n",
       "      <td>0.0</td>\n",
       "      <td>0.619951</td>\n",
       "    </tr>\n",
       "    <tr>\n",
       "      <th>90</th>\n",
       "      <td>LR</td>\n",
       "      <td>time</td>\n",
       "      <td>1.0</td>\n",
       "      <td>0.010000</td>\n",
       "    </tr>\n",
       "  </tbody>\n",
       "</table>\n",
       "</div>"
      ],
      "text/plain": [
       "                model measurement  censored      value\n",
       "86  MCMC scaled gamma         R^2       0.0   0.624357\n",
       "87   SVI scaled gamma        time       1.0  45.340000\n",
       "88   SVI scaled gamma         R^2       1.0   0.668602\n",
       "89   SVI scaled gamma         R^2       0.0   0.619951\n",
       "90                 LR        time       1.0   0.010000"
      ]
     },
     "execution_count": 9,
     "metadata": {},
     "output_type": "execute_result"
    }
   ],
   "source": [
    "# TO DELETE\n",
    "new_measurements = pd.Series({\"model\": \"LR\", \n",
    "                              \"measurement\": \"time\", \n",
    "                              \"censored\": True,\n",
    "                              \"value\": round(end_time -  start_time, 2)})\n",
    "\n",
    "super_results = super_results.append(new_measurements, ignore_index=True)\n",
    "super_results.tail()"
   ]
  },
  {
   "cell_type": "markdown",
   "metadata": {},
   "source": [
    "Let's define a function to plot our predictions and the true values for the held out test set:"
   ]
  },
  {
   "cell_type": "code",
   "execution_count": 10,
   "metadata": {},
   "outputs": [],
   "source": [
    "def plot_all_observations(y_true, y_pred, y_max, fig_name):\n",
    "    \n",
    "    y_pred_censored = np.where(y_pred > y_max, y_max, y_pred)\n",
    "    \n",
    "    plt.figure(figsize=(15, 5))\n",
    "    plt.scatter(y_pred_censored, y_test, \n",
    "                c=\"blue\", edgecolor=\"black\", \n",
    "                label=f'R^2={round(r2_score(y_test, y_pred_censored),2)}')\n",
    "    \n",
    "    plt.title(\"Predicted House Price vs Actual House Price\", size=22)\n",
    "    plt.xlabel(\"Predicted House Price ($)\", size=16)\n",
    "    plt.ylabel(\"True House Price ($)\", size=16)\n",
    "    plt.ticklabel_format(style='plain')\n",
    "    plt.legend()\n",
    "    \n",
    "    plt.savefig(\"images/\"+fig_name+\".svg\", dpi=96)\n",
    "    plt.show()"
   ]
  },
  {
   "cell_type": "code",
   "execution_count": 11,
   "metadata": {},
   "outputs": [
    {
     "data": {
      "image/png": "[encoded data removed]",
      "text/plain": [
       "<Figure size 1080x360 with 1 Axes>"
      ]
     },
     "metadata": {
      "needs_background": "light"
     },
     "output_type": "display_data"
    }
   ],
   "source": [
    "plot_all_observations(y_test, y_pred, y_train.max(), \"01_censored_LR\")"
   ]
  },
  {
   "cell_type": "markdown",
   "metadata": {},
   "source": [
    "There are some observations in our data which are censored. That is, their label seems to be houses which cost $500,000+. We can define another function which plots all points which are not censored:"
   ]
  },
  {
   "cell_type": "code",
   "execution_count": 12,
   "metadata": {},
   "outputs": [],
   "source": [
    "y_censor_label = y_train.max()"
   ]
  },
  {
   "cell_type": "code",
   "execution_count": 13,
   "metadata": {},
   "outputs": [],
   "source": [
    "# TO DELETE\n",
    "def plot_uncensored_observations(y_true, y_pred, y_censor_label, fig_name):\n",
    "    \n",
    "    y_test_uncensored = y_test[y_test<y_censor_label]\n",
    "    y_pred_uncensored = y_pred[y_test<y_censor_label]\n",
    "    \n",
    "    plt.figure(figsize=(15, 5))\n",
    "    plt.scatter(y_pred_uncensored, y_test_uncensored, \n",
    "                c=\"blue\", edgecolor=\"black\", \n",
    "                label=f'R^2={round(r2_score(y_test_uncensored, y_pred_uncensored),2)}')\n",
    "    \n",
    "    plt.title(\"Predicted House Price vs Actual House Price\", size=22)\n",
    "    plt.xlabel(\"Predicted House Price ($)\", size=16)\n",
    "    plt.ylabel(\"True House Price ($)\", size=16)\n",
    "    plt.ticklabel_format(style='plain')\n",
    "    plt.legend()\n",
    "    \n",
    "    plt.savefig(\"images/\"+fig_name+\".svg\", dpi=96)\n",
    "    plt.show()"
   ]
  },
  {
   "cell_type": "code",
   "execution_count": 14,
   "metadata": {},
   "outputs": [
    {
     "data": {
      "image/png": "[encoded data removed]",
      "text/plain": [
       "<Figure size 1080x360 with 1 Axes>"
      ]
     },
     "metadata": {
      "needs_background": "light"
     },
     "output_type": "display_data"
    }
   ],
   "source": [
    "# TO DELETE\n",
    "plot_uncensored_observations(y_test, y_pred, y_censor_label, \"02_uncensored_LR\")"
   ]
  },
  {
   "cell_type": "code",
   "execution_count": 15,
   "metadata": {},
   "outputs": [
    {
     "data": {
      "text/html": [
       "<div>\n",
       "<style scoped>\n",
       "    .dataframe tbody tr th:only-of-type {\n",
       "        vertical-align: middle;\n",
       "    }\n",
       "\n",
       "    .dataframe tbody tr th {\n",
       "        vertical-align: top;\n",
       "    }\n",
       "\n",
       "    .dataframe thead th {\n",
       "        text-align: right;\n",
       "    }\n",
       "</style>\n",
       "<table border=\"1\" class=\"dataframe\">\n",
       "  <thead>\n",
       "    <tr style=\"text-align: right;\">\n",
       "      <th></th>\n",
       "      <th>model</th>\n",
       "      <th>measurement</th>\n",
       "      <th>censored</th>\n",
       "      <th>value</th>\n",
       "    </tr>\n",
       "  </thead>\n",
       "  <tbody>\n",
       "    <tr>\n",
       "      <th>87</th>\n",
       "      <td>SVI scaled gamma</td>\n",
       "      <td>time</td>\n",
       "      <td>1.0</td>\n",
       "      <td>45.340000</td>\n",
       "    </tr>\n",
       "    <tr>\n",
       "      <th>88</th>\n",
       "      <td>SVI scaled gamma</td>\n",
       "      <td>R^2</td>\n",
       "      <td>1.0</td>\n",
       "      <td>0.668602</td>\n",
       "    </tr>\n",
       "    <tr>\n",
       "      <th>89</th>\n",
       "      <td>SVI scaled gamma</td>\n",
       "      <td>R^2</td>\n",
       "      <td>0.0</td>\n",
       "      <td>0.619951</td>\n",
       "    </tr>\n",
       "    <tr>\n",
       "      <th>90</th>\n",
       "      <td>LR</td>\n",
       "      <td>time</td>\n",
       "      <td>1.0</td>\n",
       "      <td>0.010000</td>\n",
       "    </tr>\n",
       "    <tr>\n",
       "      <th>91</th>\n",
       "      <td>LR</td>\n",
       "      <td>R^2</td>\n",
       "      <td>1.0</td>\n",
       "      <td>0.624853</td>\n",
       "    </tr>\n",
       "  </tbody>\n",
       "</table>\n",
       "</div>"
      ],
      "text/plain": [
       "               model measurement  censored      value\n",
       "87  SVI scaled gamma        time       1.0  45.340000\n",
       "88  SVI scaled gamma         R^2       1.0   0.668602\n",
       "89  SVI scaled gamma         R^2       0.0   0.619951\n",
       "90                LR        time       1.0   0.010000\n",
       "91                LR         R^2       1.0   0.624853"
      ]
     },
     "execution_count": 15,
     "metadata": {},
     "output_type": "execute_result"
    }
   ],
   "source": [
    "# TO DELETE\n",
    "y_pred_censored = np.where(y_pred > y_censor_label, y_censor_label, y_pred)\n",
    "\n",
    "new_measurements = pd.Series({\"model\": \"LR\", \n",
    "                              \"measurement\": \"R^2\", \n",
    "                              \"censored\": True,\n",
    "                              \"value\": r2_score(y_test, y_pred_censored)})\n",
    "\n",
    "super_results = super_results.append(new_measurements, ignore_index=True)\n",
    "super_results.tail()"
   ]
  },
  {
   "cell_type": "code",
   "execution_count": 16,
   "metadata": {},
   "outputs": [
    {
     "data": {
      "text/html": [
       "<div>\n",
       "<style scoped>\n",
       "    .dataframe tbody tr th:only-of-type {\n",
       "        vertical-align: middle;\n",
       "    }\n",
       "\n",
       "    .dataframe tbody tr th {\n",
       "        vertical-align: top;\n",
       "    }\n",
       "\n",
       "    .dataframe thead th {\n",
       "        text-align: right;\n",
       "    }\n",
       "</style>\n",
       "<table border=\"1\" class=\"dataframe\">\n",
       "  <thead>\n",
       "    <tr style=\"text-align: right;\">\n",
       "      <th></th>\n",
       "      <th>model</th>\n",
       "      <th>measurement</th>\n",
       "      <th>censored</th>\n",
       "      <th>value</th>\n",
       "    </tr>\n",
       "  </thead>\n",
       "  <tbody>\n",
       "    <tr>\n",
       "      <th>88</th>\n",
       "      <td>SVI scaled gamma</td>\n",
       "      <td>R^2</td>\n",
       "      <td>1.0</td>\n",
       "      <td>0.668602</td>\n",
       "    </tr>\n",
       "    <tr>\n",
       "      <th>89</th>\n",
       "      <td>SVI scaled gamma</td>\n",
       "      <td>R^2</td>\n",
       "      <td>0.0</td>\n",
       "      <td>0.619951</td>\n",
       "    </tr>\n",
       "    <tr>\n",
       "      <th>90</th>\n",
       "      <td>LR</td>\n",
       "      <td>time</td>\n",
       "      <td>1.0</td>\n",
       "      <td>0.010000</td>\n",
       "    </tr>\n",
       "    <tr>\n",
       "      <th>91</th>\n",
       "      <td>LR</td>\n",
       "      <td>R^2</td>\n",
       "      <td>1.0</td>\n",
       "      <td>0.624853</td>\n",
       "    </tr>\n",
       "    <tr>\n",
       "      <th>92</th>\n",
       "      <td>LR</td>\n",
       "      <td>R^2</td>\n",
       "      <td>0.0</td>\n",
       "      <td>0.571736</td>\n",
       "    </tr>\n",
       "  </tbody>\n",
       "</table>\n",
       "</div>"
      ],
      "text/plain": [
       "               model measurement  censored     value\n",
       "88  SVI scaled gamma         R^2       1.0  0.668602\n",
       "89  SVI scaled gamma         R^2       0.0  0.619951\n",
       "90                LR        time       1.0  0.010000\n",
       "91                LR         R^2       1.0  0.624853\n",
       "92                LR         R^2       0.0  0.571736"
      ]
     },
     "execution_count": 16,
     "metadata": {},
     "output_type": "execute_result"
    }
   ],
   "source": [
    "# TO DELETE\n",
    "y_test_uncensored = y_test[y_test<y_censor_label]\n",
    "y_pred_uncensored = y_pred[y_test<y_censor_label]\n",
    "\n",
    "\n",
    "new_measurements = pd.Series({\"model\": \"LR\", \n",
    "                              \"measurement\": \"R^2\", \n",
    "                              \"censored\": False,\n",
    "                              \"value\": r2_score(y_test_uncensored, y_pred_uncensored)})\n",
    "\n",
    "super_results = super_results.append(new_measurements, ignore_index=True)\n",
    "super_results.tail()"
   ]
  },
  {
   "cell_type": "markdown",
   "metadata": {},
   "source": [
    "While this approach can produce satisfactory results, it suffers from a few main drawbacks; \n",
    "\n",
    "* First, the linear model generally ignore the fact that the prices come from a Gamma distribution. Its calculations of the expected value for every point are predicated on the mean coming from a Normal distribution. \n",
    "* Second, for each coefficient, we only get a point estimate of its most likely value. However, we might be interested in a range which accounts for uncertainty. For example, we might want to know what is the range of price increases we can expect for each additional bedroom.\n",
    "\n",
    "To address these problems, we can employ Pyro and PyTorch to construct our own linear model which will address all the pain points just mentioned. "
   ]
  },
  {
   "cell_type": "markdown",
   "metadata": {},
   "source": [
    "## Step I - Reconstructing the Linear Model with Pyro\n",
    "\n",
    "First, let's try and replicate the findings of the simple linear regression with Pyro. This will give us an intuition for how the different Pyro primitives work"
   ]
  },
  {
   "cell_type": "code",
   "execution_count": 17,
   "metadata": {},
   "outputs": [],
   "source": [
    "# import all required Pyro/Pytorch libraries\n",
    "import torch\n",
    "torch.set_default_tensor_type(torch.FloatTensor) # set the default to float32\n",
    "\n",
    "import pyro\n",
    "import pyro.distributions as dist\n",
    "\n",
    "# We will use Markov Chain Monte Carlo (MCMC) methods here, specifically the No U-Turn Sampler (NUTS)\n",
    "from pyro.infer import MCMC, NUTS"
   ]
  },
  {
   "cell_type": "markdown",
   "metadata": {},
   "source": [
    "First, we will define our model in Pyro. Pyro models are defined as functions (actually they are defined as callables, but the simplest callable is a function). The function will accept our features $X$, our target $y$, and also the feature names for easier naming of priors."
   ]
  },
  {
   "cell_type": "code",
   "execution_count": 18,
   "metadata": {},
   "outputs": [],
   "source": [
    "def model_normal(X, y, column_names):\n",
    "    \n",
    "    # Define our intercept prior\n",
    "    intercept_prior = dist.Normal(0.0, 1.0)\n",
    "    linear_combination = pyro.sample(f\"beta_intercept\", intercept_prior)\n",
    "    \n",
    "    \n",
    "    # Also define coefficient priors\n",
    "    for i in range(X.shape[1]):\n",
    "        coefficient_prior = dist.Normal(0.0, 1.0)\n",
    "        beta_coef = pyro.sample(f\"beta_{column_names[i]}\", coefficient_prior)\n",
    "        linear_combination = linear_combination + (X[:, i] * beta_coef)\n",
    "    \n",
    "    \n",
    "    # Define a sigma value for the random error\n",
    "    sigma = pyro.sample(\"sigma\", dist.HalfNormal(scale=10.0))\n",
    "    \n",
    "    # For a simple linear model, the expected mean is the linear combination of parameters\n",
    "    mean = linear_combination\n",
    "    \n",
    "    \n",
    "    with pyro.plate(\"data\", y.shape[0]):\n",
    "        \n",
    "        # Assume our expected mean comes from a normal distribution with the mean which\n",
    "        # depends on the linear combination, and a standard deviatin \"sigma\"\n",
    "        outcome_dist = dist.Normal(mean, sigma)\n",
    "        \n",
    "        # Condition the expected mean on the observed target y\n",
    "        observation = pyro.sample(\"obs\", outcome_dist, obs=y)"
   ]
  },
  {
   "cell_type": "markdown",
   "metadata": {},
   "source": [
    "In essence what we've done here is define our linear regression as the following linear combination of parameters\n",
    "\n",
    "\n",
    "$$y = \\beta_0 + \\beta_1x_1 + \\beta_2x_2 + ... + \\beta_nx_n + \\mathcal{N}(0, \\sigma^2)$$\n",
    "\n",
    "However, unlike traditional linear regressions, we've defined each beta coefficient, as well as the error term, to be a distribution instead of a single values. That is, for each coefficient, we can ask what is the range of possible values this coefficient can assume given the data we observed. We gave a name to each of those distributions (e.g. \"`beta_intercept`\") for easy reference later.\n",
    "\n",
    "We had to define priors on each coefficient. A prior is like our \"best guess\" for that value. Our chosen priors were:\n",
    "\n",
    "$$\\beta_i \\sim \\mathcal{N}(0, 1^2)$$<br>\n",
    "$$\\sigma \\sim \\text{HalfNormal}(0.0, 10^2)$$<br>\n",
    "\n",
    "One important point to notice is that we have to be explicit about these choices when building our model. That is, we have to be clear about what are reasonable priors for the coefficient values, the error term, and the distribution of values around our predicted value.\n",
    "\n",
    "Once the priors are defined, we can ask Pyro to update them into better and better guesses through the magic of MCMC samplers:"
   ]
  },
  {
   "cell_type": "code",
   "execution_count": null,
   "metadata": {},
   "outputs": [
    {
     "name": "stderr",
     "output_type": "stream",
     "text": [
      "Sample:  76%|███████▌  | 2352/3100 [03:46,  1.74it/s, step size=8.88e-04, acc. prob=0.878]"
     ]
    }
   ],
   "source": [
    "SAMPLE_NUMBER = 3000\n",
    "\n",
    "\n",
    "# Turn out numpy data into PyTorch \n",
    "# tensors\n",
    "X_train_torch = torch.tensor(X_train)\n",
    "y_train_torch = torch.tensor(y_train)\n",
    "\n",
    "\n",
    "\n",
    "# Clear the parameter storage\n",
    "pyro.clear_param_store()\n",
    "\n",
    "# Initialize our No U-Turn Sampler\n",
    "my_kernel = NUTS(model_normal, \n",
    "                 max_tree_depth=7) # a shallower tree helps the algorithm run faster\n",
    "\n",
    "# Employ the sampler in an MCMC sampling \n",
    "# algorithm, and sample 3100 samples. \n",
    "# Then discard the first 100\n",
    "my_mcmc1 = MCMC(my_kernel,\n",
    "                num_samples=SAMPLE_NUMBER,\n",
    "                warmup_steps=100)\n",
    "\n",
    "\n",
    "# Let's time our execution as well\n",
    "start_time = time.time()\n",
    "\n",
    "# Run the sampler\n",
    "my_mcmc1.run(X_train_torch, \n",
    "             y_train_torch,\n",
    "             california.feature_names)\n",
    "\n",
    "end_time = time.time()\n",
    "\n",
    "print(f'Inference ran for {round((end_time -  start_time)/60.0, 2)} minutes')"
   ]
  },
  {
   "cell_type": "code",
   "execution_count": null,
   "metadata": {},
   "outputs": [],
   "source": [
    "# TO DELETE\n",
    "new_measurements = pd.Series({\"model\": \"MCMC unscaled normal\", \n",
    "                              \"measurement\": \"time\", \n",
    "                              \"censored\": True,\n",
    "                              \"value\": round(end_time -  start_time, 2)})\n",
    "\n",
    "super_results = super_results.append(new_measurements, ignore_index=True)\n",
    "super_results.tail()"
   ]
  },
  {
   "cell_type": "markdown",
   "metadata": {},
   "source": [
    "If you are interested in a breakdown of what has happened here, I recommend that you check out [my previous post](https://towardsdatascience.com/probabilistic-programming-with-pyro-and-kitchen-scale-f8d6a5d9ae0f) which explores the use of MCMC methods to optimize a single parameter.\n",
    "\n",
    "We can explore the estimates found by our MCMC sampler for each of our coefficients using the `.summary()` method:"
   ]
  },
  {
   "cell_type": "code",
   "execution_count": null,
   "metadata": {},
   "outputs": [],
   "source": [
    "my_mcmc1.summary()"
   ]
  },
  {
   "cell_type": "markdown",
   "metadata": {},
   "source": [
    "Those don't look quite right... The means seem very different from the point estimates found by the regression from `sklearn`.\n",
    "\n",
    "Let's grab the individual samples from our sampler, and turn those into a dataframe (they are returned as a dictionary).\n",
    "We can grab the mean of each distribution as a coefficient point estimate, and then calculate a set of predictions for our data points. Then, we can compare them to our known values for house prices"
   ]
  },
  {
   "cell_type": "code",
   "execution_count": null,
   "metadata": {},
   "outputs": [],
   "source": [
    "beta_df = pd.DataFrame(my_mcmc1.get_samples())\n",
    "beta_df.head()"
   ]
  },
  {
   "cell_type": "code",
   "execution_count": null,
   "metadata": {},
   "outputs": [],
   "source": [
    "# TO DELETE\n",
    "from pandas.plotting import table # EDIT: see deprecation warnings below\n",
    "\n",
    "plt.figure(figsize=(30,5))\n",
    "ax = plt.subplot(111, frame_on=False) # no visible frame\n",
    "ax.xaxis.set_visible(False)  # hide the x axis\n",
    "ax.yaxis.set_visible(False)  # hide the y axis\n",
    "\n",
    "tabla = table(ax, beta_df.head(10), loc='upper center')  # where df is your data frame\n",
    "\n",
    "tabla.auto_set_font_size(False) # Activate set fontsize manually\n",
    "tabla.set_fontsize(20) # if ++fontsize is necessary ++colWidths\n",
    "tabla.scale(1.2, 2.2) # change size table\n",
    "\n",
    "plt.savefig('images/coef_table.svg', dpi=96)\n",
    "plt.show()"
   ]
  },
  {
   "cell_type": "code",
   "execution_count": null,
   "metadata": {},
   "outputs": [],
   "source": [
    "# TO DELETE\n",
    "#https://stackoverflow.com/questions/35634238/how-to-save-a-pandas-dataframe-table-as-a-png"
   ]
  },
  {
   "cell_type": "code",
   "execution_count": null,
   "metadata": {},
   "outputs": [],
   "source": [
    "def predict_linear_combination(beta_df, X):\n",
    "    \n",
    "    # Don't grab the last column, that is our estimate of the error standard deviation, \"sigma\"\n",
    "    coefficients = beta_df.iloc[:, :-1].mean()\n",
    "\n",
    "    # Find our linear combination again\n",
    "    linear_combination = X.dot(coefficients[1:]) + coefficients.iloc[0]\n",
    "    \n",
    "    return linear_combination"
   ]
  },
  {
   "cell_type": "code",
   "execution_count": null,
   "metadata": {},
   "outputs": [],
   "source": [
    "linear_combination = predict_linear_combination(beta_df, X_test)"
   ]
  },
  {
   "cell_type": "code",
   "execution_count": null,
   "metadata": {},
   "outputs": [],
   "source": [
    "# Our predictions are the linear combination\n",
    "y_pred = linear_combination"
   ]
  },
  {
   "cell_type": "markdown",
   "metadata": {},
   "source": [
    "Let's plot the results and calculate the $R^2$ value for our predictions:"
   ]
  },
  {
   "cell_type": "code",
   "execution_count": null,
   "metadata": {},
   "outputs": [],
   "source": [
    "plot_all_observations(y_test, y_pred, y_censor_label, \"03_censored_normal_unsacled\")\n",
    "plot_uncensored_observations(y_test, y_pred, y_censor_label, \"04_uncensored_normal_unsacled\")"
   ]
  },
  {
   "cell_type": "code",
   "execution_count": null,
   "metadata": {},
   "outputs": [],
   "source": [
    "# TO DELETE\n",
    "y_pred_censored = np.where(y_pred > y_censor_label, y_censor_label, y_pred)\n",
    "\n",
    "\n",
    "new_measurements = pd.Series({\"model\": \"MCMC unscaled normal\", \n",
    "                              \"measurement\": \"R^2\", \n",
    "                              \"censored\": True,\n",
    "                              \"value\": r2_score(y_test, y_pred_censored)})\n",
    "\n",
    "super_results = super_results.append(new_measurements, ignore_index=True)\n",
    "super_results.tail()"
   ]
  },
  {
   "cell_type": "code",
   "execution_count": null,
   "metadata": {},
   "outputs": [],
   "source": [
    "# TO DELETE\n",
    "y_test_uncensored = y_test[y_test<y_censor_label]\n",
    "y_pred_uncensored = y_pred[y_test<y_censor_label]\n",
    "\n",
    "r2 = r2_score(y_test_uncensored, y_pred_uncensored)\n",
    "\n",
    "new_measurements = pd.Series({\"model\": \"MCMC unscaled normal\", \n",
    "                              \"measurement\": \"R^2\", \n",
    "                              \"censored\": False,\n",
    "                              \"value\": r2})\n",
    "\n",
    "super_results = super_results.append(new_measurements, ignore_index=True)\n",
    "super_results.tail()"
   ]
  },
  {
   "cell_type": "markdown",
   "metadata": {},
   "source": [
    "Well that looks like a disaster! What happened?"
   ]
  },
  {
   "cell_type": "markdown",
   "metadata": {},
   "source": [
    "Let's define a function that will draw the coefficients' distributions for us when given a coefficient dataframe"
   ]
  },
  {
   "cell_type": "code",
   "execution_count": null,
   "metadata": {},
   "outputs": [],
   "source": [
    "def draw_coefficients(beta_df, fig_name):\n",
    "    figure, axis = plt.subplots(5,2, figsize=(15,15))\n",
    "\n",
    "\n",
    "    for key, ax in zip(beta_df.columns, axis.ravel()):\n",
    "        ax.set_title(key)\n",
    "        sns.distplot(beta_df[key], \n",
    "                     ax=ax, \n",
    "                     bins=100, \n",
    "                     color=\"blue\", \n",
    "                     kde=True, \n",
    "                     axlabel=False, \n",
    "                     hist_kws=dict(edgecolor=\"black\"))\n",
    "\n",
    "    plt.subplots_adjust(hspace=0.5)\n",
    "    \n",
    "    plt.savefig(\"images/\"+fig_name+\".svg\")\n",
    "    plt.show()"
   ]
  },
  {
   "cell_type": "code",
   "execution_count": null,
   "metadata": {},
   "outputs": [],
   "source": [
    "draw_coefficients(beta_df, \"05_normal_unscaled_coefficients\")"
   ]
  },
  {
   "cell_type": "markdown",
   "metadata": {},
   "source": [
    "Those plots don't look like they converged.\n",
    "\n",
    "Turns out MCMC methods have a hard time with different scales for our data. They work much better when our features and target are scaled. Let's explore the performance of the same methodology with the data scaled"
   ]
  },
  {
   "cell_type": "markdown",
   "metadata": {},
   "source": [
    "## Scaling Our Data"
   ]
  },
  {
   "cell_type": "markdown",
   "metadata": {},
   "source": [
    "We are going to scale our X and y data using a standard scaler from `sklearn`. The standard scaler will scale each feature in X in such a way that it has a mean of 0.0, and a standard deviation of 1.0. To do so it will employ each variable's mean $\\bar{x}$ and standard deviation $s$\n",
    "\n",
    "This means, instead of trying to find a set of coefficients on the original data\n",
    "\n",
    "\n",
    "$$y = \\beta_0 + \\beta_1x_1 + \\beta_2x_2 + ... + \\beta_nx_n $$\n",
    "\n",
    "we will find a set of coefficients on the scaled data:\n",
    "\n",
    "$$y' = \\beta'_0 + \\beta'_1\\frac{x_1 - \\bar{x}_1}{s_1} + \\beta'_2\\frac{x_2 - \\bar{x}_2}{s_2} + ... + \\beta'_n\\frac{x_n - \\bar{x}_n}{s_n} $$\n",
    "\n",
    "Where \n",
    "\n",
    "$$y' = \\frac{y}{y_{max}}$$\n",
    "\n",
    "That is, y is scaled to be between 0-1 and the columns of X have been standardized."
   ]
  },
  {
   "cell_type": "code",
   "execution_count": null,
   "metadata": {},
   "outputs": [],
   "source": [
    "from sklearn.preprocessing import StandardScaler\n",
    "\n",
    "\n",
    "# Scale X\n",
    "my_x_scaler = StandardScaler()\n",
    "X_train_scaled = my_x_scaler.fit_transform(X_train)\n",
    "\n",
    "# Scale y\n",
    "y_censor_label = y_train.max()\n",
    "y_train_scaled = y_train/y_censor_label"
   ]
  },
  {
   "cell_type": "code",
   "execution_count": null,
   "metadata": {},
   "outputs": [],
   "source": [
    "# Convert our data into pytorch tensors\n",
    "X_train_torch = torch.tensor(X_train_scaled)\n",
    "y_train_torch = torch.tensor(y_train_scaled)\n",
    "\n",
    "\n",
    "# Clear previous parameters\n",
    "pyro.clear_param_store()\n",
    "\n",
    "# Perform inference again\n",
    "my_kernel2 = NUTS(model_normal, max_tree_depth=7)\n",
    "\n",
    "my_mcmc2 = MCMC(my_kernel2,\n",
    "                num_samples=SAMPLE_NUMBER,\n",
    "                warmup_steps=100)\n",
    "\n",
    "\n",
    "start_time = time.time()\n",
    "my_mcmc2.run(X_train_torch,\n",
    "             y_train_torch,\n",
    "             california.feature_names)\n",
    "end_time = time.time()\n",
    "\n",
    "print(f'Inference ran for {round((end_time -  start_time)/60.0, 2)} minutes')"
   ]
  },
  {
   "cell_type": "code",
   "execution_count": null,
   "metadata": {},
   "outputs": [],
   "source": [
    "# TO DELETE\n",
    "new_measurements = pd.Series({\"model\": \"MCMC scaled normal\", \n",
    "                              \"measurement\": \"time\", \n",
    "                              \"censored\": True,\n",
    "                              \"value\": round(end_time -  start_time, 2)})\n",
    "\n",
    "super_results = super_results.append(new_measurements, ignore_index=True)\n",
    "super_results.tail()"
   ]
  },
  {
   "cell_type": "markdown",
   "metadata": {},
   "source": [
    "Our algorithm ran much faster now, but if we recover the coefficients the algorithm found, those will be the coefficients on the scaled data. We would like to translate them back into the unscaled data so we can ask questions such as: \"For each extra bedroom in the house, what will be the effect on the price?\"\n",
    "\n",
    "\n",
    "Luckily, we can manipulate our equation to retrieve the coefficients on the unscaled data. We begin with our original equation\n",
    "\n",
    "$$y' = \\beta'_0 + \\beta'_1\\frac{x_1 - \\bar{x}_1}{s_1} + \\beta'_2\\frac{x_2 - \\bar{x}_2}{s_2} + ... + \\beta'_n\\frac{x_n - \\bar{x}_n}{s_n} $$\n",
    "\n",
    "and we expand each fraction:\n",
    "\n",
    "$$y' = \\beta'_0 + \\beta'_1\\frac{x_1}{s_1} - \\beta'_1\\frac{\\bar{x}_1}{s_1} + \\beta'_2\\frac{x_2}{s_2} - \\beta'_2\\frac{\\bar{x}_2}{s_2} + ... + \\beta'_n\\frac{x_n}{s_n} - \\beta'_n\\frac{\\bar{x}_n}{s_n} $$\n",
    "\n",
    "We can then rearrange the equation as follows:\n",
    "\n",
    "$$y' = \\beta'_0 - \\beta'_1\\frac{\\bar{x}_1}{s_1} - \\beta'_2\\frac{\\bar{x}_2}{s_2} ... - \\beta'_n\\frac{\\bar{x}_n}{s_n} + \\frac{\\beta'_1}{s_1}x_1 + \\frac{\\beta'_2}{s_2}x_2 + ... + \\frac{\\beta'_n}{s_n}x_n  $$\n",
    "\n",
    "Recalling that \n",
    "\n",
    "$$y' = \\frac{y}{y_{max}}$$\n",
    "\n",
    "we can finally rewrite our formula as follows:\n",
    "\n",
    "$$y = y_{max}\\big( \\beta'_0 - \\sum_{i=1}^n\\beta'_i\\frac{\\bar{x}_i}{s_i} \\big) + \\frac{\\beta'_1 y_{max}}{s_1}x_1 + \\frac{\\beta'_2 y_{max}}{s_2}x_2 + ... + \\frac{\\beta'_n y_{max}}{s_n}x_n  $$\n",
    "\n",
    "We can create a function to perform the processing of the coefficients from the scaled data to the unscaled data"
   ]
  },
  {
   "cell_type": "code",
   "execution_count": null,
   "metadata": {},
   "outputs": [],
   "source": [
    "def create_beta_df(beta_df, x_scaler, feature_names):        \n",
    "    \n",
    "    i = 0\n",
    "    for col in beta_df:\n",
    "        if (col != 'beta_intercept'):\n",
    "            if ('beta_' in col):\n",
    "\n",
    "                beta_df['beta_intercept'] -= (beta_df[col] * x_scaler.mean_[i])/x_scaler.scale_[i]                \n",
    "                beta_df[col] /= x_scaler.scale_[i]\n",
    "                i += 1\n",
    "\n",
    "    return beta_df"
   ]
  },
  {
   "cell_type": "markdown",
   "metadata": {},
   "source": [
    "Then we just employ that function on the retrieved coefficients after we retrieve them from the dictionary again."
   ]
  },
  {
   "cell_type": "code",
   "execution_count": null,
   "metadata": {},
   "outputs": [],
   "source": [
    "beta2_df = pd.DataFrame(my_mcmc2.get_samples())\n",
    "#my_kernel.cleanup()\n",
    "beta2_df = create_beta_df(beta2_df, my_x_scaler, california.feature_names)\n",
    "beta2_df *= y_censor_label   # multiply everything by y_max outside the function for reasons that will\n",
    "                             # become clear later"
   ]
  },
  {
   "cell_type": "markdown",
   "metadata": {},
   "source": [
    "Let's compare the prediction results"
   ]
  },
  {
   "cell_type": "code",
   "execution_count": null,
   "metadata": {},
   "outputs": [],
   "source": [
    "linear_combination = predict_linear_combination(beta2_df, X_test)"
   ]
  },
  {
   "cell_type": "code",
   "execution_count": null,
   "metadata": {},
   "outputs": [],
   "source": [
    "y_pred = linear_combination\n",
    "\n",
    "plot_all_observations(y_test, y_pred, y_censor_label, \"06_censored_normal_scaled\")\n",
    "plot_uncensored_observations(y_test, y_pred, y_censor_label, \"07_uncensored_normal_scaled\")"
   ]
  },
  {
   "cell_type": "markdown",
   "metadata": {},
   "source": [
    "These values seem much closer to the values found by the linear regression from `sklearn`. "
   ]
  },
  {
   "cell_type": "code",
   "execution_count": null,
   "metadata": {},
   "outputs": [],
   "source": [
    "# TO DELETE\n",
    "y_pred_censored = np.where(y_pred > y_censor_label, y_censor_label, y_pred)\n",
    "new_measurements = pd.Series({\"model\": \"MCMC scaled normal\", \n",
    "                              \"measurement\": \"R^2\", \n",
    "                              \"censored\": True,\n",
    "                              \"value\": r2_score(y_test, y_pred_censored)})\n",
    "\n",
    "super_results = super_results.append(new_measurements, ignore_index=True)\n",
    "super_results.tail()"
   ]
  },
  {
   "cell_type": "code",
   "execution_count": null,
   "metadata": {},
   "outputs": [],
   "source": [
    "# TO DELETE\n",
    "y_test_uncensored = y_test[y_test<y_censor_label]\n",
    "y_pred_uncensored = y_pred[y_test<y_censor_label]\n",
    "\n",
    "\n",
    "new_measurements = pd.Series({\"model\": \"MCMC scaled normal\", \n",
    "                              \"measurement\": \"R^2\", \n",
    "                              \"censored\": False,\n",
    "                              \"value\": r2_score(y_test_uncensored, y_pred_uncensored)})\n",
    "\n",
    "super_results = super_results.append(new_measurements, ignore_index=True)\n",
    "super_results.tail()"
   ]
  },
  {
   "cell_type": "code",
   "execution_count": null,
   "metadata": {},
   "outputs": [],
   "source": [
    "draw_coefficients(beta2_df, \"08_normal_scaled_coefficients\")"
   ]
  },
  {
   "cell_type": "markdown",
   "metadata": {},
   "source": [
    "It seems like we got a comparable performance. The distributions look close to the values we got from scikit-learn.\n",
    "We also get a probability distribution for each coefficient so we can see our level of confidence in the value we found.\n",
    "\n",
    "However, we can actually employ Pyro to do better! Recall that we saw our house prices are not normally distributed but in fact follow a Gamma distribution. We can modify our code to reflect that in the model."
   ]
  },
  {
   "cell_type": "markdown",
   "metadata": {},
   "source": [
    "## Improving our Predictions Using a Gamma Distribution"
   ]
  },
  {
   "cell_type": "markdown",
   "metadata": {},
   "source": [
    "In order to better reflect the house distribution, we can employ a Gamma distribution for our target values. Unlike the Normal distribution which is defined by its mean and standard deviation, the Gamma distribution is defined by two positive parameters which are the shape and the rate.\n",
    "\n",
    "When constructing our model for a distribution other than normal, we need to employ a **link function** which will translate the linear combination of our parameters to the expected value, or the mean, of the distribution. We also would like to know the relationship between the mean and the distribution parameters. Luckily, for the Gamma distribution this is predefined as:\n",
    "\n",
    "$$\\mu = mean = \\frac{shape}{rate}$$\n",
    "\n",
    "However, if both the shape and rate parameters are positive, that means the mean must be positive as well. We need to make sure that our link function captures that. Therefore, I will use the following link function for the linear equation:\n",
    "\n",
    "$$ln(y') = \\beta'_0 + \\beta'_1\\frac{x_1 - \\bar{x}_1}{s_1} + \\beta'_2\\frac{x_2 - \\bar{x}_2}{s_2} + ... + \\beta'_n\\frac{x_n - \\bar{x}_n}{s_n}$$\n",
    "\n",
    "or \n",
    "\n",
    "$$y' = e^{\\beta'_0 + \\beta'_1\\frac{x_1 - \\bar{x}_1}{s_1} + \\beta'_2\\frac{x_2 - \\bar{x}_2}{s_2} + ... + \\beta'_n\\frac{x_n - \\bar{x}_n}{s_n}}$$\n",
    "\n",
    "\n",
    "Interestingly enough, to recover the coefficients for the unscaled data, the math works out fairly similarly except for the constant. Keeping in mind that:\n",
    "\n",
    "$$y' = \\frac{y}{y_{max}} = \\frac{\\mu}{y_{max}}$$\n",
    "\n",
    "and that\n",
    "\n",
    "$$ln(\\frac{y}{max(y)}) = ln(y) - ln(y_{max})$$\n",
    "\n",
    "We can find that our equation can be written as:\n",
    "\n",
    "$$ln(y) = \\big(ln(y_{max}) + \\beta'_0 - \\sum_{i=1}^n\\beta'_i\\frac{\\bar{x}_i}{s_i} \\big) + \\frac{\\beta'_1}{s_1}x_1 + \\frac{\\beta'_2}{s_2}x_2 + ... + \\frac{\\beta'_n}{s_n}x_n  $$\n",
    "\n",
    "or \n",
    "\n",
    "$$\\mu = y = e^{\\big(ln(y_{max}) + \\beta'_0 - \\sum_{i=1}^n\\beta'_i\\frac{\\bar{x}_i}{s_i} \\big) + \\frac{\\beta'_1}{s_1}x_1 + \\frac{\\beta'_2}{s_2}x_2 + ... + \\frac{\\beta'_n}{s_n}x_n}$$"
   ]
  },
  {
   "cell_type": "markdown",
   "metadata": {},
   "source": [
    "Let's define our model, but now using a gamma distribution:"
   ]
  },
  {
   "cell_type": "code",
   "execution_count": null,
   "metadata": {},
   "outputs": [],
   "source": [
    "def model_gamma(X, y, column_names):\n",
    "    pyro.enable_validation(True)\n",
    "    \n",
    "    min_value = torch.finfo(X.dtype).eps\n",
    "    max_value = torch.finfo(X.dtype).max\n",
    "    \n",
    "    # We still need to calculate our linear combination\n",
    "    \n",
    "    intercept_prior = dist.Normal(0.0, 1.0)\n",
    "    linear_combination = pyro.sample(f\"beta_intercept\", intercept_prior)\n",
    "    #print(\"intercept\", linear_combination)\n",
    "    \n",
    "    \n",
    "    # Also define coefficient priors\n",
    "    for i in range(X.shape[1]):\n",
    "        coefficient_prior = dist.Normal(0.0, 1.0)\n",
    "        beta_coef = pyro.sample(f\"beta_{column_names[i]}\", coefficient_prior)\n",
    "        \n",
    "        #print(column_names[i], beta_coef)\n",
    "        linear_combination = linear_combination + (X[:, i] * beta_coef)\n",
    "    \n",
    "        \n",
    "    # But now our mean will be e^{linear combination}    \n",
    "    mean = torch.exp(linear_combination).clamp(min=min_value, max=max_value)\n",
    "    \n",
    "    # We will also define a rate parameter\n",
    "    rate = pyro.sample(\"rate\", dist.HalfNormal(scale=10.0)).clamp(min=min_value)\n",
    "    \n",
    "    # Since mean = shape/rate, then the shape = mean * rate\n",
    "    shape = (mean * rate)\n",
    "    \n",
    "    \n",
    "    \n",
    "    # Now that we have the shape and rate parameters for the\n",
    "    # Gamma distribution, we can draw samples from it and condition\n",
    "    # them on our observations\n",
    "    with pyro.plate(\"data\", y.shape[0]):\n",
    "        \n",
    "        outcome_dist = dist.Gamma(shape, rate)\n",
    "        \n",
    "        observation = pyro.sample(\"obs\", outcome_dist, obs=y)"
   ]
  },
  {
   "cell_type": "markdown",
   "metadata": {},
   "source": [
    "You'll notice our code is slightly different but we are still calculating a linear combination of our `X` data and our coefficients, except now we take the `exp` of that combination to get the mean value of our data point. \n",
    "We also sample a rate parameter, and use the mean and rate to calculate the appropriate shape parameter.\n",
    "\n",
    "Given our shape and rate parameters, we can define a gamma distribution and ask Pyro to optimize our coefficients and rate parameters in order to build a model most likely based on our data.\n",
    "\n",
    "Let's optimize this new model and look at the results:"
   ]
  },
  {
   "cell_type": "code",
   "execution_count": null,
   "metadata": {},
   "outputs": [],
   "source": [
    "## Again scale our X data\n",
    "#my_x_scaler = StandardScaler()\n",
    "#X_train_scaled = my_x_scaler.fit_transform(X_train)\n",
    "#\n",
    "## Scale our y data\n",
    "#y_max = y_train.max()\n",
    "#y_train_scaled = y_train/y_max\n",
    "#\n",
    "## Convert our data into pytorch tensors\n",
    "#X_train_torch = torch.tensor(X_train_scaled)\n",
    "#y_train_torch = torch.tensor(y_train_scaled)\n",
    "\n",
    "# Clear all previous runs of pyro\n",
    "pyro.clear_param_store()\n",
    "\n",
    "# And finally, perform inference\n",
    "my_kernel3 = NUTS(model_gamma, max_tree_depth=7)\n",
    "\n",
    "\n",
    "my_mcmc3 = MCMC(my_kernel3,\n",
    "                num_samples=SAMPLE_NUMBER,\n",
    "                warmup_steps=100)\n",
    "\n",
    "\n",
    "\n",
    "start_time = time.time()\n",
    "my_mcmc3.run(X_train_torch,\n",
    "             y_train_torch,\n",
    "             california.feature_names)\n",
    "end_time = time.time()\n",
    "\n",
    "print(f'Inference ran for {round((end_time -  start_time)/60.0, 2)} minutes')"
   ]
  },
  {
   "cell_type": "code",
   "execution_count": null,
   "metadata": {},
   "outputs": [],
   "source": [
    "# TO DELETE\n",
    "new_measurements = pd.Series({\"model\": \"MCMC scaled gamma\", \n",
    "                              \"measurement\": \"time\", \n",
    "                              \"censored\": True,\n",
    "                              \"value\": round(end_time -  start_time, 2)})\n",
    "\n",
    "super_results = super_results.append(new_measurements, ignore_index=True)\n",
    "super_results.tail()"
   ]
  },
  {
   "cell_type": "markdown",
   "metadata": {},
   "source": [
    "We can grab the coefficients from this sampler as well. However, this time we have to treat the value of `y_max` slightly differently."
   ]
  },
  {
   "cell_type": "code",
   "execution_count": null,
   "metadata": {},
   "outputs": [],
   "source": [
    "beta3_df = pd.DataFrame(my_mcmc3.get_samples())\n",
    "#my_kernel.cleanup()\n",
    "beta3_df = create_beta_df(beta3_df, my_x_scaler, california.feature_names)\n",
    "\n",
    "# Notice now we have to use the y_max value slightly differently\n",
    "beta3_df['beta_intercept'] += np.log(y_censor_label)"
   ]
  },
  {
   "cell_type": "markdown",
   "metadata": {},
   "source": [
    "Let's compare this model's performance by calculating the predictions and comparing them to the observed values"
   ]
  },
  {
   "cell_type": "code",
   "execution_count": null,
   "metadata": {},
   "outputs": [],
   "source": [
    "linear_combination = predict_linear_combination(beta3_df, X_test)"
   ]
  },
  {
   "cell_type": "code",
   "execution_count": null,
   "metadata": {},
   "outputs": [],
   "source": [
    "# We have to take the EXP of the linear combination now to get the expected values\n",
    "y_pred = np.exp(linear_combination)\n",
    "\n",
    "plot_all_observations(y_test, y_pred, y_censor_label, \"09_censored_gamma_scaled\")\n",
    "plot_uncensored_observations(y_test, y_pred, y_censor_label, \"10_uncensored_gamma_scaled\")"
   ]
  },
  {
   "cell_type": "code",
   "execution_count": null,
   "metadata": {},
   "outputs": [],
   "source": [
    "# TO DELETE\n",
    "y_pred_censored = np.where(y_pred > y_censor_label, y_censor_label, y_pred)\n",
    "\n",
    "new_measurements = pd.Series({\"model\": \"MCMC scaled gamma\", \n",
    "                              \"measurement\": \"R^2\", \n",
    "                              \"censored\": True,\n",
    "                              \"value\": r2_score(y_test, y_pred_censored)})\n",
    "\n",
    "super_results = super_results.append(new_measurements, ignore_index=True)\n",
    "super_results.tail()"
   ]
  },
  {
   "cell_type": "code",
   "execution_count": null,
   "metadata": {},
   "outputs": [],
   "source": [
    "# TO DELETE\n",
    "y_test_uncensored = y_test[y_test<y_censor_label]\n",
    "y_pred_uncensored = y_pred[y_test<y_censor_label]\n",
    "\n",
    "\n",
    "new_measurements = pd.Series({\"model\": \"MCMC scaled gamma\", \n",
    "                              \"measurement\": \"R^2\", \n",
    "                              \"censored\": False,\n",
    "                              \"value\": r2_score(y_test_uncensored, y_pred_uncensored)})\n",
    "\n",
    "super_results = super_results.append(new_measurements, ignore_index=True)\n",
    "super_results.tail()"
   ]
  },
  {
   "cell_type": "code",
   "execution_count": null,
   "metadata": {},
   "outputs": [],
   "source": [
    "draw_coefficients(beta3_df, \"11_gamma_scaled_coefficients\")"
   ]
  },
  {
   "cell_type": "markdown",
   "metadata": {},
   "source": [
    "We can notice a few interesting differences between the qualitative conclusions this model gives us as opposed to the normal distribution model:\n",
    "* First, under the Normal distribution assumption, it seemed that the house price decreases for each additional room, but under the gamma distribution assumption, the price seems to increase.\n",
    "* Second, under the normal distribution assumption, the price seems to increase for each additional bedroom of the house, but under the gamma distribution assumption, that conclusion does not seem as certain anymore. \n",
    "\n",
    "How do we interpret these coefficients?\n",
    "\n",
    "Well, they now modify our price by a factor. Recall that our equation is now:\n",
    "\n",
    "$$y = e^{\\beta_0 + \\beta_1x_1 + ... + \\beta_nx_n}$$\n",
    "\n",
    "which is equivalent to\n",
    "\n",
    "$$y = e^{\\beta_0}\\times e^{\\beta_1x_1}\\times \\dots \\times e^{\\beta_nx_n}$$\n",
    "\n",
    "So each increase of `x_1` by one unit, will increases the house price by a factor of `e^{x_1}`.\n",
    "\n",
    "For example, the mean value for `beta_AvgRooms` is ~0.135, so each additional room will increase the house price, on average, by a factor of e^0.135 = 1.14 (so if a house cost \\\\$250,000, adding an additional room would make its value \\\\$278,500).\n",
    "\n",
    "Other parameters seem to qualitatively agree between the two models, but the model employing the gamma distribution is giving us better predictions on the unseen data.\n",
    "\n",
    "There is still the problem of run-time, however. In general, if we want to do inference in reasonable time, we have to turn to the method of variational inference. "
   ]
  },
  {
   "cell_type": "markdown",
   "metadata": {},
   "source": [
    "## Faster Run-time with SVI\n",
    "\n",
    "Pyro implements Stochastic Variational Inference (SVI) for faster inference. Under the SVI approach, instead of trying to sample from the posterior distribution directly, we simply optimize the parameters of some pre-defined distribution to match our observed data.\n",
    "\n",
    "For example, we can choose to represent all our coefficients, and rate, as normal distributions. This way SVI simply needs to find an appropriate mean and standard deviation for each normal distribution such that it agrees with our data as much as possible."
   ]
  },
  {
   "cell_type": "code",
   "execution_count": null,
   "metadata": {},
   "outputs": [],
   "source": [
    "from pyro.infer import SVI, Trace_ELBO\n",
    "from pyro.infer import Predictive\n",
    "from pyro.optim import ClippedAdam\n",
    "from pyro.infer.autoguide import AutoDiagonalNormal\n",
    "\n",
    "## Scale the data\n",
    "#X_train_scaled = my_x_scaler.fit_transform(X_train)\n",
    "#\n",
    "#y_max = y_train.max()\n",
    "#y_train_scaled = y_train/y_max\n",
    "#\n",
    "\n",
    "# Convert the data into tensors\n",
    "X_train_torch = torch.tensor(X_train_scaled)\n",
    "y_train_torch = torch.tensor(y_train_scaled)\n",
    "\n",
    "pyro.clear_param_store()\n",
    "\n",
    "# Provide a guide which fits a pre-defined distribution over each\n",
    "# hidden parameter. The AutoDiagonalNormal guide fits a normal\n",
    "# distribution over each coefficient and our rate parameter\n",
    "my_guide = AutoDiagonalNormal(model_gamma)\n",
    "\n",
    "\n",
    "# Initialize the SVI optimzation class\n",
    "my_svi = SVI(model=model_gamma,\n",
    "             guide= my_guide,\n",
    "             optim=ClippedAdam({\"lr\": 0.01, 'clip_norm': 1.0}),\n",
    "             loss=Trace_ELBO())\n",
    "\n",
    "losses = []\n",
    "\n",
    "start_time = time.time()\n",
    "\n",
    "# Perform optimization\n",
    "for i in range(5000):\n",
    "\n",
    "    loss = my_svi.step(X_train_torch,\n",
    "                       y_train_torch,  \n",
    "                       california.feature_names)\n",
    "    \n",
    "    normalized_loss = loss/X_train_torch.shape[0]\n",
    "    \n",
    "    # Tabulate the loss for plotting\n",
    "    losses.append(normalized_loss)\n",
    "    if (i % 250 == 0):\n",
    "        print(f'iter: {i}, normalized loss:{round(normalized_loss,2)}')\n",
    "        \n",
    "        "
   ]
  },
  {
   "cell_type": "code",
   "execution_count": null,
   "metadata": {},
   "outputs": [],
   "source": [
    "# To obtain samples for our coefficient distributions\n",
    "# we need to use our optimized distributions to\n",
    "# predict some new values\n",
    "predictive = Predictive(model=model_gamma,\n",
    "                        guide= my_guide,\n",
    "                        num_samples=SAMPLE_NUMBER) \n",
    "with torch.no_grad():\n",
    "    samples = predictive(X_train_torch,\n",
    "                         y_train_torch,  \n",
    "                         california.feature_names)\n",
    "\n",
    "        \n",
    "end_time = time.time()\n",
    "\n",
    "print(f'Inference ran for {round((end_time -  start_time)/60.0, 2)} minutes')"
   ]
  },
  {
   "cell_type": "code",
   "execution_count": null,
   "metadata": {},
   "outputs": [],
   "source": [
    "# TO DELETE\n",
    "new_measurements = pd.Series({\"model\": \"SVI scaled gamma\", \n",
    "                              \"measurement\": \"time\", \n",
    "                              \"censored\": True,\n",
    "                              \"value\": round(end_time -  start_time, 2)})\n",
    "\n",
    "super_results = super_results.append(new_measurements, ignore_index=True)\n",
    "super_results.tail()"
   ]
  },
  {
   "cell_type": "markdown",
   "metadata": {},
   "source": [
    "Grabbing the result from the SVI samples is a bit more involved than the MCMC samples since the samples return as a dictionary of tensors with gradients, and it also returns an additional key called `obs` which is not relevant for our analysis of the coefficients "
   ]
  },
  {
   "cell_type": "code",
   "execution_count": null,
   "metadata": {},
   "outputs": [],
   "source": [
    "samples.pop('obs').shape"
   ]
  },
  {
   "cell_type": "code",
   "execution_count": null,
   "metadata": {},
   "outputs": [],
   "source": [
    "beta_svi_df = pd.DataFrame(samples, index=range(SAMPLE_NUMBER)).applymap(lambda x: x[0].item())"
   ]
  },
  {
   "cell_type": "code",
   "execution_count": null,
   "metadata": {},
   "outputs": [],
   "source": [
    "#beta_svi_df = {}\n",
    "#for key, values in samples.items():\n",
    "#    if (\"obs\" not in key):\n",
    "#        values = values.view(values.shape[0], )\n",
    "#        \n",
    "#        beta_svi_df[key] = values.detach()\n",
    "#        \n",
    "#beta_svi_df = pd.DataFrame(beta_svi_df)\n",
    "\n"
   ]
  },
  {
   "cell_type": "code",
   "execution_count": null,
   "metadata": {},
   "outputs": [],
   "source": [
    "losses = np.array(losses)\n",
    "\n",
    "plt.figure(figsize=(15,5))\n",
    "plt.plot(np.log(losses+1))\n",
    "plt.title(\"SVI Normalized Loss\", size=20)\n",
    "plt.xlabel(\"Iteration\", size=16)\n",
    "plt.ylabel(\"LOG(Normalized Loss+1)\", size=16)\n",
    "\n",
    "plt.savefig(\"images/12_SVI_loss.svg\")\n",
    "plt.show()"
   ]
  },
  {
   "cell_type": "code",
   "execution_count": null,
   "metadata": {},
   "outputs": [],
   "source": [
    "beta_svi_df = create_beta_df(beta_svi_df, my_x_scaler, california.feature_names)\n",
    "beta_svi_df['beta_intercept'] += np.log(y_censor_label)"
   ]
  },
  {
   "cell_type": "code",
   "execution_count": null,
   "metadata": {},
   "outputs": [],
   "source": [
    "linear_combination = predict_linear_combination(beta_svi_df, X_test)"
   ]
  },
  {
   "cell_type": "code",
   "execution_count": null,
   "metadata": {},
   "outputs": [],
   "source": [
    "y_pred = np.exp(linear_combination)\n",
    "\n",
    "plot_all_observations(y_test, y_pred, y_censor_label, \"13_censored_gamma_scaled_SVI\")\n",
    "plot_uncensored_observations(y_test, y_pred, y_censor_label, \"14_uncensored_gamma_scaled_SVI\")"
   ]
  },
  {
   "cell_type": "code",
   "execution_count": null,
   "metadata": {},
   "outputs": [],
   "source": [
    "# TO DELETE\n",
    "y_pred_censored = np.where(y_pred > y_censor_label, y_censor_label, y_pred)\n",
    "\n",
    "new_measurements = pd.Series({\"model\": \"SVI scaled gamma\", \n",
    "                              \"measurement\": \"R^2\", \n",
    "                              \"censored\": True,\n",
    "                              \"value\": r2_score(y_test, y_pred_censored)})\n",
    "\n",
    "super_results = super_results.append(new_measurements, ignore_index=True)\n",
    "super_results.tail()"
   ]
  },
  {
   "cell_type": "code",
   "execution_count": null,
   "metadata": {},
   "outputs": [],
   "source": [
    "# TO DELETE\n",
    "y_test_uncensored = y_test[y_test<y_censor_label]\n",
    "y_pred_uncensored = y_pred[y_test<y_censor_label]\n",
    "\n",
    "\n",
    "new_measurements = pd.Series({\"model\": \"SVI scaled gamma\", \n",
    "                              \"measurement\": \"R^2\", \n",
    "                              \"censored\": False,\n",
    "                              \"value\": r2_score(y_test_uncensored, y_pred_uncensored)})\n",
    "\n",
    "super_results = super_results.append(new_measurements, ignore_index=True)\n",
    "super_results.tail()"
   ]
  },
  {
   "cell_type": "code",
   "execution_count": null,
   "metadata": {},
   "outputs": [],
   "source": [
    "draw_coefficients(beta_svi_df, \"15_scaled_gamma_SVI_coefficients\")"
   ]
  },
  {
   "cell_type": "code",
   "execution_count": null,
   "metadata": {},
   "outputs": [],
   "source": [
    "super_end = time.time()\n",
    "\n",
    "print(f'Notebook runtime: {round((super_end -  super_start)/60, 2)} minutes')"
   ]
  },
  {
   "cell_type": "code",
   "execution_count": null,
   "metadata": {},
   "outputs": [],
   "source": [
    "super_results"
   ]
  },
  {
   "cell_type": "code",
   "execution_count": null,
   "metadata": {},
   "outputs": [],
   "source": [
    "super_results.to_csv('experimental_measurement.csv', index=False)"
   ]
  },
  {
   "cell_type": "code",
   "execution_count": null,
   "metadata": {},
   "outputs": [],
   "source": [
    "R2_df = super_results[super_results['measurement'] == \"R^2\"]\n",
    "grouped_R2_df = R2_df.groupby(['model', 'measurement', 'censored']).agg(['mean', 'std']).reset_index()\n",
    "grouped_R2_df"
   ]
  },
  {
   "cell_type": "code",
   "execution_count": null,
   "metadata": {},
   "outputs": [],
   "source": [
    "censored_grouped_df = grouped_R2_df[grouped_R2_df['censored'] == True].sort_values(by=('value', 'mean'))\n",
    "uncensored_grouped_df = grouped_R2_df[grouped_R2_df['censored'] == False]"
   ]
  },
  {
   "cell_type": "code",
   "execution_count": null,
   "metadata": {},
   "outputs": [],
   "source": [
    "import plotly.graph_objects as go\n",
    "models = censored_grouped_df['model']\n",
    "\n",
    "fig = go.Figure(data=[\n",
    "    go.Bar(name='Full Dataset', \n",
    "           x=censored_grouped_df['model'], \n",
    "           y=np.round(censored_grouped_df['value']['mean'], 2), \n",
    "           error_y={\"array\":np.round(censored_grouped_df['value']['std'], 2)}),\n",
    "    go.Bar(name='Uncensored Dataset', \n",
    "           x=uncensored_grouped_df['model'], \n",
    "           y=round(uncensored_grouped_df['value']['mean'], 2), \n",
    "           error_y={\"array\":np.round(uncensored_grouped_df['value']['std'],2)})\n",
    "])\n",
    "# Change the bar mode\n",
    "fig.update_layout(barmode='group', \n",
    "                  title_text=\"R^2 Comparison Across Different Models\",\n",
    "                  xaxis_title=\"Model\",\n",
    "                  yaxis_title=r\"$R^2$\",\n",
    "                  legend_title=\"Censore Label\",\n",
    "                  font=dict(\n",
    "                      family=\"Courier New, monospace\",\n",
    "                      size=18)\n",
    "                 )\n",
    "fig.update_yaxes(range=(-1.5, 1.0))\n",
    "fig.show()"
   ]
  },
  {
   "cell_type": "code",
   "execution_count": null,
   "metadata": {},
   "outputs": [],
   "source": [
    "positive_censored_grouped_df = censored_grouped_df[censored_grouped_df['model'] != \"MCMC unscaled normal\"]\n",
    "positive_censored_grouped_df"
   ]
  },
  {
   "cell_type": "code",
   "execution_count": null,
   "metadata": {},
   "outputs": [],
   "source": [
    "import plotly.graph_objects as go\n",
    "models = positive_censored_grouped_df['model']\n",
    "\n",
    "fig = go.Figure(data=[\n",
    "    go.Bar(name='Full Dataset', \n",
    "           x=positive_censored_grouped_df['model'], \n",
    "           y=np.round(positive_censored_grouped_df['value']['mean'], 2), \n",
    "           error_y={\"array\":np.round(positive_censored_grouped_df['value']['std'], 2)}),\n",
    "    go.Bar(name='Uncensored Dataset', \n",
    "           x=positive_censored_grouped_df['model'], \n",
    "           y=round(positive_censored_grouped_df['value']['mean'], 2), \n",
    "           error_y={\"array\":np.round(positive_censored_grouped_df['value']['std'],2)})\n",
    "])\n",
    "# Change the bar mode\n",
    "fig.update_layout(barmode='group', \n",
    "                  title_text=\"R^2 Comparison Across Different Models\",\n",
    "                  xaxis_title=\"Model\",\n",
    "                  yaxis_title=r\"$R^2$\",\n",
    "                  legend_title=\"Censore Label\",\n",
    "                  font=dict(\n",
    "                      family=\"Courier New, monospace\",\n",
    "                      size=18)\n",
    "                 )\n",
    "#fig.update_yaxes(range=(-1.5, 1.0))\n",
    "fig.show()"
   ]
  },
  {
   "cell_type": "code",
   "execution_count": null,
   "metadata": {},
   "outputs": [],
   "source": [
    "runtime_df = super_results[super_results['measurement'] == \"time\"]\n",
    "grouped_runtime_df = runtime_df.groupby(['model', 'measurement', 'censored']).agg(['mean', 'std']).reset_index()\n",
    "grouped_runtime_df = grouped_runtime_df.sort_values(by=('value', 'mean'))"
   ]
  },
  {
   "cell_type": "code",
   "execution_count": null,
   "metadata": {},
   "outputs": [],
   "source": [
    "import plotly.graph_objects as go\n",
    "models = grouped_runtime_df['model']\n",
    "\n",
    "fig = go.Figure(data=[\n",
    "    go.Bar(x=models, \n",
    "           y=np.round(grouped_runtime_df['value']['mean']/60.0, 2), \n",
    "           error_y={\"array\":np.round(grouped_runtime_df['value']['std']/60.0, 2)})\n",
    "])\n",
    "# Change the bar mode\n",
    "fig.update_layout(barmode='group', \n",
    "                  title_text='Runtime Comparison across Different Models',\n",
    "                  xaxis_title=\"Model\",\n",
    "                  yaxis_title=\"Runtime (minutes)\",\n",
    "                  font=dict(\n",
    "                      family=\"Courier New, monospace\",\n",
    "                      size=18)\n",
    "                 )\n",
    "fig.show()"
   ]
  },
  {
   "cell_type": "code",
   "execution_count": null,
   "metadata": {},
   "outputs": [],
   "source": [
    "model_num = 5\n",
    "super_results.shape[0]//(model_num*3)"
   ]
  }
 ],
 "metadata": {
  "hide_input": false,
  "kernelspec": {
   "display_name": "Python 3",
   "language": "python",
   "name": "python3"
  },
  "language_info": {
   "codemirror_mode": {
    "name": "ipython",
    "version": 3
   },
   "file_extension": ".py",
   "mimetype": "text/x-python",
   "name": "python",
   "nbconvert_exporter": "python",
   "pygments_lexer": "ipython3",
   "version": "3.8.3"
  }
 },
 "nbformat": 4,
 "nbformat_minor": 4
}
