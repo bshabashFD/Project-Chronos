{
 "cells": [
  {
   "cell_type": "code",
   "execution_count": 1,
   "metadata": {},
   "outputs": [],
   "source": [
    "import torch\n",
    "from torch.autograd import Variable\n",
    "import torch.nn.functional as F\n",
    "import torch.utils.data as Data\n",
    "\n",
    "import matplotlib.pyplot as plt\n",
    "%matplotlib inline\n",
    "\n",
    "import numpy as np\n",
    "import pandas as pd"
   ]
  },
  {
   "cell_type": "code",
   "execution_count": 2,
   "metadata": {},
   "outputs": [],
   "source": [
    "from scipy.stats import gamma"
   ]
  },
  {
   "cell_type": "code",
   "execution_count": 3,
   "metadata": {},
   "outputs": [],
   "source": [
    "alpha = 1.0\n",
    "beta = 0.5\n",
    "\n",
    "k = 7.5\n",
    "theta = 1.0"
   ]
  },
  {
   "cell_type": "code",
   "execution_count": 4,
   "metadata": {},
   "outputs": [],
   "source": [
    "x = np.arange(0.1, 20.0, 0.1)\n",
    "y = gamma.pdf(x, a=k, scale=theta)"
   ]
  },
  {
   "cell_type": "code",
   "execution_count": 5,
   "metadata": {},
   "outputs": [
    {
     "data": {
      "text/plain": [
       "[<matplotlib.lines.Line2D at 0x1237b63d0>]"
      ]
     },
     "execution_count": 5,
     "metadata": {},
     "output_type": "execute_result"
    },
    {
     "data": {
      "image/png": "[encoded data removed]",
      "text/plain": [
       "<Figure size 432x288 with 1 Axes>"
      ]
     },
     "metadata": {
      "needs_background": "light"
     },
     "output_type": "display_data"
    }
   ],
   "source": [
    "plt.plot(x,y)"
   ]
  },
  {
   "cell_type": "code",
   "execution_count": 6,
   "metadata": {},
   "outputs": [
    {
     "data": {
      "text/plain": [
       "5.562684646268003e-309"
      ]
     },
     "execution_count": 6,
     "metadata": {},
     "output_type": "execute_result"
    }
   ],
   "source": [
    "bla = 1/np.finfo(np.float64).max\n",
    "bla"
   ]
  },
  {
   "cell_type": "code",
   "execution_count": 7,
   "metadata": {},
   "outputs": [
    {
     "data": {
      "text/plain": [
       "array([0., 0., 0., 0., 0., 0., 0., 0., 0., 0., 1., 1., 1., 1., 1., 1., 1.,\n",
       "       1., 1., 1., 1., 1., 1., 1., 1., 1., 1., 1., 1., 1., 1., 1., 1., 1.,\n",
       "       1., 1., 1., 1., 1., 1., 1., 1., 1., 1., 1., 1., 1., 1., 1., 1., 1.,\n",
       "       1., 1., 1., 1., 1., 1., 1., 1., 1., 1., 1., 1., 1., 1., 1., 1., 1.,\n",
       "       1., 1., 1., 1., 1., 1., 1., 1., 1., 1., 1., 1., 1., 1., 1., 1., 1.,\n",
       "       1., 1., 1., 1., 1., 1., 1., 1., 1., 1., 1., 1., 1., 1., 1., 1., 1.,\n",
       "       1., 1., 1., 1., 1., 1., 1., 1., 1., 1., 1., 1., 1., 1., 1., 1., 1.,\n",
       "       1., 1., 1., 1., 1., 1., 1., 1., 1., 1., 1., 1., 1., 1., 1., 1., 1.,\n",
       "       1., 1., 1., 1., 1., 1., 1., 1., 1., 1., 1., 1., 1., 1., 1., 1., 1.,\n",
       "       1., 1., 1., 1., 1., 1., 1., 1., 1., 1., 1., 1., 1., 1., 1., 1., 1.,\n",
       "       1., 1., 1., 1., 1., 1., 1., 1., 1., 1., 1., 1., 1., 1., 1., 1., 1.,\n",
       "       1., 1., 1., 1., 1., 1., 1., 1., 1., 1., 1., 1.])"
      ]
     },
     "execution_count": 7,
     "metadata": {},
     "output_type": "execute_result"
    }
   ],
   "source": [
    "gamma.cdf(x, a=bla, scale=theta)"
   ]
  },
  {
   "cell_type": "code",
   "execution_count": 8,
   "metadata": {},
   "outputs": [
    {
     "data": {
      "text/plain": [
       "[<matplotlib.lines.Line2D at 0x123866a30>]"
      ]
     },
     "execution_count": 8,
     "metadata": {},
     "output_type": "execute_result"
    },
    {
     "data": {
      "image/png": "[encoded data removed]",
      "text/plain": [
       "<Figure size 432x288 with 1 Axes>"
      ]
     },
     "metadata": {
      "needs_background": "light"
     },
     "output_type": "display_data"
    }
   ],
   "source": [
    "plt.plot(x, gamma.cdf(x, a=0.0, scale=theta))"
   ]
  },
  {
   "cell_type": "code",
   "execution_count": 9,
   "metadata": {},
   "outputs": [
    {
     "name": "stdout",
     "output_type": "stream",
     "text": [
      "7.458340731200208e-155 200\n",
      "7.458340731200208e-155 200\n",
      "7.458340731200208e-155 200\n"
     ]
    }
   ],
   "source": [
    "shape_min = 1/np.sqrt(np.finfo(np.float64).max)\n",
    "shape_max = 200\n",
    "\n",
    "scale_min = 1/np.sqrt(np.finfo(np.float64).max)\n",
    "scale_max = 200\n",
    "\n",
    "x_min = 1/np.sqrt(np.finfo(np.float64).max)\n",
    "x_max = 200\n",
    "\n",
    "print(shape_min, shape_max)\n",
    "print(scale_min, scale_max)\n",
    "print(x_min, x_max)"
   ]
  },
  {
   "cell_type": "code",
   "execution_count": 10,
   "metadata": {},
   "outputs": [
    {
     "data": {
      "text/html": [
       "<div>\n",
       "<style scoped>\n",
       "    .dataframe tbody tr th:only-of-type {\n",
       "        vertical-align: middle;\n",
       "    }\n",
       "\n",
       "    .dataframe tbody tr th {\n",
       "        vertical-align: top;\n",
       "    }\n",
       "\n",
       "    .dataframe thead th {\n",
       "        text-align: right;\n",
       "    }\n",
       "</style>\n",
       "<table border=\"1\" class=\"dataframe\">\n",
       "  <thead>\n",
       "    <tr style=\"text-align: right;\">\n",
       "      <th></th>\n",
       "      <th>shape</th>\n",
       "      <th>scale</th>\n",
       "      <th>x</th>\n",
       "      <th>y</th>\n",
       "    </tr>\n",
       "  </thead>\n",
       "  <tbody>\n",
       "  </tbody>\n",
       "</table>\n",
       "</div>"
      ],
      "text/plain": [
       "Empty DataFrame\n",
       "Columns: [shape, scale, x, y]\n",
       "Index: []"
      ]
     },
     "execution_count": 10,
     "metadata": {},
     "output_type": "execute_result"
    }
   ],
   "source": [
    "gamma_data = pd.DataFrame({\"shape\": [], \"scale\": [], \"x\": [], \"y\": []})\n",
    "gamma_data"
   ]
  },
  {
   "cell_type": "code",
   "execution_count": 17,
   "metadata": {},
   "outputs": [],
   "source": [
    "DATA_POINT_NUMBER = 1e6"
   ]
  },
  {
   "cell_type": "code",
   "execution_count": 18,
   "metadata": {},
   "outputs": [
    {
     "name": "stdout",
     "output_type": "stream",
     "text": [
      "CPU times: user 6h 32min 26s, sys: 2h 21min 31s, total: 8h 53min 57s\n",
      "Wall time: 8h 49min 57s\n"
     ]
    }
   ],
   "source": [
    "%%time\n",
    "while gamma_data.shape[0] < DATA_POINT_NUMBER:\n",
    "    new_shape = np.random.uniform(low=shape_min, high=shape_max/2.0)\n",
    "    new_scale = np.random.uniform(low=shape_min, high=shape_max/2.0)\n",
    "    new_x = np.random.uniform(low=shape_min, high=shape_max/2.0)\n",
    "    \n",
    "    new_y = gamma.cdf(x=new_x, a=new_shape, scale=new_scale)\n",
    "    \n",
    "    row_number = gamma_data.shape[0]\n",
    "    gamma_data.loc[row_number, 'shape'] = new_shape\n",
    "    gamma_data.loc[row_number, 'scale'] = new_scale\n",
    "    gamma_data.loc[row_number, 'x'] = new_x\n",
    "    gamma_data.loc[row_number, 'y'] = new_y\n",
    "    \n",
    "    print(round(100*gamma_data.shape[0]/DATA_POINT_NUMBER,2), end=\"\\r\")"
   ]
  },
  {
   "cell_type": "code",
   "execution_count": 19,
   "metadata": {},
   "outputs": [
    {
     "data": {
      "text/plain": [
       "torch.Size([1000000, 3])"
      ]
     },
     "execution_count": 19,
     "metadata": {},
     "output_type": "execute_result"
    }
   ],
   "source": [
    "x_pytorch = torch.tensor(gamma_data.iloc[:, :-1].values, dtype=torch.float32)\n",
    "x_pytorch.shape"
   ]
  },
  {
   "cell_type": "code",
   "execution_count": 20,
   "metadata": {},
   "outputs": [
    {
     "data": {
      "text/plain": [
       "torch.Size([1000000, 1])"
      ]
     },
     "execution_count": 20,
     "metadata": {},
     "output_type": "execute_result"
    }
   ],
   "source": [
    "y_pytorch = torch.tensor(gamma_data.iloc[:, -1].values, dtype=torch.float32).view(gamma_data.shape[0], -1)\n",
    "y_pytorch.shape"
   ]
  },
  {
   "cell_type": "code",
   "execution_count": null,
   "metadata": {},
   "outputs": [
    {
     "name": "stdout",
     "output_type": "stream",
     "text": [
      "13700 6 0.15463\r"
     ]
    }
   ],
   "source": [
    "net = torch.nn.Sequential(\n",
    "        torch.nn.Linear(3, 1600),\n",
    "        torch.nn.Tanh(),\n",
    "        torch.nn.Linear(1600, 1600),\n",
    "        torch.nn.Tanh(),\n",
    "        torch.nn.Linear(1600, 800),\n",
    "        torch.nn.Tanh(),\n",
    "        torch.nn.Linear(800, 800),\n",
    "        torch.nn.Tanh(),\n",
    "        torch.nn.Linear(800, 400),\n",
    "        torch.nn.Tanh(),\n",
    "        torch.nn.Linear(400, 1),\n",
    "        torch.nn.Sigmoid()\n",
    "    )\n",
    "\n",
    "optimizer = torch.optim.Adam(net.parameters(), lr=0.001)\n",
    "loss_func = torch.nn.MSELoss()  # this is for regression mean absolute error\n",
    "\n",
    "BATCH_SIZE = 64\n",
    "EPOCH = 200\n",
    "\n",
    "torch_dataset = Data.TensorDataset(x_pytorch, y_pytorch)\n",
    "\n",
    "loader = Data.DataLoader(\n",
    "    dataset=torch_dataset, \n",
    "    batch_size=BATCH_SIZE, \n",
    "    shuffle=True, num_workers=2,)\n",
    "\n",
    "losses_list = []\n",
    "# start training\n",
    "for epoch in range(EPOCH):\n",
    "    \n",
    "    epoch_loss_list = []\n",
    "    for step, (batch_x, batch_y) in enumerate(loader): # for each training step\n",
    "        \n",
    "        \n",
    "        prediction = net(batch_x)     # input x and predict based on x\n",
    "\n",
    "        loss = loss_func(prediction, batch_y)     # must be (1. nn output, 2. target)\n",
    "        if ((step % 100) == 0):\n",
    "            print(step, epoch, round(np.mean(epoch_loss_list), 5), end=\"\\r\")\n",
    "        \n",
    "        epoch_loss_list.append(np.sqrt(loss.item()))\n",
    "\n",
    "        optimizer.zero_grad()   # clear gradients for next train\n",
    "        loss.backward()         # backpropagation, compute gradients\n",
    "        optimizer.step()        # apply gradients\n",
    "        \n",
    "    losses_list.append(np.mean(epoch_loss_list))\n"
   ]
  },
  {
   "cell_type": "code",
   "execution_count": null,
   "metadata": {},
   "outputs": [],
   "source": [
    "plt.plot(losses_list);\n",
    "plt.yscale('log')"
   ]
  },
  {
   "cell_type": "code",
   "execution_count": null,
   "metadata": {},
   "outputs": [],
   "source": []
  }
 ],
 "metadata": {
  "hide_input": false,
  "kernelspec": {
   "display_name": "Python 3",
   "language": "python",
   "name": "python3"
  },
  "language_info": {
   "codemirror_mode": {
    "name": "ipython",
    "version": 3
   },
   "file_extension": ".py",
   "mimetype": "text/x-python",
   "name": "python",
   "nbconvert_exporter": "python",
   "pygments_lexer": "ipython3",
   "version": "3.8.3"
  }
 },
 "nbformat": 4,
 "nbformat_minor": 4
}
